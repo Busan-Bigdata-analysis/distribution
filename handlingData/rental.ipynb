{
 "cells": [
  {
   "cell_type": "code",
   "execution_count": 2,
   "metadata": {},
   "outputs": [],
   "source": [
    "import os\n",
    "import sys\n",
    "import urllib.request\n",
    "import datetime\n",
    "import time\n",
    "import json\n",
    "import pandas as pd\n",
    "import pymysql "
   ]
  },
  {
   "cell_type": "code",
   "execution_count": 4,
   "metadata": {},
   "outputs": [
    {
     "data": {
      "text/html": [
       "<div>\n",
       "<style scoped>\n",
       "    .dataframe tbody tr th:only-of-type {\n",
       "        vertical-align: middle;\n",
       "    }\n",
       "\n",
       "    .dataframe tbody tr th {\n",
       "        vertical-align: top;\n",
       "    }\n",
       "\n",
       "    .dataframe thead th {\n",
       "        text-align: right;\n",
       "    }\n",
       "</style>\n",
       "<table border=\"1\" class=\"dataframe\">\n",
       "  <thead>\n",
       "    <tr style=\"text-align: right;\">\n",
       "      <th></th>\n",
       "      <th>호선</th>\n",
       "      <th>역사명</th>\n",
       "      <th>상가명</th>\n",
       "      <th>업종</th>\n",
       "      <th>면적</th>\n",
       "      <th>수량</th>\n",
       "      <th>계약시작일</th>\n",
       "      <th>계약종료일</th>\n",
       "    </tr>\n",
       "  </thead>\n",
       "  <tbody>\n",
       "    <tr>\n",
       "      <th>0</th>\n",
       "      <td>1호선</td>\n",
       "      <td>다대포해수욕장</td>\n",
       "      <td>CU</td>\n",
       "      <td>브랜드편의점</td>\n",
       "      <td>53</td>\n",
       "      <td>1</td>\n",
       "      <td>2017-04-20</td>\n",
       "      <td>2022-04-19</td>\n",
       "    </tr>\n",
       "    <tr>\n",
       "      <th>1</th>\n",
       "      <td>1호선</td>\n",
       "      <td>다대포해수욕장</td>\n",
       "      <td>상가2호</td>\n",
       "      <td>상가</td>\n",
       "      <td>15</td>\n",
       "      <td>1</td>\n",
       "      <td>2019-12-03</td>\n",
       "      <td>2024-12-02</td>\n",
       "    </tr>\n",
       "    <tr>\n",
       "      <th>2</th>\n",
       "      <td>1호선</td>\n",
       "      <td>다대포항</td>\n",
       "      <td>CU</td>\n",
       "      <td>브랜드편의점</td>\n",
       "      <td>76</td>\n",
       "      <td>1</td>\n",
       "      <td>2017-04-20</td>\n",
       "      <td>2022-04-19</td>\n",
       "    </tr>\n",
       "    <tr>\n",
       "      <th>3</th>\n",
       "      <td>1호선</td>\n",
       "      <td>낫개</td>\n",
       "      <td>CU</td>\n",
       "      <td>브랜드편의점</td>\n",
       "      <td>24</td>\n",
       "      <td>1</td>\n",
       "      <td>2017-04-20</td>\n",
       "      <td>2022-04-19</td>\n",
       "    </tr>\n",
       "    <tr>\n",
       "      <th>4</th>\n",
       "      <td>1호선</td>\n",
       "      <td>신장림</td>\n",
       "      <td>CU</td>\n",
       "      <td>브랜드편의점</td>\n",
       "      <td>78</td>\n",
       "      <td>1</td>\n",
       "      <td>2017-04-20</td>\n",
       "      <td>2022-04-19</td>\n",
       "    </tr>\n",
       "  </tbody>\n",
       "</table>\n",
       "</div>"
      ],
      "text/plain": [
       "    호선      역사명   상가명      업종  면적  수량       계약시작일       계약종료일\n",
       "0  1호선  다대포해수욕장    CU  브랜드편의점  53   1  2017-04-20  2022-04-19\n",
       "1  1호선  다대포해수욕장  상가2호      상가  15   1  2019-12-03  2024-12-02\n",
       "2  1호선     다대포항    CU  브랜드편의점  76   1  2017-04-20  2022-04-19\n",
       "3  1호선       낫개    CU  브랜드편의점  24   1  2017-04-20  2022-04-19\n",
       "4  1호선      신장림    CU  브랜드편의점  78   1  2017-04-20  2022-04-19"
      ]
     },
     "execution_count": 4,
     "metadata": {},
     "output_type": "execute_result"
    }
   ],
   "source": [
    "rental = pd.read_csv('../data/부산교통공사_임대시설물 현황(2022년).csv',encoding='utf-8')\n",
    "rental.head()"
   ]
  },
  {
   "cell_type": "code",
   "execution_count": 14,
   "metadata": {},
   "outputs": [
    {
     "data": {
      "text/plain": [
       "0      False\n",
       "1      False\n",
       "2      False\n",
       "3      False\n",
       "4      False\n",
       "       ...  \n",
       "370    False\n",
       "371     True\n",
       "372    False\n",
       "373    False\n",
       "374    False\n",
       "Name: 계약시작일, Length: 375, dtype: bool"
      ]
     },
     "execution_count": 14,
     "metadata": {},
     "output_type": "execute_result"
    }
   ],
   "source": [
    "rental.계약시작일.isnull()"
   ]
  },
  {
   "cell_type": "code",
   "execution_count": 18,
   "metadata": {},
   "outputs": [
    {
     "data": {
      "text/html": [
       "<div>\n",
       "<style scoped>\n",
       "    .dataframe tbody tr th:only-of-type {\n",
       "        vertical-align: middle;\n",
       "    }\n",
       "\n",
       "    .dataframe tbody tr th {\n",
       "        vertical-align: top;\n",
       "    }\n",
       "\n",
       "    .dataframe thead th {\n",
       "        text-align: right;\n",
       "    }\n",
       "</style>\n",
       "<table border=\"1\" class=\"dataframe\">\n",
       "  <thead>\n",
       "    <tr style=\"text-align: right;\">\n",
       "      <th></th>\n",
       "      <th>호선</th>\n",
       "      <th>역사명</th>\n",
       "      <th>상가명</th>\n",
       "      <th>업종</th>\n",
       "      <th>면적</th>\n",
       "      <th>수량</th>\n",
       "      <th>계약시작일</th>\n",
       "      <th>계약종료일</th>\n",
       "    </tr>\n",
       "  </thead>\n",
       "  <tbody>\n",
       "    <tr>\n",
       "      <th>370</th>\n",
       "      <td>4호선</td>\n",
       "      <td>반여농산물시장</td>\n",
       "      <td>상가1호</td>\n",
       "      <td>상가</td>\n",
       "      <td>42</td>\n",
       "      <td>1</td>\n",
       "      <td>2017-09-11</td>\n",
       "      <td>2022-09-10</td>\n",
       "    </tr>\n",
       "    <tr>\n",
       "      <th>371</th>\n",
       "      <td>4호선</td>\n",
       "      <td>석대</td>\n",
       "      <td>상가1호</td>\n",
       "      <td>상가</td>\n",
       "      <td>10</td>\n",
       "      <td>1</td>\n",
       "      <td>NaN</td>\n",
       "      <td>NaN</td>\n",
       "    </tr>\n",
       "    <tr>\n",
       "      <th>372</th>\n",
       "      <td>4호선</td>\n",
       "      <td>영산대</td>\n",
       "      <td>상가1호</td>\n",
       "      <td>상가</td>\n",
       "      <td>9</td>\n",
       "      <td>1</td>\n",
       "      <td>2019-03-19</td>\n",
       "      <td>2024-03-18</td>\n",
       "    </tr>\n",
       "  </tbody>\n",
       "</table>\n",
       "</div>"
      ],
      "text/plain": [
       "      호선      역사명   상가명  업종  면적  수량       계약시작일       계약종료일\n",
       "370  4호선  반여농산물시장  상가1호  상가  42   1  2017-09-11  2022-09-10\n",
       "371  4호선       석대  상가1호  상가  10   1         NaN         NaN\n",
       "372  4호선      영산대  상가1호  상가   9   1  2019-03-19  2024-03-18"
      ]
     },
     "execution_count": 18,
     "metadata": {},
     "output_type": "execute_result"
    }
   ],
   "source": [
    "rental.loc[370:372]"
   ]
  },
  {
   "cell_type": "code",
   "execution_count": 30,
   "metadata": {},
   "outputs": [
    {
     "data": {
      "text/html": [
       "<div>\n",
       "<style scoped>\n",
       "    .dataframe tbody tr th:only-of-type {\n",
       "        vertical-align: middle;\n",
       "    }\n",
       "\n",
       "    .dataframe tbody tr th {\n",
       "        vertical-align: top;\n",
       "    }\n",
       "\n",
       "    .dataframe thead th {\n",
       "        text-align: right;\n",
       "    }\n",
       "</style>\n",
       "<table border=\"1\" class=\"dataframe\">\n",
       "  <thead>\n",
       "    <tr style=\"text-align: right;\">\n",
       "      <th></th>\n",
       "      <th>영업상태명</th>\n",
       "      <th>업태구분명</th>\n",
       "      <th>소재지전체주소</th>\n",
       "      <th>좌표정보(x)</th>\n",
       "      <th>좌표정보(y)</th>\n",
       "    </tr>\n",
       "  </thead>\n",
       "  <tbody>\n",
       "    <tr>\n",
       "      <th>0</th>\n",
       "      <td>영업/정상</td>\n",
       "      <td>숙박업(생활)</td>\n",
       "      <td>부산광역시 중구 남포동6가 95-1번지</td>\n",
       "      <td>384750.181192</td>\n",
       "      <td>179577.979682</td>\n",
       "    </tr>\n",
       "    <tr>\n",
       "      <th>1</th>\n",
       "      <td>영업/정상</td>\n",
       "      <td>숙박업(생활)</td>\n",
       "      <td>부산광역시 중구 신창동3가 5-5번지</td>\n",
       "      <td>384920.980936</td>\n",
       "      <td>179988.388815</td>\n",
       "    </tr>\n",
       "    <tr>\n",
       "      <th>2</th>\n",
       "      <td>영업/정상</td>\n",
       "      <td>여관업</td>\n",
       "      <td>부산광역시 중구 남포동5가 77-2번지</td>\n",
       "      <td>385011.695024</td>\n",
       "      <td>179500.445440</td>\n",
       "    </tr>\n",
       "    <tr>\n",
       "      <th>3</th>\n",
       "      <td>영업/정상</td>\n",
       "      <td>여관업</td>\n",
       "      <td>부산광역시 중구 부평동1가 41-7번지 ,8</td>\n",
       "      <td>384716.509602</td>\n",
       "      <td>179643.763677</td>\n",
       "    </tr>\n",
       "    <tr>\n",
       "      <th>4</th>\n",
       "      <td>영업/정상</td>\n",
       "      <td>일반호텔</td>\n",
       "      <td>부산광역시 중구 중앙동4가 81-8번지 외1필지</td>\n",
       "      <td>385707.828676</td>\n",
       "      <td>180730.545161</td>\n",
       "    </tr>\n",
       "  </tbody>\n",
       "</table>\n",
       "</div>"
      ],
      "text/plain": [
       "   영업상태명    업태구분명                     소재지전체주소        좌표정보(x)        좌표정보(y)\n",
       "0  영업/정상  숙박업(생활)       부산광역시 중구 남포동6가 95-1번지  384750.181192  179577.979682\n",
       "1  영업/정상  숙박업(생활)        부산광역시 중구 신창동3가 5-5번지  384920.980936  179988.388815\n",
       "2  영업/정상      여관업       부산광역시 중구 남포동5가 77-2번지  385011.695024  179500.445440\n",
       "3  영업/정상      여관업    부산광역시 중구 부평동1가 41-7번지 ,8  384716.509602  179643.763677\n",
       "4  영업/정상     일반호텔  부산광역시 중구 중앙동4가 81-8번지 외1필지  385707.828676  180730.545161"
      ]
     },
     "execution_count": 30,
     "metadata": {},
     "output_type": "execute_result"
    }
   ],
   "source": [
    "usedata = lodging.loc[:,['영업상태명','업태구분명','소재지전체주소','좌표정보(x)', '좌표정보(y)']]\n",
    "usedata.head()"
   ]
  },
  {
   "cell_type": "code",
   "execution_count": 31,
   "metadata": {},
   "outputs": [],
   "source": [
    "usedata.to_csv('../data/부산광역시_숙박업_handling.csv',encoding='utf-8')"
   ]
  }
 ],
 "metadata": {
  "kernelspec": {
   "display_name": "Python 3.10.7 64-bit (microsoft store)",
   "language": "python",
   "name": "python3"
  },
  "language_info": {
   "codemirror_mode": {
    "name": "ipython",
    "version": 3
   },
   "file_extension": ".py",
   "mimetype": "text/x-python",
   "name": "python",
   "nbconvert_exporter": "python",
   "pygments_lexer": "ipython3",
   "version": "3.10.7"
  },
  "orig_nbformat": 4,
  "vscode": {
   "interpreter": {
    "hash": "614ab989cdc66a649d1bb5ae325f2f1314093ceadee94b2deaa33c97b811aaf8"
   }
  }
 },
 "nbformat": 4,
 "nbformat_minor": 2
}
