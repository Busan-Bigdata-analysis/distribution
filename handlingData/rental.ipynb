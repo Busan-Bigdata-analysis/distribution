{
 "cells": [
  {
   "cell_type": "code",
   "execution_count": 82,
   "metadata": {},
   "outputs": [],
   "source": [
    "import pandas as pd"
   ]
  },
  {
   "cell_type": "markdown",
   "metadata": {},
   "source": [
    "### 전체 역내 상가 갯수 / 상가 면적 / 공실 면적 을 알기 위한 코드 작성"
   ]
  },
  {
   "cell_type": "markdown",
   "metadata": {},
   "source": [
    "#### 상가 정보에 대한 데이터 로드"
   ]
  },
  {
   "cell_type": "code",
   "execution_count": null,
   "metadata": {},
   "outputs": [
    {
     "data": {
      "text/html": [
       "<div>\n",
       "<style scoped>\n",
       "    .dataframe tbody tr th:only-of-type {\n",
       "        vertical-align: middle;\n",
       "    }\n",
       "\n",
       "    .dataframe tbody tr th {\n",
       "        vertical-align: top;\n",
       "    }\n",
       "\n",
       "    .dataframe thead th {\n",
       "        text-align: right;\n",
       "    }\n",
       "</style>\n",
       "<table border=\"1\" class=\"dataframe\">\n",
       "  <thead>\n",
       "    <tr style=\"text-align: right;\">\n",
       "      <th></th>\n",
       "      <th>호선</th>\n",
       "      <th>역사명</th>\n",
       "      <th>상가명</th>\n",
       "      <th>업종</th>\n",
       "      <th>면적</th>\n",
       "      <th>수량</th>\n",
       "      <th>계약시작일</th>\n",
       "      <th>계약종료일</th>\n",
       "    </tr>\n",
       "  </thead>\n",
       "  <tbody>\n",
       "    <tr>\n",
       "      <th>0</th>\n",
       "      <td>1호선</td>\n",
       "      <td>다대포해수욕장</td>\n",
       "      <td>CU</td>\n",
       "      <td>브랜드편의점</td>\n",
       "      <td>53</td>\n",
       "      <td>1</td>\n",
       "      <td>2017-04-20</td>\n",
       "      <td>2022-04-19</td>\n",
       "    </tr>\n",
       "    <tr>\n",
       "      <th>1</th>\n",
       "      <td>1호선</td>\n",
       "      <td>다대포해수욕장</td>\n",
       "      <td>상가2호</td>\n",
       "      <td>상가</td>\n",
       "      <td>15</td>\n",
       "      <td>1</td>\n",
       "      <td>2019-12-03</td>\n",
       "      <td>2024-12-02</td>\n",
       "    </tr>\n",
       "    <tr>\n",
       "      <th>2</th>\n",
       "      <td>1호선</td>\n",
       "      <td>다대포항</td>\n",
       "      <td>CU</td>\n",
       "      <td>브랜드편의점</td>\n",
       "      <td>76</td>\n",
       "      <td>1</td>\n",
       "      <td>2017-04-20</td>\n",
       "      <td>2022-04-19</td>\n",
       "    </tr>\n",
       "    <tr>\n",
       "      <th>3</th>\n",
       "      <td>1호선</td>\n",
       "      <td>낫개</td>\n",
       "      <td>CU</td>\n",
       "      <td>브랜드편의점</td>\n",
       "      <td>24</td>\n",
       "      <td>1</td>\n",
       "      <td>2017-04-20</td>\n",
       "      <td>2022-04-19</td>\n",
       "    </tr>\n",
       "    <tr>\n",
       "      <th>4</th>\n",
       "      <td>1호선</td>\n",
       "      <td>신장림</td>\n",
       "      <td>CU</td>\n",
       "      <td>브랜드편의점</td>\n",
       "      <td>78</td>\n",
       "      <td>1</td>\n",
       "      <td>2017-04-20</td>\n",
       "      <td>2022-04-19</td>\n",
       "    </tr>\n",
       "  </tbody>\n",
       "</table>\n",
       "</div>"
      ],
      "text/plain": [
       "    호선      역사명   상가명      업종  면적  수량       계약시작일       계약종료일\n",
       "0  1호선  다대포해수욕장    CU  브랜드편의점  53   1  2017-04-20  2022-04-19\n",
       "1  1호선  다대포해수욕장  상가2호      상가  15   1  2019-12-03  2024-12-02\n",
       "2  1호선     다대포항    CU  브랜드편의점  76   1  2017-04-20  2022-04-19\n",
       "3  1호선       낫개    CU  브랜드편의점  24   1  2017-04-20  2022-04-19\n",
       "4  1호선      신장림    CU  브랜드편의점  78   1  2017-04-20  2022-04-19"
      ]
     },
     "execution_count": 83,
     "metadata": {},
     "output_type": "execute_result"
    }
   ],
   "source": [
    "rental = pd.read_csv('../data/부산교통공사_임대시설물 현황(2022년).csv',encoding='cp949')\n",
    "rental.head()"
   ]
  },
  {
   "cell_type": "markdown",
   "metadata": {},
   "source": [
    "#### 미남(3) 미남(4) 와 같은 형식의 역이름을 미남 으로 변경"
   ]
  },
  {
   "cell_type": "code",
   "execution_count": 84,
   "metadata": {},
   "outputs": [
    {
     "name": "stderr",
     "output_type": "stream",
     "text": [
      "C:\\Users\\YU\\AppData\\Local\\Temp\\ipykernel_27872\\1107810427.py:3: SettingWithCopyWarning: \n",
      "A value is trying to be set on a copy of a slice from a DataFrame\n",
      "\n",
      "See the caveats in the documentation: https://pandas.pydata.org/pandas-docs/stable/user_guide/indexing.html#returning-a-view-versus-a-copy\n",
      "  rental.역사명.loc[idx] = name.split('(')[0]\n"
     ]
    },
    {
     "data": {
      "text/html": [
       "<div>\n",
       "<style scoped>\n",
       "    .dataframe tbody tr th:only-of-type {\n",
       "        vertical-align: middle;\n",
       "    }\n",
       "\n",
       "    .dataframe tbody tr th {\n",
       "        vertical-align: top;\n",
       "    }\n",
       "\n",
       "    .dataframe thead th {\n",
       "        text-align: right;\n",
       "    }\n",
       "</style>\n",
       "<table border=\"1\" class=\"dataframe\">\n",
       "  <thead>\n",
       "    <tr style=\"text-align: right;\">\n",
       "      <th></th>\n",
       "      <th>호선</th>\n",
       "      <th>역사명</th>\n",
       "      <th>상가명</th>\n",
       "      <th>업종</th>\n",
       "      <th>면적</th>\n",
       "      <th>수량</th>\n",
       "      <th>계약시작일</th>\n",
       "      <th>계약종료일</th>\n",
       "    </tr>\n",
       "  </thead>\n",
       "  <tbody>\n",
       "    <tr>\n",
       "      <th>352</th>\n",
       "      <td>3호선</td>\n",
       "      <td>미남</td>\n",
       "      <td>상가1호</td>\n",
       "      <td>상가</td>\n",
       "      <td>16</td>\n",
       "      <td>1</td>\n",
       "      <td>2020-04-27</td>\n",
       "      <td>2025-04-26</td>\n",
       "    </tr>\n",
       "    <tr>\n",
       "      <th>359</th>\n",
       "      <td>4호선</td>\n",
       "      <td>미남</td>\n",
       "      <td>상가2-1호</td>\n",
       "      <td>상가</td>\n",
       "      <td>57</td>\n",
       "      <td>1</td>\n",
       "      <td>2019-10-28</td>\n",
       "      <td>2021-10-27</td>\n",
       "    </tr>\n",
       "    <tr>\n",
       "      <th>360</th>\n",
       "      <td>4호선</td>\n",
       "      <td>미남</td>\n",
       "      <td>상가2-2호</td>\n",
       "      <td>상가</td>\n",
       "      <td>57</td>\n",
       "      <td>1</td>\n",
       "      <td>2019-10-28</td>\n",
       "      <td>2021-10-27</td>\n",
       "    </tr>\n",
       "    <tr>\n",
       "      <th>361</th>\n",
       "      <td>4호선</td>\n",
       "      <td>미남</td>\n",
       "      <td>상가 1, 2-3, 3, 4, 5, 6, 7, 8</td>\n",
       "      <td>상가</td>\n",
       "      <td>822</td>\n",
       "      <td>8</td>\n",
       "      <td>2021-01-01</td>\n",
       "      <td>2022-12-31</td>\n",
       "    </tr>\n",
       "  </tbody>\n",
       "</table>\n",
       "</div>"
      ],
      "text/plain": [
       "      호선 역사명                          상가명  업종   면적  수량       계약시작일       계약종료일\n",
       "352  3호선  미남                         상가1호  상가   16   1  2020-04-27  2025-04-26\n",
       "359  4호선  미남                       상가2-1호  상가   57   1  2019-10-28  2021-10-27\n",
       "360  4호선  미남                       상가2-2호  상가   57   1  2019-10-28  2021-10-27\n",
       "361  4호선  미남  상가 1, 2-3, 3, 4, 5, 6, 7, 8  상가  822   8  2021-01-01  2022-12-31"
      ]
     },
     "execution_count": 84,
     "metadata": {},
     "output_type": "execute_result"
    }
   ],
   "source": [
    "for idx,name in enumerate(rental.역사명):\n",
    "    if '(' in name:\n",
    "        rental.역사명.loc[idx] = name.split('(')[0]\n",
    "\n",
    "rental[rental.역사명=='미남']"
   ]
  },
  {
   "cell_type": "code",
   "execution_count": 85,
   "metadata": {},
   "outputs": [
    {
     "data": {
      "text/html": [
       "<div>\n",
       "<style scoped>\n",
       "    .dataframe tbody tr th:only-of-type {\n",
       "        vertical-align: middle;\n",
       "    }\n",
       "\n",
       "    .dataframe tbody tr th {\n",
       "        vertical-align: top;\n",
       "    }\n",
       "\n",
       "    .dataframe thead th {\n",
       "        text-align: right;\n",
       "    }\n",
       "</style>\n",
       "<table border=\"1\" class=\"dataframe\">\n",
       "  <thead>\n",
       "    <tr style=\"text-align: right;\">\n",
       "      <th></th>\n",
       "      <th>호선</th>\n",
       "      <th>역사명</th>\n",
       "      <th>상가명</th>\n",
       "      <th>업종</th>\n",
       "      <th>면적</th>\n",
       "      <th>수량</th>\n",
       "      <th>계약시작일</th>\n",
       "      <th>계약종료일</th>\n",
       "    </tr>\n",
       "  </thead>\n",
       "  <tbody>\n",
       "    <tr>\n",
       "      <th>370</th>\n",
       "      <td>4호선</td>\n",
       "      <td>반여농산물시장</td>\n",
       "      <td>상가1호</td>\n",
       "      <td>상가</td>\n",
       "      <td>42</td>\n",
       "      <td>1</td>\n",
       "      <td>2017-09-11</td>\n",
       "      <td>2022-09-10</td>\n",
       "    </tr>\n",
       "    <tr>\n",
       "      <th>371</th>\n",
       "      <td>4호선</td>\n",
       "      <td>석대</td>\n",
       "      <td>상가1호</td>\n",
       "      <td>상가</td>\n",
       "      <td>10</td>\n",
       "      <td>1</td>\n",
       "      <td>NaN</td>\n",
       "      <td>NaN</td>\n",
       "    </tr>\n",
       "    <tr>\n",
       "      <th>372</th>\n",
       "      <td>4호선</td>\n",
       "      <td>영산대</td>\n",
       "      <td>상가1호</td>\n",
       "      <td>상가</td>\n",
       "      <td>9</td>\n",
       "      <td>1</td>\n",
       "      <td>2019-03-19</td>\n",
       "      <td>2024-03-18</td>\n",
       "    </tr>\n",
       "  </tbody>\n",
       "</table>\n",
       "</div>"
      ],
      "text/plain": [
       "      호선      역사명   상가명  업종  면적  수량       계약시작일       계약종료일\n",
       "370  4호선  반여농산물시장  상가1호  상가  42   1  2017-09-11  2022-09-10\n",
       "371  4호선       석대  상가1호  상가  10   1         NaN         NaN\n",
       "372  4호선      영산대  상가1호  상가   9   1  2019-03-19  2024-03-18"
      ]
     },
     "execution_count": 85,
     "metadata": {},
     "output_type": "execute_result"
    }
   ],
   "source": [
    "rental.loc[370:372]"
   ]
  },
  {
   "cell_type": "markdown",
   "metadata": {},
   "source": [
    "#### 상가가 있는 역을 뽑고 공실은 계약 시작일을 0으로 만들어서 공실 여부 판단"
   ]
  },
  {
   "cell_type": "code",
   "execution_count": 86,
   "metadata": {},
   "outputs": [
    {
     "data": {
      "text/plain": [
       "97"
      ]
     },
     "execution_count": 86,
     "metadata": {},
     "output_type": "execute_result"
    }
   ],
   "source": [
    "station_name = list(set(rental.역사명))\n",
    "len(station_name)"
   ]
  },
  {
   "cell_type": "code",
   "execution_count": 87,
   "metadata": {},
   "outputs": [
    {
     "data": {
      "text/html": [
       "<div>\n",
       "<style scoped>\n",
       "    .dataframe tbody tr th:only-of-type {\n",
       "        vertical-align: middle;\n",
       "    }\n",
       "\n",
       "    .dataframe tbody tr th {\n",
       "        vertical-align: top;\n",
       "    }\n",
       "\n",
       "    .dataframe thead th {\n",
       "        text-align: right;\n",
       "    }\n",
       "</style>\n",
       "<table border=\"1\" class=\"dataframe\">\n",
       "  <thead>\n",
       "    <tr style=\"text-align: right;\">\n",
       "      <th></th>\n",
       "      <th>호선</th>\n",
       "      <th>역사명</th>\n",
       "      <th>상가명</th>\n",
       "      <th>업종</th>\n",
       "      <th>면적</th>\n",
       "      <th>수량</th>\n",
       "      <th>계약시작일</th>\n",
       "      <th>계약종료일</th>\n",
       "    </tr>\n",
       "  </thead>\n",
       "  <tbody>\n",
       "    <tr>\n",
       "      <th>370</th>\n",
       "      <td>4호선</td>\n",
       "      <td>반여농산물시장</td>\n",
       "      <td>상가1호</td>\n",
       "      <td>상가</td>\n",
       "      <td>42</td>\n",
       "      <td>1</td>\n",
       "      <td>2017-09-11</td>\n",
       "      <td>2022-09-10</td>\n",
       "    </tr>\n",
       "    <tr>\n",
       "      <th>371</th>\n",
       "      <td>4호선</td>\n",
       "      <td>석대</td>\n",
       "      <td>상가1호</td>\n",
       "      <td>상가</td>\n",
       "      <td>10</td>\n",
       "      <td>1</td>\n",
       "      <td>0</td>\n",
       "      <td>0</td>\n",
       "    </tr>\n",
       "    <tr>\n",
       "      <th>372</th>\n",
       "      <td>4호선</td>\n",
       "      <td>영산대</td>\n",
       "      <td>상가1호</td>\n",
       "      <td>상가</td>\n",
       "      <td>9</td>\n",
       "      <td>1</td>\n",
       "      <td>2019-03-19</td>\n",
       "      <td>2024-03-18</td>\n",
       "    </tr>\n",
       "    <tr>\n",
       "      <th>373</th>\n",
       "      <td>4호선</td>\n",
       "      <td>동부산대학</td>\n",
       "      <td>상가1호</td>\n",
       "      <td>상가</td>\n",
       "      <td>18</td>\n",
       "      <td>1</td>\n",
       "      <td>2020-03-01</td>\n",
       "      <td>2022-02-28</td>\n",
       "    </tr>\n",
       "    <tr>\n",
       "      <th>374</th>\n",
       "      <td>4호선</td>\n",
       "      <td>안평</td>\n",
       "      <td>매점</td>\n",
       "      <td>매점</td>\n",
       "      <td>10</td>\n",
       "      <td>1</td>\n",
       "      <td>2021-06-11</td>\n",
       "      <td>2026-06-10</td>\n",
       "    </tr>\n",
       "  </tbody>\n",
       "</table>\n",
       "</div>"
      ],
      "text/plain": [
       "      호선      역사명   상가명  업종  면적  수량       계약시작일       계약종료일\n",
       "370  4호선  반여농산물시장  상가1호  상가  42   1  2017-09-11  2022-09-10\n",
       "371  4호선       석대  상가1호  상가  10   1           0           0\n",
       "372  4호선      영산대  상가1호  상가   9   1  2019-03-19  2024-03-18\n",
       "373  4호선    동부산대학  상가1호  상가  18   1  2020-03-01  2022-02-28\n",
       "374  4호선       안평    매점  매점  10   1  2021-06-11  2026-06-10"
      ]
     },
     "execution_count": 87,
     "metadata": {},
     "output_type": "execute_result"
    }
   ],
   "source": [
    "rental.fillna(0,inplace=True)\n",
    "rental.tail()"
   ]
  },
  {
   "cell_type": "markdown",
   "metadata": {},
   "source": [
    "#### 상가 정보를 뽑아서 저장 할 딕셔너리(map 리스트) 지정\n",
    "\n",
    "- store_dic : { '역명':['총 상가 수','공실 상가 수','전체 상가 면적','공실 상가 면적'] }"
   ]
  },
  {
   "cell_type": "code",
   "execution_count": 88,
   "metadata": {},
   "outputs": [],
   "source": [
    "# ['1호선', '다대포해수욕장', 'CU', '브랜드편의점', 53, 1, '2017-04-20', '2022-04-19']\n",
    "\n",
    "store_dic = {}\n",
    "\n",
    "for lines in rental.iloc:\n",
    "    line = list(lines)\n",
    "    if line[3]=='주차장':\n",
    "        continue\n",
    "    if line[1] in store_dic:\n",
    "        store_dic[line[1]][0] += line[5]\n",
    "        store_dic[line[1]][2] += line[4]\n",
    "        if not line[6]:\n",
    "            store_dic[line[1]][1] += line[5]\n",
    "            store_dic[line[1]][3] += line[4]\n",
    "    else:\n",
    "        store_dic[line[1]] = [0]*4\n",
    "        store_dic[line[1]][0] += line[5]\n",
    "        store_dic[line[1]][2] += line[4]\n",
    "        if not line[6]:\n",
    "            store_dic[line[1]][1] += line[5]\n",
    "            store_dic[line[1]][3] += line[4]"
   ]
  },
  {
   "cell_type": "code",
   "execution_count": 89,
   "metadata": {},
   "outputs": [
    {
     "name": "stdout",
     "output_type": "stream",
     "text": [
      "97\n"
     ]
    }
   ],
   "source": [
    "print(len(store_dic.keys()))"
   ]
  },
  {
   "cell_type": "code",
   "execution_count": 90,
   "metadata": {},
   "outputs": [
    {
     "data": {
      "text/html": [
       "<div>\n",
       "<style scoped>\n",
       "    .dataframe tbody tr th:only-of-type {\n",
       "        vertical-align: middle;\n",
       "    }\n",
       "\n",
       "    .dataframe tbody tr th {\n",
       "        vertical-align: top;\n",
       "    }\n",
       "\n",
       "    .dataframe thead th {\n",
       "        text-align: right;\n",
       "    }\n",
       "</style>\n",
       "<table border=\"1\" class=\"dataframe\">\n",
       "  <thead>\n",
       "    <tr style=\"text-align: right;\">\n",
       "      <th></th>\n",
       "      <th>역사명</th>\n",
       "    </tr>\n",
       "  </thead>\n",
       "  <tbody>\n",
       "    <tr>\n",
       "      <th>0</th>\n",
       "      <td>다대포해수욕장</td>\n",
       "    </tr>\n",
       "    <tr>\n",
       "      <th>1</th>\n",
       "      <td>다대포항</td>\n",
       "    </tr>\n",
       "    <tr>\n",
       "      <th>2</th>\n",
       "      <td>낫개</td>\n",
       "    </tr>\n",
       "    <tr>\n",
       "      <th>3</th>\n",
       "      <td>신장림</td>\n",
       "    </tr>\n",
       "    <tr>\n",
       "      <th>4</th>\n",
       "      <td>장림</td>\n",
       "    </tr>\n",
       "  </tbody>\n",
       "</table>\n",
       "</div>"
      ],
      "text/plain": [
       "       역사명\n",
       "0  다대포해수욕장\n",
       "1     다대포항\n",
       "2       낫개\n",
       "3      신장림\n",
       "4       장림"
      ]
     },
     "execution_count": 90,
     "metadata": {},
     "output_type": "execute_result"
    }
   ],
   "source": [
    "station_store_info = pd.DataFrame({'역사명':store_dic.keys()})\n",
    "station_store_info.head()"
   ]
  },
  {
   "cell_type": "code",
   "execution_count": 91,
   "metadata": {},
   "outputs": [
    {
     "data": {
      "text/html": [
       "<div>\n",
       "<style scoped>\n",
       "    .dataframe tbody tr th:only-of-type {\n",
       "        vertical-align: middle;\n",
       "    }\n",
       "\n",
       "    .dataframe tbody tr th {\n",
       "        vertical-align: top;\n",
       "    }\n",
       "\n",
       "    .dataframe thead th {\n",
       "        text-align: right;\n",
       "    }\n",
       "</style>\n",
       "<table border=\"1\" class=\"dataframe\">\n",
       "  <thead>\n",
       "    <tr style=\"text-align: right;\">\n",
       "      <th></th>\n",
       "      <th>역사명</th>\n",
       "      <th>총 상가 수</th>\n",
       "      <th>공실 상가 수</th>\n",
       "      <th>전체 상가 면적</th>\n",
       "      <th>공실 상가 면적</th>\n",
       "    </tr>\n",
       "  </thead>\n",
       "  <tbody>\n",
       "    <tr>\n",
       "      <th>0</th>\n",
       "      <td>다대포해수욕장</td>\n",
       "      <td>None</td>\n",
       "      <td>None</td>\n",
       "      <td>None</td>\n",
       "      <td>None</td>\n",
       "    </tr>\n",
       "    <tr>\n",
       "      <th>1</th>\n",
       "      <td>다대포항</td>\n",
       "      <td>None</td>\n",
       "      <td>None</td>\n",
       "      <td>None</td>\n",
       "      <td>None</td>\n",
       "    </tr>\n",
       "    <tr>\n",
       "      <th>2</th>\n",
       "      <td>낫개</td>\n",
       "      <td>None</td>\n",
       "      <td>None</td>\n",
       "      <td>None</td>\n",
       "      <td>None</td>\n",
       "    </tr>\n",
       "    <tr>\n",
       "      <th>3</th>\n",
       "      <td>신장림</td>\n",
       "      <td>None</td>\n",
       "      <td>None</td>\n",
       "      <td>None</td>\n",
       "      <td>None</td>\n",
       "    </tr>\n",
       "    <tr>\n",
       "      <th>4</th>\n",
       "      <td>장림</td>\n",
       "      <td>None</td>\n",
       "      <td>None</td>\n",
       "      <td>None</td>\n",
       "      <td>None</td>\n",
       "    </tr>\n",
       "  </tbody>\n",
       "</table>\n",
       "</div>"
      ],
      "text/plain": [
       "       역사명 총 상가 수 공실 상가 수 전체 상가 면적 공실 상가 면적\n",
       "0  다대포해수욕장   None    None     None     None\n",
       "1     다대포항   None    None     None     None\n",
       "2       낫개   None    None     None     None\n",
       "3      신장림   None    None     None     None\n",
       "4       장림   None    None     None     None"
      ]
     },
     "execution_count": 91,
     "metadata": {},
     "output_type": "execute_result"
    }
   ],
   "source": [
    "station_store_info['총 상가 수'] = None\n",
    "station_store_info['공실 상가 수'] = None\n",
    "station_store_info['전체 상가 면적'] = None\n",
    "station_store_info['공실 상가 면적'] = None\n",
    "\n",
    "station_store_info.head()"
   ]
  },
  {
   "cell_type": "code",
   "execution_count": 92,
   "metadata": {},
   "outputs": [
    {
     "data": {
      "text/html": [
       "<div>\n",
       "<style scoped>\n",
       "    .dataframe tbody tr th:only-of-type {\n",
       "        vertical-align: middle;\n",
       "    }\n",
       "\n",
       "    .dataframe tbody tr th {\n",
       "        vertical-align: top;\n",
       "    }\n",
       "\n",
       "    .dataframe thead th {\n",
       "        text-align: right;\n",
       "    }\n",
       "</style>\n",
       "<table border=\"1\" class=\"dataframe\">\n",
       "  <thead>\n",
       "    <tr style=\"text-align: right;\">\n",
       "      <th></th>\n",
       "      <th>역사명</th>\n",
       "      <th>총 상가 수</th>\n",
       "      <th>공실 상가 수</th>\n",
       "      <th>전체 상가 면적</th>\n",
       "      <th>공실 상가 면적</th>\n",
       "    </tr>\n",
       "  </thead>\n",
       "  <tbody>\n",
       "    <tr>\n",
       "      <th>0</th>\n",
       "      <td>다대포해수욕장</td>\n",
       "      <td>2</td>\n",
       "      <td>0</td>\n",
       "      <td>68</td>\n",
       "      <td>0</td>\n",
       "    </tr>\n",
       "    <tr>\n",
       "      <th>1</th>\n",
       "      <td>다대포항</td>\n",
       "      <td>1</td>\n",
       "      <td>0</td>\n",
       "      <td>76</td>\n",
       "      <td>0</td>\n",
       "    </tr>\n",
       "    <tr>\n",
       "      <th>2</th>\n",
       "      <td>낫개</td>\n",
       "      <td>1</td>\n",
       "      <td>0</td>\n",
       "      <td>24</td>\n",
       "      <td>0</td>\n",
       "    </tr>\n",
       "    <tr>\n",
       "      <th>3</th>\n",
       "      <td>신장림</td>\n",
       "      <td>1</td>\n",
       "      <td>0</td>\n",
       "      <td>78</td>\n",
       "      <td>0</td>\n",
       "    </tr>\n",
       "    <tr>\n",
       "      <th>4</th>\n",
       "      <td>장림</td>\n",
       "      <td>1</td>\n",
       "      <td>0</td>\n",
       "      <td>24</td>\n",
       "      <td>0</td>\n",
       "    </tr>\n",
       "  </tbody>\n",
       "</table>\n",
       "</div>"
      ],
      "text/plain": [
       "       역사명 총 상가 수 공실 상가 수 전체 상가 면적 공실 상가 면적\n",
       "0  다대포해수욕장      2       0       68        0\n",
       "1     다대포항      1       0       76        0\n",
       "2       낫개      1       0       24        0\n",
       "3      신장림      1       0       78        0\n",
       "4       장림      1       0       24        0"
      ]
     },
     "execution_count": 92,
     "metadata": {},
     "output_type": "execute_result"
    }
   ],
   "source": [
    "# [2, 0, 68, 0]\n",
    "\n",
    "for idx,line in enumerate(store_dic.values()):\n",
    "    station_store_info['총 상가 수'].iloc[idx] = line[0]\n",
    "    station_store_info['공실 상가 수'].iloc[idx] = line[1]\n",
    "    station_store_info['전체 상가 면적'].iloc[idx] = line[2]\n",
    "    station_store_info['공실 상가 면적'].iloc[idx] = line[3]\n",
    "\n",
    "station_store_info.head()"
   ]
  },
  {
   "cell_type": "code",
   "execution_count": 93,
   "metadata": {},
   "outputs": [],
   "source": [
    "station_store_info.to_csv('../data/total_data/지하철_상가_임대_정보.csv',encoding='cp949')"
   ]
  },
  {
   "cell_type": "code",
   "execution_count": null,
   "metadata": {},
   "outputs": [],
   "source": []
  }
 ],
 "metadata": {
  "kernelspec": {
   "display_name": "Python 3.9.12 ('base')",
   "language": "python",
   "name": "python3"
  },
  "language_info": {
   "codemirror_mode": {
    "name": "ipython",
    "version": 3
   },
   "file_extension": ".py",
   "mimetype": "text/x-python",
   "name": "python",
   "nbconvert_exporter": "python",
   "pygments_lexer": "ipython3",
   "version": "3.9.12"
  },
  "orig_nbformat": 4,
  "vscode": {
   "interpreter": {
    "hash": "b5d55ac883f03898817f7550c06aefbb4d2b5c680cfac43261613d951921747b"
   }
  }
 },
 "nbformat": 4,
 "nbformat_minor": 2
}
