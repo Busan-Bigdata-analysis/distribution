{
 "cells": [
  {
   "cell_type": "code",
   "execution_count": 2,
   "metadata": {},
   "outputs": [],
   "source": [
    "import numpy as np\n",
    "import pandas as pd\n",
    "import scipy as su\n",
    "\n",
    "import matplotlib as mpl\n",
    "import matplotlib.pyplot as plt\n",
    "import seaborn as sns"
   ]
  },
  {
   "cell_type": "markdown",
   "metadata": {},
   "source": [
    "### 데이터 표준화"
   ]
  },
  {
   "cell_type": "code",
   "execution_count": 46,
   "metadata": {},
   "outputs": [
    {
     "data": {
      "text/html": [
       "<div>\n",
       "<style scoped>\n",
       "    .dataframe tbody tr th:only-of-type {\n",
       "        vertical-align: middle;\n",
       "    }\n",
       "\n",
       "    .dataframe tbody tr th {\n",
       "        vertical-align: top;\n",
       "    }\n",
       "\n",
       "    .dataframe thead th {\n",
       "        text-align: right;\n",
       "    }\n",
       "</style>\n",
       "<table border=\"1\" class=\"dataframe\">\n",
       "  <thead>\n",
       "    <tr style=\"text-align: right;\">\n",
       "      <th></th>\n",
       "      <th>역사명</th>\n",
       "      <th>동별</th>\n",
       "      <th>호선</th>\n",
       "      <th>환승</th>\n",
       "      <th>역위도</th>\n",
       "      <th>역경도</th>\n",
       "      <th>일평균승차</th>\n",
       "      <th>일평균하차</th>\n",
       "      <th>일평균승하차</th>\n",
       "      <th>순위</th>\n",
       "      <th>하행 대기시간</th>\n",
       "      <th>상행 대기시간</th>\n",
       "      <th>상가 갯수</th>\n",
       "      <th>사용중인 상가</th>\n",
       "      <th>비어있는 상가</th>\n",
       "      <th>구군별</th>\n",
       "      <th>소계</th>\n",
       "      <th>1인가구수</th>\n",
       "      <th>업장 수</th>\n",
       "    </tr>\n",
       "  </thead>\n",
       "  <tbody>\n",
       "    <tr>\n",
       "      <th>0</th>\n",
       "      <td>다대포해수욕장</td>\n",
       "      <td>다대1동</td>\n",
       "      <td>1.0</td>\n",
       "      <td>NaN</td>\n",
       "      <td>35.048670</td>\n",
       "      <td>128.964100</td>\n",
       "      <td>4264.0</td>\n",
       "      <td>3497.0</td>\n",
       "      <td>7761.0</td>\n",
       "      <td>69.0</td>\n",
       "      <td>20.0</td>\n",
       "      <td>0.0</td>\n",
       "      <td>2.0</td>\n",
       "      <td>2.0</td>\n",
       "      <td>0.0</td>\n",
       "      <td>사하구</td>\n",
       "      <td>16941.0</td>\n",
       "      <td>6298.0</td>\n",
       "      <td>345.0</td>\n",
       "    </tr>\n",
       "    <tr>\n",
       "      <th>1</th>\n",
       "      <td>다대포항</td>\n",
       "      <td>다대1동</td>\n",
       "      <td>1.0</td>\n",
       "      <td>NaN</td>\n",
       "      <td>35.057820</td>\n",
       "      <td>128.971300</td>\n",
       "      <td>2900.0</td>\n",
       "      <td>3321.0</td>\n",
       "      <td>6221.0</td>\n",
       "      <td>80.0</td>\n",
       "      <td>20.0</td>\n",
       "      <td>20.0</td>\n",
       "      <td>1.0</td>\n",
       "      <td>1.0</td>\n",
       "      <td>0.0</td>\n",
       "      <td>사하구</td>\n",
       "      <td>16941.0</td>\n",
       "      <td>6298.0</td>\n",
       "      <td>345.0</td>\n",
       "    </tr>\n",
       "    <tr>\n",
       "      <th>2</th>\n",
       "      <td>낫개</td>\n",
       "      <td>다대2동</td>\n",
       "      <td>1.0</td>\n",
       "      <td>NaN</td>\n",
       "      <td>35.065265</td>\n",
       "      <td>128.979873</td>\n",
       "      <td>4104.0</td>\n",
       "      <td>4223.0</td>\n",
       "      <td>8327.0</td>\n",
       "      <td>64.0</td>\n",
       "      <td>20.0</td>\n",
       "      <td>20.0</td>\n",
       "      <td>1.0</td>\n",
       "      <td>1.0</td>\n",
       "      <td>0.0</td>\n",
       "      <td>사하구</td>\n",
       "      <td>12110.0</td>\n",
       "      <td>4651.0</td>\n",
       "      <td>246.0</td>\n",
       "    </tr>\n",
       "    <tr>\n",
       "      <th>3</th>\n",
       "      <td>신장림</td>\n",
       "      <td>장림2동</td>\n",
       "      <td>1.0</td>\n",
       "      <td>NaN</td>\n",
       "      <td>35.074433</td>\n",
       "      <td>128.977041</td>\n",
       "      <td>2777.0</td>\n",
       "      <td>2583.0</td>\n",
       "      <td>5360.0</td>\n",
       "      <td>91.0</td>\n",
       "      <td>20.0</td>\n",
       "      <td>20.0</td>\n",
       "      <td>1.0</td>\n",
       "      <td>1.0</td>\n",
       "      <td>0.0</td>\n",
       "      <td>사하구</td>\n",
       "      <td>11905.0</td>\n",
       "      <td>4165.0</td>\n",
       "      <td>302.0</td>\n",
       "    </tr>\n",
       "    <tr>\n",
       "      <th>4</th>\n",
       "      <td>장림</td>\n",
       "      <td>장림2동</td>\n",
       "      <td>1.0</td>\n",
       "      <td>NaN</td>\n",
       "      <td>35.081090</td>\n",
       "      <td>128.977500</td>\n",
       "      <td>2854.0</td>\n",
       "      <td>2636.0</td>\n",
       "      <td>5490.0</td>\n",
       "      <td>89.0</td>\n",
       "      <td>20.0</td>\n",
       "      <td>20.0</td>\n",
       "      <td>1.0</td>\n",
       "      <td>1.0</td>\n",
       "      <td>0.0</td>\n",
       "      <td>사하구</td>\n",
       "      <td>11905.0</td>\n",
       "      <td>4165.0</td>\n",
       "      <td>302.0</td>\n",
       "    </tr>\n",
       "  </tbody>\n",
       "</table>\n",
       "</div>"
      ],
      "text/plain": [
       "       역사명    동별   호선  환승        역위도         역경도   일평균승차   일평균하차  일평균승하차  \\\n",
       "0  다대포해수욕장  다대1동  1.0 NaN  35.048670  128.964100  4264.0  3497.0  7761.0   \n",
       "1     다대포항  다대1동  1.0 NaN  35.057820  128.971300  2900.0  3321.0  6221.0   \n",
       "2       낫개  다대2동  1.0 NaN  35.065265  128.979873  4104.0  4223.0  8327.0   \n",
       "3      신장림  장림2동  1.0 NaN  35.074433  128.977041  2777.0  2583.0  5360.0   \n",
       "4       장림  장림2동  1.0 NaN  35.081090  128.977500  2854.0  2636.0  5490.0   \n",
       "\n",
       "     순위  하행 대기시간  상행 대기시간  상가 갯수  사용중인 상가  비어있는 상가  구군별       소계   1인가구수  \\\n",
       "0  69.0     20.0      0.0    2.0      2.0      0.0  사하구  16941.0  6298.0   \n",
       "1  80.0     20.0     20.0    1.0      1.0      0.0  사하구  16941.0  6298.0   \n",
       "2  64.0     20.0     20.0    1.0      1.0      0.0  사하구  12110.0  4651.0   \n",
       "3  91.0     20.0     20.0    1.0      1.0      0.0  사하구  11905.0  4165.0   \n",
       "4  89.0     20.0     20.0    1.0      1.0      0.0  사하구  11905.0  4165.0   \n",
       "\n",
       "    업장 수  \n",
       "0  345.0  \n",
       "1  345.0  \n",
       "2  246.0  \n",
       "3  302.0  \n",
       "4  302.0  "
      ]
     },
     "execution_count": 46,
     "metadata": {},
     "output_type": "execute_result"
    }
   ],
   "source": [
    "data = pd.read_csv('data/orginal_데이터_합본.csv', encoding='cp949', index_col=0)\n",
    "data.head()"
   ]
  },
  {
   "cell_type": "code",
   "execution_count": 47,
   "metadata": {},
   "outputs": [
    {
     "data": {
      "text/plain": [
       "역사명        0\n",
       "동별         0\n",
       "호선         0\n",
       "환승         0\n",
       "역위도        0\n",
       "역경도        0\n",
       "일평균승차      0\n",
       "일평균하차      0\n",
       "일평균승하차     0\n",
       "순위         0\n",
       "하행 대기시간    0\n",
       "상행 대기시간    0\n",
       "상가 갯수      0\n",
       "사용중인 상가    0\n",
       "비어있는 상가    0\n",
       "구군별        0\n",
       "소계         0\n",
       "1인가구수      0\n",
       "업장 수       0\n",
       "dtype: int64"
      ]
     },
     "execution_count": 47,
     "metadata": {},
     "output_type": "execute_result"
    }
   ],
   "source": [
    "data = data.fillna(0)\n",
    "data.isnull().sum()"
   ]
  },
  {
   "cell_type": "markdown",
   "metadata": {},
   "source": [
    "- 특성"
   ]
  },
  {
   "cell_type": "code",
   "execution_count": 48,
   "metadata": {},
   "outputs": [],
   "source": [
    "data_all = data[['일평균승하차','상가 갯수','사용중인 상가','비어있는 상가','소계','1인가구수','업장 수']].to_numpy()"
   ]
  },
  {
   "cell_type": "code",
   "execution_count": 49,
   "metadata": {},
   "outputs": [
    {
     "data": {
      "text/html": [
       "<style>#sk-container-id-4 {color: black;background-color: white;}#sk-container-id-4 pre{padding: 0;}#sk-container-id-4 div.sk-toggleable {background-color: white;}#sk-container-id-4 label.sk-toggleable__label {cursor: pointer;display: block;width: 100%;margin-bottom: 0;padding: 0.3em;box-sizing: border-box;text-align: center;}#sk-container-id-4 label.sk-toggleable__label-arrow:before {content: \"▸\";float: left;margin-right: 0.25em;color: #696969;}#sk-container-id-4 label.sk-toggleable__label-arrow:hover:before {color: black;}#sk-container-id-4 div.sk-estimator:hover label.sk-toggleable__label-arrow:before {color: black;}#sk-container-id-4 div.sk-toggleable__content {max-height: 0;max-width: 0;overflow: hidden;text-align: left;background-color: #f0f8ff;}#sk-container-id-4 div.sk-toggleable__content pre {margin: 0.2em;color: black;border-radius: 0.25em;background-color: #f0f8ff;}#sk-container-id-4 input.sk-toggleable__control:checked~div.sk-toggleable__content {max-height: 200px;max-width: 100%;overflow: auto;}#sk-container-id-4 input.sk-toggleable__control:checked~label.sk-toggleable__label-arrow:before {content: \"▾\";}#sk-container-id-4 div.sk-estimator input.sk-toggleable__control:checked~label.sk-toggleable__label {background-color: #d4ebff;}#sk-container-id-4 div.sk-label input.sk-toggleable__control:checked~label.sk-toggleable__label {background-color: #d4ebff;}#sk-container-id-4 input.sk-hidden--visually {border: 0;clip: rect(1px 1px 1px 1px);clip: rect(1px, 1px, 1px, 1px);height: 1px;margin: -1px;overflow: hidden;padding: 0;position: absolute;width: 1px;}#sk-container-id-4 div.sk-estimator {font-family: monospace;background-color: #f0f8ff;border: 1px dotted black;border-radius: 0.25em;box-sizing: border-box;margin-bottom: 0.5em;}#sk-container-id-4 div.sk-estimator:hover {background-color: #d4ebff;}#sk-container-id-4 div.sk-parallel-item::after {content: \"\";width: 100%;border-bottom: 1px solid gray;flex-grow: 1;}#sk-container-id-4 div.sk-label:hover label.sk-toggleable__label {background-color: #d4ebff;}#sk-container-id-4 div.sk-serial::before {content: \"\";position: absolute;border-left: 1px solid gray;box-sizing: border-box;top: 0;bottom: 0;left: 50%;z-index: 0;}#sk-container-id-4 div.sk-serial {display: flex;flex-direction: column;align-items: center;background-color: white;padding-right: 0.2em;padding-left: 0.2em;position: relative;}#sk-container-id-4 div.sk-item {position: relative;z-index: 1;}#sk-container-id-4 div.sk-parallel {display: flex;align-items: stretch;justify-content: center;background-color: white;position: relative;}#sk-container-id-4 div.sk-item::before, #sk-container-id-4 div.sk-parallel-item::before {content: \"\";position: absolute;border-left: 1px solid gray;box-sizing: border-box;top: 0;bottom: 0;left: 50%;z-index: -1;}#sk-container-id-4 div.sk-parallel-item {display: flex;flex-direction: column;z-index: 1;position: relative;background-color: white;}#sk-container-id-4 div.sk-parallel-item:first-child::after {align-self: flex-end;width: 50%;}#sk-container-id-4 div.sk-parallel-item:last-child::after {align-self: flex-start;width: 50%;}#sk-container-id-4 div.sk-parallel-item:only-child::after {width: 0;}#sk-container-id-4 div.sk-dashed-wrapped {border: 1px dashed gray;margin: 0 0.4em 0.5em 0.4em;box-sizing: border-box;padding-bottom: 0.4em;background-color: white;}#sk-container-id-4 div.sk-label label {font-family: monospace;font-weight: bold;display: inline-block;line-height: 1.2em;}#sk-container-id-4 div.sk-label-container {text-align: center;}#sk-container-id-4 div.sk-container {/* jupyter's `normalize.less` sets `[hidden] { display: none; }` but bootstrap.min.css set `[hidden] { display: none !important; }` so we also need the `!important` here to be able to override the default hidden behavior on the sphinx rendered scikit-learn.org. See: https://github.com/scikit-learn/scikit-learn/issues/21755 */display: inline-block !important;position: relative;}#sk-container-id-4 div.sk-text-repr-fallback {display: none;}</style><div id=\"sk-container-id-4\" class=\"sk-top-container\"><div class=\"sk-text-repr-fallback\"><pre>StandardScaler()</pre><b>In a Jupyter environment, please rerun this cell to show the HTML representation or trust the notebook. <br />On GitHub, the HTML representation is unable to render, please try loading this page with nbviewer.org.</b></div><div class=\"sk-container\" hidden><div class=\"sk-item\"><div class=\"sk-estimator sk-toggleable\"><input class=\"sk-toggleable__control sk-hidden--visually\" id=\"sk-estimator-id-4\" type=\"checkbox\" checked><label for=\"sk-estimator-id-4\" class=\"sk-toggleable__label sk-toggleable__label-arrow\">StandardScaler</label><div class=\"sk-toggleable__content\"><pre>StandardScaler()</pre></div></div></div></div></div>"
      ],
      "text/plain": [
       "StandardScaler()"
      ]
     },
     "execution_count": 49,
     "metadata": {},
     "output_type": "execute_result"
    }
   ],
   "source": [
    "from sklearn.preprocessing import StandardScaler\n",
    "\n",
    "ss = StandardScaler()\n",
    "ss.fit(data_all)"
   ]
  },
  {
   "cell_type": "code",
   "execution_count": 50,
   "metadata": {},
   "outputs": [],
   "source": [
    "data_scaled = ss.transform(data_all)"
   ]
  },
  {
   "cell_type": "code",
   "execution_count": 52,
   "metadata": {},
   "outputs": [
    {
     "data": {
      "text/plain": [
       "array([[-0.52517158, -0.07897767, -0.01012525, -0.29417336,  2.07685608,\n",
       "         1.41384763,  0.01523727],\n",
       "       [-0.67206267, -0.28844018, -0.25718147, -0.29417336,  2.07685608,\n",
       "         1.41384763,  0.01523727],\n",
       "       [-0.47118434, -0.28844018, -0.25718147, -0.29417336,  0.93407587,\n",
       "         0.55314341, -0.262343  ],\n",
       "       [-0.75418813, -0.28844018, -0.25718147, -0.29417336,  0.88558282,\n",
       "         0.29916512, -0.1053279 ],\n",
       "       [-0.74178824, -0.28844018, -0.25718147, -0.29417336,  0.88558282,\n",
       "         0.29916512, -0.1053279 ],\n",
       "       [-0.63801064, -0.28844018, -0.25718147, -0.29417336,  0.01081544,\n",
       "         0.06295485, -0.32963519],\n",
       "       [-0.18627287,  1.3872599 ,  0.9780996 ,  2.33186201, -0.13348096,\n",
       "        -0.61536578, -0.45580803],\n",
       "       [ 1.50831607,  1.59672241,  1.96632445, -0.29417336,  0.57002314,\n",
       "         0.67595184,  0.09654866],\n",
       "       [-0.22299564,  0.33994735, -0.01012525,  1.45651689,  0.7632857 ,\n",
       "         0.09640055,  0.20309462],\n",
       "       [-0.59384793, -0.49790269, -0.50423768, -0.29417336, -0.63213148,\n",
       "        -0.81813034, -0.43337731]])"
      ]
     },
     "execution_count": 52,
     "metadata": {},
     "output_type": "execute_result"
    }
   ],
   "source": [
    "data_scaled[:10]"
   ]
  },
  {
   "cell_type": "code",
   "execution_count": 53,
   "metadata": {},
   "outputs": [
    {
     "data": {
      "text/html": [
       "<div>\n",
       "<style scoped>\n",
       "    .dataframe tbody tr th:only-of-type {\n",
       "        vertical-align: middle;\n",
       "    }\n",
       "\n",
       "    .dataframe tbody tr th {\n",
       "        vertical-align: top;\n",
       "    }\n",
       "\n",
       "    .dataframe thead th {\n",
       "        text-align: right;\n",
       "    }\n",
       "</style>\n",
       "<table border=\"1\" class=\"dataframe\">\n",
       "  <thead>\n",
       "    <tr style=\"text-align: right;\">\n",
       "      <th></th>\n",
       "      <th>일평균승하차</th>\n",
       "      <th>상가 갯수</th>\n",
       "      <th>사용중인 상가</th>\n",
       "      <th>비어있는 상가</th>\n",
       "      <th>소계</th>\n",
       "      <th>1인가구수</th>\n",
       "      <th>업장 수</th>\n",
       "    </tr>\n",
       "  </thead>\n",
       "  <tbody>\n",
       "    <tr>\n",
       "      <th>0</th>\n",
       "      <td>-0.525172</td>\n",
       "      <td>-0.078978</td>\n",
       "      <td>-0.010125</td>\n",
       "      <td>-0.294173</td>\n",
       "      <td>2.076856</td>\n",
       "      <td>1.413848</td>\n",
       "      <td>0.015237</td>\n",
       "    </tr>\n",
       "    <tr>\n",
       "      <th>1</th>\n",
       "      <td>-0.672063</td>\n",
       "      <td>-0.288440</td>\n",
       "      <td>-0.257181</td>\n",
       "      <td>-0.294173</td>\n",
       "      <td>2.076856</td>\n",
       "      <td>1.413848</td>\n",
       "      <td>0.015237</td>\n",
       "    </tr>\n",
       "    <tr>\n",
       "      <th>2</th>\n",
       "      <td>-0.471184</td>\n",
       "      <td>-0.288440</td>\n",
       "      <td>-0.257181</td>\n",
       "      <td>-0.294173</td>\n",
       "      <td>0.934076</td>\n",
       "      <td>0.553143</td>\n",
       "      <td>-0.262343</td>\n",
       "    </tr>\n",
       "    <tr>\n",
       "      <th>3</th>\n",
       "      <td>-0.754188</td>\n",
       "      <td>-0.288440</td>\n",
       "      <td>-0.257181</td>\n",
       "      <td>-0.294173</td>\n",
       "      <td>0.885583</td>\n",
       "      <td>0.299165</td>\n",
       "      <td>-0.105328</td>\n",
       "    </tr>\n",
       "    <tr>\n",
       "      <th>4</th>\n",
       "      <td>-0.741788</td>\n",
       "      <td>-0.288440</td>\n",
       "      <td>-0.257181</td>\n",
       "      <td>-0.294173</td>\n",
       "      <td>0.885583</td>\n",
       "      <td>0.299165</td>\n",
       "      <td>-0.105328</td>\n",
       "    </tr>\n",
       "    <tr>\n",
       "      <th>...</th>\n",
       "      <td>...</td>\n",
       "      <td>...</td>\n",
       "      <td>...</td>\n",
       "      <td>...</td>\n",
       "      <td>...</td>\n",
       "      <td>...</td>\n",
       "      <td>...</td>\n",
       "    </tr>\n",
       "    <tr>\n",
       "      <th>117</th>\n",
       "      <td>-1.232443</td>\n",
       "      <td>-0.288440</td>\n",
       "      <td>-0.504238</td>\n",
       "      <td>0.581172</td>\n",
       "      <td>-0.068193</td>\n",
       "      <td>0.437651</td>\n",
       "      <td>-0.506277</td>\n",
       "    </tr>\n",
       "    <tr>\n",
       "      <th>118</th>\n",
       "      <td>-0.807985</td>\n",
       "      <td>-0.288440</td>\n",
       "      <td>-0.257181</td>\n",
       "      <td>-0.294173</td>\n",
       "      <td>-0.068193</td>\n",
       "      <td>0.437651</td>\n",
       "      <td>-0.506277</td>\n",
       "    </tr>\n",
       "    <tr>\n",
       "      <th>119</th>\n",
       "      <td>-0.853387</td>\n",
       "      <td>-0.497903</td>\n",
       "      <td>-0.504238</td>\n",
       "      <td>-0.294173</td>\n",
       "      <td>0.888185</td>\n",
       "      <td>1.120153</td>\n",
       "      <td>-0.338047</td>\n",
       "    </tr>\n",
       "    <tr>\n",
       "      <th>120</th>\n",
       "      <td>-1.168535</td>\n",
       "      <td>-0.497903</td>\n",
       "      <td>-0.504238</td>\n",
       "      <td>-0.294173</td>\n",
       "      <td>-1.930563</td>\n",
       "      <td>-1.877418</td>\n",
       "      <td>-0.952088</td>\n",
       "    </tr>\n",
       "    <tr>\n",
       "      <th>121</th>\n",
       "      <td>-0.934273</td>\n",
       "      <td>-0.288440</td>\n",
       "      <td>-0.257181</td>\n",
       "      <td>-0.294173</td>\n",
       "      <td>-1.930563</td>\n",
       "      <td>-1.877418</td>\n",
       "      <td>-0.952088</td>\n",
       "    </tr>\n",
       "  </tbody>\n",
       "</table>\n",
       "<p>122 rows × 7 columns</p>\n",
       "</div>"
      ],
      "text/plain": [
       "       일평균승하차     상가 갯수   사용중인 상가   비어있는 상가        소계     1인가구수      업장 수\n",
       "0   -0.525172 -0.078978 -0.010125 -0.294173  2.076856  1.413848  0.015237\n",
       "1   -0.672063 -0.288440 -0.257181 -0.294173  2.076856  1.413848  0.015237\n",
       "2   -0.471184 -0.288440 -0.257181 -0.294173  0.934076  0.553143 -0.262343\n",
       "3   -0.754188 -0.288440 -0.257181 -0.294173  0.885583  0.299165 -0.105328\n",
       "4   -0.741788 -0.288440 -0.257181 -0.294173  0.885583  0.299165 -0.105328\n",
       "..        ...       ...       ...       ...       ...       ...       ...\n",
       "117 -1.232443 -0.288440 -0.504238  0.581172 -0.068193  0.437651 -0.506277\n",
       "118 -0.807985 -0.288440 -0.257181 -0.294173 -0.068193  0.437651 -0.506277\n",
       "119 -0.853387 -0.497903 -0.504238 -0.294173  0.888185  1.120153 -0.338047\n",
       "120 -1.168535 -0.497903 -0.504238 -0.294173 -1.930563 -1.877418 -0.952088\n",
       "121 -0.934273 -0.288440 -0.257181 -0.294173 -1.930563 -1.877418 -0.952088\n",
       "\n",
       "[122 rows x 7 columns]"
      ]
     },
     "execution_count": 53,
     "metadata": {},
     "output_type": "execute_result"
    }
   ],
   "source": [
    "data_pd = pd.DataFrame(data_scaled, columns=['일평균승하차','상가 갯수','사용중인 상가','비어있는 상가','소계','1인가구수','업장 수'])\n",
    "data_pd"
   ]
  },
  {
   "cell_type": "code",
   "execution_count": 54,
   "metadata": {},
   "outputs": [],
   "source": [
    "data_corr = data_pd.corr()"
   ]
  },
  {
   "cell_type": "code",
   "execution_count": 55,
   "metadata": {},
   "outputs": [],
   "source": [
    "plt.rc('font', family='Malgun Gothic')\n",
    "sns.set(font='Malgun Gothic', rc={'axes.unicode_minus':False}, style='darkgrid')"
   ]
  },
  {
   "cell_type": "markdown",
   "metadata": {},
   "source": [
    "### 히트맵"
   ]
  },
  {
   "cell_type": "code",
   "execution_count": 56,
   "metadata": {},
   "outputs": [
    {
     "data": {
      "image/png": "[encoded data removed]",
      "text/plain": [
       "<Figure size 1080x1080 with 2 Axes>"
      ]
     },
     "metadata": {},
     "output_type": "display_data"
    }
   ],
   "source": [
    "plt.figure(figsize=(15,15))\n",
    "color_map = plt.cm.RdBu\n",
    "\n",
    "sns.heatmap(data_corr, annot=True, fmt='.5f', linewidths=0.1, cmap=color_map)\n",
    "plt.show()"
   ]
  },
  {
   "cell_type": "code",
   "execution_count": null,
   "metadata": {},
   "outputs": [],
   "source": []
  }
 ],
 "metadata": {
  "kernelspec": {
   "display_name": "Python 3.10.8 64-bit",
   "language": "python",
   "name": "python3"
  },
  "language_info": {
   "codemirror_mode": {
    "name": "ipython",
    "version": 3
   },
   "file_extension": ".py",
   "mimetype": "text/x-python",
   "name": "python",
   "nbconvert_exporter": "python",
   "pygments_lexer": "ipython3",
   "version": "3.10.8"
  },
  "orig_nbformat": 4,
  "vscode": {
   "interpreter": {
    "hash": "beedbe2faf2f7048d727558d0bc3221e7eba2a0b921cac4d4771b2feb8f74b30"
   }
  }
 },
 "nbformat": 4,
 "nbformat_minor": 2
}
