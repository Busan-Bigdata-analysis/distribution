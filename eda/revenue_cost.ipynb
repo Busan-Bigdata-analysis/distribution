{
 "cells": [
  {
   "cell_type": "markdown",
   "metadata": {},
   "source": [
    "# 부산교통공사 재무제표 EDA"
   ]
  },
  {
   "cell_type": "markdown",
   "metadata": {},
   "source": [
    "## 데이터 불러오기\n",
    "- 단위 : 백만원"
   ]
  },
  {
   "cell_type": "code",
   "execution_count": 11,
   "metadata": {},
   "outputs": [],
   "source": [
    "import pandas as pd\n",
    "import numpy as np"
   ]
  },
  {
   "cell_type": "code",
   "execution_count": 12,
   "metadata": {},
   "outputs": [
    {
     "data": {
      "text/html": [
       "<div>\n",
       "<style scoped>\n",
       "    .dataframe tbody tr th:only-of-type {\n",
       "        vertical-align: middle;\n",
       "    }\n",
       "\n",
       "    .dataframe tbody tr th {\n",
       "        vertical-align: top;\n",
       "    }\n",
       "\n",
       "    .dataframe thead th {\n",
       "        text-align: right;\n",
       "    }\n",
       "</style>\n",
       "<table border=\"1\" class=\"dataframe\">\n",
       "  <thead>\n",
       "    <tr style=\"text-align: right;\">\n",
       "      <th></th>\n",
       "      <th>영업수익명</th>\n",
       "      <th>2010년</th>\n",
       "      <th>2011년</th>\n",
       "      <th>2012년</th>\n",
       "      <th>2013년</th>\n",
       "      <th>2014년</th>\n",
       "      <th>2015년</th>\n",
       "      <th>2016년</th>\n",
       "      <th>2017년</th>\n",
       "      <th>2018년</th>\n",
       "      <th>2019년</th>\n",
       "      <th>2020년</th>\n",
       "      <th>2021년</th>\n",
       "      <th>2022년 반기</th>\n",
       "    </tr>\n",
       "  </thead>\n",
       "  <tbody>\n",
       "    <tr>\n",
       "      <th>0</th>\n",
       "      <td>운수수익</td>\n",
       "      <td>187961</td>\n",
       "      <td>204969</td>\n",
       "      <td>228753</td>\n",
       "      <td>234013</td>\n",
       "      <td>255738</td>\n",
       "      <td>250112</td>\n",
       "      <td>252272</td>\n",
       "      <td>269143</td>\n",
       "      <td>272513</td>\n",
       "      <td>269820</td>\n",
       "      <td>191031</td>\n",
       "      <td>194837</td>\n",
       "      <td>103758</td>\n",
       "    </tr>\n",
       "    <tr>\n",
       "      <th>1</th>\n",
       "      <td>부대사업수익 등</td>\n",
       "      <td>28129</td>\n",
       "      <td>30840</td>\n",
       "      <td>33036</td>\n",
       "      <td>33473</td>\n",
       "      <td>37200</td>\n",
       "      <td>39593</td>\n",
       "      <td>41503</td>\n",
       "      <td>44530</td>\n",
       "      <td>41158</td>\n",
       "      <td>41383</td>\n",
       "      <td>37149</td>\n",
       "      <td>35055</td>\n",
       "      <td>17499</td>\n",
       "    </tr>\n",
       "    <tr>\n",
       "      <th>2</th>\n",
       "      <td>합계</td>\n",
       "      <td>216090</td>\n",
       "      <td>235809</td>\n",
       "      <td>261789</td>\n",
       "      <td>267486</td>\n",
       "      <td>292938</td>\n",
       "      <td>289705</td>\n",
       "      <td>293775</td>\n",
       "      <td>313673</td>\n",
       "      <td>313671</td>\n",
       "      <td>311203</td>\n",
       "      <td>228180</td>\n",
       "      <td>229892</td>\n",
       "      <td>121257</td>\n",
       "    </tr>\n",
       "  </tbody>\n",
       "</table>\n",
       "</div>"
      ],
      "text/plain": [
       "      영업수익명   2010년   2011년   2012년   2013년   2014년   2015년   2016년   2017년  \\\n",
       "0      운수수익  187961  204969  228753  234013  255738  250112  252272  269143   \n",
       "1  부대사업수익 등   28129   30840   33036   33473   37200   39593   41503   44530   \n",
       "2        합계  216090  235809  261789  267486  292938  289705  293775  313673   \n",
       "\n",
       "    2018년   2019년   2020년   2021년  2022년 반기  \n",
       "0  272513  269820  191031  194837    103758  \n",
       "1   41158   41383   37149   35055     17499  \n",
       "2  313671  311203  228180  229892    121257  "
      ]
     },
     "execution_count": 12,
     "metadata": {},
     "output_type": "execute_result"
    }
   ],
   "source": [
    "operating_revenue = pd.read_csv(\"./영업수익(2010_2022).csv\", encoding=\"cp949\", index_col=0)\n",
    "operating_revenue"
   ]
  },
  {
   "cell_type": "code",
   "execution_count": 35,
   "metadata": {},
   "outputs": [
    {
     "data": {
      "text/html": [
       "<div>\n",
       "<style scoped>\n",
       "    .dataframe tbody tr th:only-of-type {\n",
       "        vertical-align: middle;\n",
       "    }\n",
       "\n",
       "    .dataframe tbody tr th {\n",
       "        vertical-align: top;\n",
       "    }\n",
       "\n",
       "    .dataframe thead th {\n",
       "        text-align: right;\n",
       "    }\n",
       "</style>\n",
       "<table border=\"1\" class=\"dataframe\">\n",
       "  <thead>\n",
       "    <tr style=\"text-align: right;\">\n",
       "      <th></th>\n",
       "      <th>영업비용명</th>\n",
       "      <th>2010년</th>\n",
       "      <th>2011년</th>\n",
       "      <th>2012년</th>\n",
       "      <th>2013년</th>\n",
       "      <th>2014년</th>\n",
       "      <th>2015년</th>\n",
       "      <th>2016년</th>\n",
       "      <th>2017년</th>\n",
       "      <th>2018년</th>\n",
       "      <th>2019년</th>\n",
       "      <th>2020년</th>\n",
       "      <th>2021년</th>\n",
       "      <th>2022년 반기</th>\n",
       "    </tr>\n",
       "  </thead>\n",
       "  <tbody>\n",
       "    <tr>\n",
       "      <th>0</th>\n",
       "      <td>인건비</td>\n",
       "      <td>222642</td>\n",
       "      <td>241213</td>\n",
       "      <td>245539</td>\n",
       "      <td>259578</td>\n",
       "      <td>283954</td>\n",
       "      <td>294759</td>\n",
       "      <td>278751</td>\n",
       "      <td>343805</td>\n",
       "      <td>339796</td>\n",
       "      <td>323955</td>\n",
       "      <td>365414</td>\n",
       "      <td>382382</td>\n",
       "      <td>170038</td>\n",
       "    </tr>\n",
       "    <tr>\n",
       "      <th>1</th>\n",
       "      <td>경비</td>\n",
       "      <td>112489</td>\n",
       "      <td>126471</td>\n",
       "      <td>143182</td>\n",
       "      <td>152310</td>\n",
       "      <td>161579</td>\n",
       "      <td>170081</td>\n",
       "      <td>180001</td>\n",
       "      <td>179055</td>\n",
       "      <td>194974</td>\n",
       "      <td>204194</td>\n",
       "      <td>198567</td>\n",
       "      <td>200220</td>\n",
       "      <td>103982</td>\n",
       "    </tr>\n",
       "    <tr>\n",
       "      <th>2</th>\n",
       "      <td>감가상각비</td>\n",
       "      <td>98138</td>\n",
       "      <td>110834</td>\n",
       "      <td>102503</td>\n",
       "      <td>104263</td>\n",
       "      <td>107533</td>\n",
       "      <td>110326</td>\n",
       "      <td>114820</td>\n",
       "      <td>125582</td>\n",
       "      <td>134156</td>\n",
       "      <td>133967</td>\n",
       "      <td>135139</td>\n",
       "      <td>140525</td>\n",
       "      <td>71305</td>\n",
       "    </tr>\n",
       "    <tr>\n",
       "      <th>3</th>\n",
       "      <td>합계</td>\n",
       "      <td>433269</td>\n",
       "      <td>478518</td>\n",
       "      <td>491224</td>\n",
       "      <td>516151</td>\n",
       "      <td>553066</td>\n",
       "      <td>575166</td>\n",
       "      <td>573572</td>\n",
       "      <td>648442</td>\n",
       "      <td>668926</td>\n",
       "      <td>662116</td>\n",
       "      <td>699120</td>\n",
       "      <td>723127</td>\n",
       "      <td>345325</td>\n",
       "    </tr>\n",
       "  </tbody>\n",
       "</table>\n",
       "</div>"
      ],
      "text/plain": [
       "   영업비용명   2010년   2011년   2012년   2013년   2014년   2015년   2016년   2017년  \\\n",
       "0    인건비  222642  241213  245539  259578  283954  294759  278751  343805   \n",
       "1     경비  112489  126471  143182  152310  161579  170081  180001  179055   \n",
       "2  감가상각비   98138  110834  102503  104263  107533  110326  114820  125582   \n",
       "3     합계  433269  478518  491224  516151  553066  575166  573572  648442   \n",
       "\n",
       "    2018년   2019년   2020년   2021년  2022년 반기  \n",
       "0  339796  323955  365414  382382    170038  \n",
       "1  194974  204194  198567  200220    103982  \n",
       "2  134156  133967  135139  140525     71305  \n",
       "3  668926  662116  699120  723127    345325  "
      ]
     },
     "execution_count": 35,
     "metadata": {},
     "output_type": "execute_result"
    }
   ],
   "source": [
    "operating_cost = pd.read_csv(\"./영업비용(2010_2022).csv\", encoding=\"cp949\", index_col=0)\n",
    "operating_cost"
   ]
  },
  {
   "cell_type": "code",
   "execution_count": 14,
   "metadata": {},
   "outputs": [
    {
     "data": {
      "text/html": [
       "<div>\n",
       "<style scoped>\n",
       "    .dataframe tbody tr th:only-of-type {\n",
       "        vertical-align: middle;\n",
       "    }\n",
       "\n",
       "    .dataframe tbody tr th {\n",
       "        vertical-align: top;\n",
       "    }\n",
       "\n",
       "    .dataframe thead th {\n",
       "        text-align: right;\n",
       "    }\n",
       "</style>\n",
       "<table border=\"1\" class=\"dataframe\">\n",
       "  <thead>\n",
       "    <tr style=\"text-align: right;\">\n",
       "      <th></th>\n",
       "      <th>영업외수익명</th>\n",
       "      <th>2010년</th>\n",
       "      <th>2011년</th>\n",
       "      <th>2012년</th>\n",
       "      <th>2013년</th>\n",
       "      <th>2014년</th>\n",
       "      <th>2015년</th>\n",
       "      <th>2016년</th>\n",
       "      <th>2017년</th>\n",
       "      <th>2018년</th>\n",
       "      <th>2019년</th>\n",
       "      <th>2020년</th>\n",
       "      <th>2021년</th>\n",
       "      <th>2022년 반기</th>\n",
       "    </tr>\n",
       "  </thead>\n",
       "  <tbody>\n",
       "    <tr>\n",
       "      <th>0</th>\n",
       "      <td>이자수익</td>\n",
       "      <td>7042</td>\n",
       "      <td>5386</td>\n",
       "      <td>4539</td>\n",
       "      <td>1903</td>\n",
       "      <td>1345</td>\n",
       "      <td>1932</td>\n",
       "      <td>2476</td>\n",
       "      <td>2390</td>\n",
       "      <td>2436</td>\n",
       "      <td>2305</td>\n",
       "      <td>906</td>\n",
       "      <td>437</td>\n",
       "      <td>416</td>\n",
       "    </tr>\n",
       "    <tr>\n",
       "      <th>1</th>\n",
       "      <td>재고자산처분이익</td>\n",
       "      <td>324</td>\n",
       "      <td>1666</td>\n",
       "      <td>66</td>\n",
       "      <td>37</td>\n",
       "      <td>31</td>\n",
       "      <td>141</td>\n",
       "      <td>12</td>\n",
       "      <td>13</td>\n",
       "      <td>22</td>\n",
       "      <td>56</td>\n",
       "      <td>47</td>\n",
       "      <td>531</td>\n",
       "      <td>40</td>\n",
       "    </tr>\n",
       "    <tr>\n",
       "      <th>2</th>\n",
       "      <td>유형자산처분이익</td>\n",
       "      <td>4</td>\n",
       "      <td>3469</td>\n",
       "      <td>301</td>\n",
       "      <td>0</td>\n",
       "      <td>147</td>\n",
       "      <td>51</td>\n",
       "      <td>28</td>\n",
       "      <td>2140</td>\n",
       "      <td>437</td>\n",
       "      <td>11607</td>\n",
       "      <td>74</td>\n",
       "      <td>251</td>\n",
       "      <td>203</td>\n",
       "    </tr>\n",
       "    <tr>\n",
       "      <th>3</th>\n",
       "      <td>위약배상금</td>\n",
       "      <td>453</td>\n",
       "      <td>565</td>\n",
       "      <td>513</td>\n",
       "      <td>841</td>\n",
       "      <td>882</td>\n",
       "      <td>1235</td>\n",
       "      <td>633</td>\n",
       "      <td>420</td>\n",
       "      <td>817</td>\n",
       "      <td>994</td>\n",
       "      <td>1025</td>\n",
       "      <td>490</td>\n",
       "      <td>349</td>\n",
       "    </tr>\n",
       "    <tr>\n",
       "      <th>4</th>\n",
       "      <td>정부보조금</td>\n",
       "      <td>101422</td>\n",
       "      <td>113980</td>\n",
       "      <td>115874</td>\n",
       "      <td>115327</td>\n",
       "      <td>111356</td>\n",
       "      <td>146940</td>\n",
       "      <td>117150</td>\n",
       "      <td>156581</td>\n",
       "      <td>184089</td>\n",
       "      <td>182000</td>\n",
       "      <td>207000</td>\n",
       "      <td>304602</td>\n",
       "      <td>130095</td>\n",
       "    </tr>\n",
       "    <tr>\n",
       "      <th>5</th>\n",
       "      <td>자산수증이익</td>\n",
       "      <td>303</td>\n",
       "      <td>2054</td>\n",
       "      <td>205</td>\n",
       "      <td>43</td>\n",
       "      <td>853</td>\n",
       "      <td>830</td>\n",
       "      <td>17122</td>\n",
       "      <td>17205</td>\n",
       "      <td>814</td>\n",
       "      <td>5</td>\n",
       "      <td>35</td>\n",
       "      <td>2603</td>\n",
       "      <td>53</td>\n",
       "    </tr>\n",
       "    <tr>\n",
       "      <th>6</th>\n",
       "      <td>잡이익 등</td>\n",
       "      <td>1824</td>\n",
       "      <td>1961</td>\n",
       "      <td>1969</td>\n",
       "      <td>1805</td>\n",
       "      <td>2196</td>\n",
       "      <td>2932</td>\n",
       "      <td>6414</td>\n",
       "      <td>6994</td>\n",
       "      <td>2072</td>\n",
       "      <td>1828</td>\n",
       "      <td>1808</td>\n",
       "      <td>2184</td>\n",
       "      <td>4792</td>\n",
       "    </tr>\n",
       "    <tr>\n",
       "      <th>7</th>\n",
       "      <td>합계</td>\n",
       "      <td>111372</td>\n",
       "      <td>129081</td>\n",
       "      <td>123467</td>\n",
       "      <td>119956</td>\n",
       "      <td>116810</td>\n",
       "      <td>154061</td>\n",
       "      <td>143835</td>\n",
       "      <td>185743</td>\n",
       "      <td>190687</td>\n",
       "      <td>198795</td>\n",
       "      <td>210895</td>\n",
       "      <td>311098</td>\n",
       "      <td>135948</td>\n",
       "    </tr>\n",
       "  </tbody>\n",
       "</table>\n",
       "</div>"
      ],
      "text/plain": [
       "     영업외수익명   2010년   2011년   2012년   2013년   2014년   2015년   2016년   2017년  \\\n",
       "0      이자수익    7042    5386    4539    1903    1345    1932    2476    2390   \n",
       "1  재고자산처분이익     324    1666      66      37      31     141      12      13   \n",
       "2  유형자산처분이익       4    3469     301       0     147      51      28    2140   \n",
       "3     위약배상금     453     565     513     841     882    1235     633     420   \n",
       "4     정부보조금  101422  113980  115874  115327  111356  146940  117150  156581   \n",
       "5    자산수증이익     303    2054     205      43     853     830   17122   17205   \n",
       "6     잡이익 등    1824    1961    1969    1805    2196    2932    6414    6994   \n",
       "7        합계  111372  129081  123467  119956  116810  154061  143835  185743   \n",
       "\n",
       "    2018년   2019년   2020년   2021년  2022년 반기  \n",
       "0    2436    2305     906     437       416  \n",
       "1      22      56      47     531        40  \n",
       "2     437   11607      74     251       203  \n",
       "3     817     994    1025     490       349  \n",
       "4  184089  182000  207000  304602    130095  \n",
       "5     814       5      35    2603        53  \n",
       "6    2072    1828    1808    2184      4792  \n",
       "7  190687  198795  210895  311098    135948  "
      ]
     },
     "execution_count": 14,
     "metadata": {},
     "output_type": "execute_result"
    }
   ],
   "source": [
    "not_operating_revenue = pd.read_csv(\"./영업외수익(2010_2022).csv\", encoding=\"cp949\", index_col=0)\n",
    "not_operating_revenue"
   ]
  },
  {
   "cell_type": "code",
   "execution_count": 15,
   "metadata": {},
   "outputs": [
    {
     "data": {
      "text/html": [
       "<div>\n",
       "<style scoped>\n",
       "    .dataframe tbody tr th:only-of-type {\n",
       "        vertical-align: middle;\n",
       "    }\n",
       "\n",
       "    .dataframe tbody tr th {\n",
       "        vertical-align: top;\n",
       "    }\n",
       "\n",
       "    .dataframe thead th {\n",
       "        text-align: right;\n",
       "    }\n",
       "</style>\n",
       "<table border=\"1\" class=\"dataframe\">\n",
       "  <thead>\n",
       "    <tr style=\"text-align: right;\">\n",
       "      <th></th>\n",
       "      <th>영업외수익명</th>\n",
       "      <th>2010년</th>\n",
       "      <th>2011년</th>\n",
       "      <th>2012년</th>\n",
       "      <th>2013년</th>\n",
       "      <th>2014년</th>\n",
       "      <th>2015년</th>\n",
       "      <th>2016년</th>\n",
       "      <th>2017년</th>\n",
       "      <th>2018년</th>\n",
       "      <th>2019년</th>\n",
       "      <th>2020년</th>\n",
       "      <th>2021년</th>\n",
       "      <th>2022년 반기</th>\n",
       "    </tr>\n",
       "  </thead>\n",
       "  <tbody>\n",
       "    <tr>\n",
       "      <th>0</th>\n",
       "      <td>유형자산처분손실</td>\n",
       "      <td>166</td>\n",
       "      <td>605</td>\n",
       "      <td>827</td>\n",
       "      <td>0</td>\n",
       "      <td>0</td>\n",
       "      <td>0</td>\n",
       "      <td>0</td>\n",
       "      <td>0</td>\n",
       "      <td>0</td>\n",
       "      <td>0</td>\n",
       "      <td>0</td>\n",
       "      <td>0</td>\n",
       "      <td>0</td>\n",
       "    </tr>\n",
       "    <tr>\n",
       "      <th>1</th>\n",
       "      <td>기부금</td>\n",
       "      <td>1</td>\n",
       "      <td>0</td>\n",
       "      <td>0</td>\n",
       "      <td>968</td>\n",
       "      <td>0</td>\n",
       "      <td>0</td>\n",
       "      <td>0</td>\n",
       "      <td>0</td>\n",
       "      <td>0</td>\n",
       "      <td>0</td>\n",
       "      <td>0</td>\n",
       "      <td>0</td>\n",
       "      <td>0</td>\n",
       "    </tr>\n",
       "    <tr>\n",
       "      <th>2</th>\n",
       "      <td>운동부경비</td>\n",
       "      <td>229</td>\n",
       "      <td>155</td>\n",
       "      <td>72</td>\n",
       "      <td>152</td>\n",
       "      <td>134</td>\n",
       "      <td>96</td>\n",
       "      <td>78</td>\n",
       "      <td>0</td>\n",
       "      <td>375</td>\n",
       "      <td>168</td>\n",
       "      <td>56</td>\n",
       "      <td>66</td>\n",
       "      <td>54</td>\n",
       "    </tr>\n",
       "    <tr>\n",
       "      <th>3</th>\n",
       "      <td>잡손실 등</td>\n",
       "      <td>203</td>\n",
       "      <td>279</td>\n",
       "      <td>884</td>\n",
       "      <td>265</td>\n",
       "      <td>443</td>\n",
       "      <td>15625</td>\n",
       "      <td>394</td>\n",
       "      <td>187</td>\n",
       "      <td>1025</td>\n",
       "      <td>229</td>\n",
       "      <td>3349</td>\n",
       "      <td>12455</td>\n",
       "      <td>2782</td>\n",
       "    </tr>\n",
       "    <tr>\n",
       "      <th>4</th>\n",
       "      <td>합계</td>\n",
       "      <td>599</td>\n",
       "      <td>1039</td>\n",
       "      <td>1783</td>\n",
       "      <td>1385</td>\n",
       "      <td>577</td>\n",
       "      <td>15721</td>\n",
       "      <td>472</td>\n",
       "      <td>187</td>\n",
       "      <td>1400</td>\n",
       "      <td>397</td>\n",
       "      <td>3405</td>\n",
       "      <td>12521</td>\n",
       "      <td>2836</td>\n",
       "    </tr>\n",
       "  </tbody>\n",
       "</table>\n",
       "</div>"
      ],
      "text/plain": [
       "     영업외수익명  2010년  2011년  2012년  2013년  2014년  2015년  2016년  2017년  2018년  \\\n",
       "0  유형자산처분손실    166    605    827      0      0      0      0      0      0   \n",
       "1       기부금      1      0      0    968      0      0      0      0      0   \n",
       "2     운동부경비    229    155     72    152    134     96     78      0    375   \n",
       "3     잡손실 등    203    279    884    265    443  15625    394    187   1025   \n",
       "4        합계    599   1039   1783   1385    577  15721    472    187   1400   \n",
       "\n",
       "   2019년  2020년  2021년  2022년 반기  \n",
       "0      0      0      0         0  \n",
       "1      0      0      0         0  \n",
       "2    168     56     66        54  \n",
       "3    229   3349  12455      2782  \n",
       "4    397   3405  12521      2836  "
      ]
     },
     "execution_count": 15,
     "metadata": {},
     "output_type": "execute_result"
    }
   ],
   "source": [
    "not_operating_cost = pd.read_csv(\"./영업외비용(2010_2022).csv\", encoding=\"cp949\", index_col=0)\n",
    "not_operating_cost"
   ]
  },
  {
   "cell_type": "code",
   "execution_count": 65,
   "metadata": {},
   "outputs": [
    {
     "data": {
      "text/html": [
       "<div>\n",
       "<style scoped>\n",
       "    .dataframe tbody tr th:only-of-type {\n",
       "        vertical-align: middle;\n",
       "    }\n",
       "\n",
       "    .dataframe tbody tr th {\n",
       "        vertical-align: top;\n",
       "    }\n",
       "\n",
       "    .dataframe thead th {\n",
       "        text-align: right;\n",
       "    }\n",
       "</style>\n",
       "<table border=\"1\" class=\"dataframe\">\n",
       "  <thead>\n",
       "    <tr style=\"text-align: right;\">\n",
       "      <th></th>\n",
       "      <th>부분별합계</th>\n",
       "      <th>2010년</th>\n",
       "      <th>2011년</th>\n",
       "      <th>2012년</th>\n",
       "      <th>2013년</th>\n",
       "      <th>2014년</th>\n",
       "      <th>2015년</th>\n",
       "      <th>2016년</th>\n",
       "      <th>2017년</th>\n",
       "      <th>2018년</th>\n",
       "      <th>2019년</th>\n",
       "      <th>2020년</th>\n",
       "      <th>2021년</th>\n",
       "      <th>2022년 반기</th>\n",
       "    </tr>\n",
       "  </thead>\n",
       "  <tbody>\n",
       "    <tr>\n",
       "      <th>0</th>\n",
       "      <td>영업수익</td>\n",
       "      <td>216090</td>\n",
       "      <td>235809</td>\n",
       "      <td>261789</td>\n",
       "      <td>267486</td>\n",
       "      <td>292938</td>\n",
       "      <td>289705</td>\n",
       "      <td>293775</td>\n",
       "      <td>313673</td>\n",
       "      <td>313671</td>\n",
       "      <td>311203</td>\n",
       "      <td>228180</td>\n",
       "      <td>229892</td>\n",
       "      <td>121257</td>\n",
       "    </tr>\n",
       "    <tr>\n",
       "      <th>1</th>\n",
       "      <td>영업비용</td>\n",
       "      <td>433269</td>\n",
       "      <td>478518</td>\n",
       "      <td>491224</td>\n",
       "      <td>516151</td>\n",
       "      <td>553066</td>\n",
       "      <td>575166</td>\n",
       "      <td>573572</td>\n",
       "      <td>648442</td>\n",
       "      <td>668926</td>\n",
       "      <td>662116</td>\n",
       "      <td>699120</td>\n",
       "      <td>723127</td>\n",
       "      <td>345325</td>\n",
       "    </tr>\n",
       "    <tr>\n",
       "      <th>2</th>\n",
       "      <td>영업 외 수익</td>\n",
       "      <td>111372</td>\n",
       "      <td>129081</td>\n",
       "      <td>123467</td>\n",
       "      <td>119956</td>\n",
       "      <td>116810</td>\n",
       "      <td>154061</td>\n",
       "      <td>143835</td>\n",
       "      <td>185743</td>\n",
       "      <td>190687</td>\n",
       "      <td>198795</td>\n",
       "      <td>210895</td>\n",
       "      <td>311098</td>\n",
       "      <td>135948</td>\n",
       "    </tr>\n",
       "    <tr>\n",
       "      <th>3</th>\n",
       "      <td>영업 외 비용</td>\n",
       "      <td>599</td>\n",
       "      <td>1039</td>\n",
       "      <td>1783</td>\n",
       "      <td>1385</td>\n",
       "      <td>577</td>\n",
       "      <td>15721</td>\n",
       "      <td>472</td>\n",
       "      <td>187</td>\n",
       "      <td>1400</td>\n",
       "      <td>397</td>\n",
       "      <td>3405</td>\n",
       "      <td>12521</td>\n",
       "      <td>2836</td>\n",
       "    </tr>\n",
       "  </tbody>\n",
       "</table>\n",
       "</div>"
      ],
      "text/plain": [
       "     부분별합계   2010년   2011년   2012년   2013년   2014년   2015년   2016년   2017년  \\\n",
       "0     영업수익  216090  235809  261789  267486  292938  289705  293775  313673   \n",
       "1     영업비용  433269  478518  491224  516151  553066  575166  573572  648442   \n",
       "2  영업 외 수익  111372  129081  123467  119956  116810  154061  143835  185743   \n",
       "3  영업 외 비용     599    1039    1783    1385     577   15721     472     187   \n",
       "\n",
       "    2018년   2019년   2020년   2021년  2022년 반기  \n",
       "0  313671  311203  228180  229892    121257  \n",
       "1  668926  662116  699120  723127    345325  \n",
       "2  190687  198795  210895  311098    135948  \n",
       "3    1400     397    3405   12521      2836  "
      ]
     },
     "execution_count": 65,
     "metadata": {},
     "output_type": "execute_result"
    }
   ],
   "source": [
    "sum = pd.read_csv(\"./재무제표_합계(2010_2022).csv\", encoding=\"cp949\", index_col=0)\n",
    "sum"
   ]
  },
  {
   "cell_type": "code",
   "execution_count": 17,
   "metadata": {},
   "outputs": [
    {
     "data": {
      "text/plain": [
       "Index(['2010년', '2011년', '2012년', '2013년', '2014년', '2015년', '2016년', '2017년',\n",
       "       '2018년', '2019년', '2020년', '2021년'],\n",
       "      dtype='object')"
      ]
     },
     "execution_count": 17,
     "metadata": {},
     "output_type": "execute_result"
    }
   ],
   "source": [
    "sum.columns[1:13]"
   ]
  },
  {
   "cell_type": "code",
   "execution_count": 18,
   "metadata": {},
   "outputs": [
    {
     "data": {
      "text/plain": [
       "array([327462, 364890, 385256, 387442, 409748, 443766, 437610, 499416,\n",
       "       504358, 509998, 439075, 540990], dtype=int64)"
      ]
     },
     "execution_count": 18,
     "metadata": {},
     "output_type": "execute_result"
    }
   ],
   "source": [
    "revenue = np.array(list((sum.iloc[0] + sum.iloc[2])[1:13]))\n",
    "revenue"
   ]
  },
  {
   "cell_type": "code",
   "execution_count": 19,
   "metadata": {},
   "outputs": [
    {
     "data": {
      "text/plain": [
       "5250011"
      ]
     },
     "execution_count": 19,
     "metadata": {},
     "output_type": "execute_result"
    }
   ],
   "source": [
    "# 총수익\n",
    "sum_revenue = revenue.sum()\n",
    "sum_revenue"
   ]
  },
  {
   "cell_type": "code",
   "execution_count": 20,
   "metadata": {},
   "outputs": [
    {
     "data": {
      "text/plain": [
       "array([433868, 479557, 493007, 517536, 553643, 590887, 574044, 648629,\n",
       "       670326, 662513, 702525, 735648], dtype=int64)"
      ]
     },
     "execution_count": 20,
     "metadata": {},
     "output_type": "execute_result"
    }
   ],
   "source": [
    "cost = np.array(list((sum.iloc[1] + sum.iloc[3])[1:13]))\n",
    "cost"
   ]
  },
  {
   "cell_type": "code",
   "execution_count": 21,
   "metadata": {},
   "outputs": [
    {
     "data": {
      "text/plain": [
       "7062183"
      ]
     },
     "execution_count": 21,
     "metadata": {},
     "output_type": "execute_result"
    }
   ],
   "source": [
    "# 총 비용 합계\n",
    "sum_cost = cost.sum()\n",
    "sum_cost"
   ]
  },
  {
   "cell_type": "markdown",
   "metadata": {},
   "source": [
    "# 시각화"
   ]
  },
  {
   "cell_type": "markdown",
   "metadata": {},
   "source": [
    "### 부산교통공사 10년 수익/비용 확인"
   ]
  },
  {
   "cell_type": "code",
   "execution_count": 22,
   "metadata": {},
   "outputs": [],
   "source": [
    "# 시각화 import\n",
    "import matplotlib as mpl\n",
    "import matplotlib.pyplot as plt\n",
    "import seaborn as sns\n",
    "\n",
    "from matplotlib import rc\n",
    "import matplotlib.font_manager as fm\n",
    "\n",
    "plt.rc('font', family='Malgun Gothic')\n",
    "sns.set(font='Malgun Gothic', rc={'axes.unicode_minus':False}, style='darkgrid')"
   ]
  },
  {
   "cell_type": "code",
   "execution_count": 23,
   "metadata": {},
   "outputs": [
    {
     "data": {
      "image/png": "[encoded data removed]",
      "text/plain": [
       "<Figure size 1080x576 with 1 Axes>"
      ]
     },
     "metadata": {
      "needs_background": "light"
     },
     "output_type": "display_data"
    }
   ],
   "source": [
    "plt.figure(figsize=(15,8))\n",
    "plt.plot(sum.columns[1:13], revenue, \"r\", label=\"총수익\") # 수익\n",
    "plt.plot(sum.columns[1:13], cost, \"b\", label=\"총비용\")   # 비용\n",
    "\n",
    "plt.xlabel('연도', fontsize=15)\n",
    "plt.ylabel('금액', fontsize=15)\n",
    "plt.title('부산교통공사 10년 수익/비용', fontsize=20)\n",
    "\n",
    "plt.legend(loc='lower right', ncol=2, fontsize=15)\n",
    "plt.show()\n"
   ]
  },
  {
   "cell_type": "markdown",
   "metadata": {},
   "source": [
    "### 부대사업수익 확인"
   ]
  },
  {
   "cell_type": "code",
   "execution_count": 24,
   "metadata": {},
   "outputs": [
    {
     "data": {
      "text/plain": [
       "array([28129, 30840, 33036, 33473, 37200, 39593, 41503, 44530, 41158,\n",
       "       41383, 37149, 35055])"
      ]
     },
     "execution_count": 24,
     "metadata": {},
     "output_type": "execute_result"
    }
   ],
   "source": [
    "부대사업수익 = np.array(list(operating_revenue.iloc[1]))[1:13].astype(int)\n",
    "부대사업수익"
   ]
  },
  {
   "cell_type": "code",
   "execution_count": 25,
   "metadata": {},
   "outputs": [
    {
     "data": {
      "image/png": "[encoded data removed]",
      "text/plain": [
       "<Figure size 1080x576 with 1 Axes>"
      ]
     },
     "metadata": {
      "needs_background": "light"
     },
     "output_type": "display_data"
    }
   ],
   "source": [
    "plt.figure(figsize=(15,8))\n",
    "plt.plot(sum.columns[1:13], 부대사업수익, \"r\", label=\"부대사업수익\") # 수익\n",
    "\n",
    "\n",
    "plt.xlabel('연도', fontsize=15)\n",
    "plt.ylabel('금액', fontsize=15)\n",
    "#plt.title('부산교통공사 10년 부대사업수익', fontsize=20)\n",
    "\n",
    "plt.legend(loc='upper right', ncol=2, fontsize=15)\n",
    "plt.show()"
   ]
  },
  {
   "cell_type": "markdown",
   "metadata": {},
   "source": [
    "# 분석"
   ]
  },
  {
   "cell_type": "markdown",
   "metadata": {},
   "source": [
    "- 시계열\\\n",
    "종속 : 총수익\\\n",
    "독립 : 운수수익, 부대사업수익\\\n",
    "추이 : 연도\n",
    "\n",
    "\n",
    "- 회귀\\\n",
    "독립 : 연도\\\n",
    "종속 : 총수익\n"
   ]
  },
  {
   "cell_type": "markdown",
   "metadata": {},
   "source": [
    "### 선형회귀"
   ]
  },
  {
   "cell_type": "code",
   "execution_count": 26,
   "metadata": {},
   "outputs": [],
   "source": [
    "from sklearn.linear_model import LinearRegression"
   ]
  },
  {
   "cell_type": "code",
   "execution_count": 27,
   "metadata": {},
   "outputs": [],
   "source": [
    "# 총 수익 합계 배열 생성\n",
    "list_revenue = np.array(list((operating_revenue.iloc[2])[1:13]))"
   ]
  },
  {
   "cell_type": "code",
   "execution_count": 28,
   "metadata": {},
   "outputs": [],
   "source": [
    "# 차원 변경\n",
    "series_revenue = list_revenue.reshape(-1,1)"
   ]
  },
  {
   "cell_type": "code",
   "execution_count": 29,
   "metadata": {},
   "outputs": [],
   "source": [
    "#list_year = np.array(list((operating_revenue.columns[1:13])))\n",
    "list_year =[]"
   ]
  },
  {
   "cell_type": "code",
   "execution_count": 30,
   "metadata": {},
   "outputs": [],
   "source": [
    "a = list((operating_revenue.columns[1:13]))"
   ]
  },
  {
   "cell_type": "code",
   "execution_count": 31,
   "metadata": {},
   "outputs": [
    {
     "name": "stdout",
     "output_type": "stream",
     "text": [
      "['2010', '2011', '2012', '2013', '2014', '2015', '2016', '2017', '2018', '2019', '2020', '2021']\n"
     ]
    }
   ],
   "source": [
    "# \"년\" 제거\n",
    "for i in a:\n",
    "    temp = i.replace(\"년\", \"\")\n",
    "    list_year.append(temp)\n",
    "print(list_year)"
   ]
  },
  {
   "cell_type": "code",
   "execution_count": 32,
   "metadata": {},
   "outputs": [],
   "source": [
    "linear = LinearRegression()"
   ]
  },
  {
   "cell_type": "code",
   "execution_count": 33,
   "metadata": {},
   "outputs": [
    {
     "ename": "ValueError",
     "evalue": "Expected 2D array, got 1D array instead:\narray=[216090 235809 261789 267486 292938 289705 293775 313673 313671 311203\n 228180 229892].\nReshape your data either using array.reshape(-1, 1) if your data has a single feature or array.reshape(1, -1) if it contains a single sample.",
     "output_type": "error",
     "traceback": [
      "\u001b[1;31m---------------------------------------------------------------------------\u001b[0m",
      "\u001b[1;31mValueError\u001b[0m                                Traceback (most recent call last)",
      "\u001b[1;32mc:\\localRepository\\Project-distribution\\eda\\revenue_cost.ipynb 셀 31\u001b[0m in \u001b[0;36m<cell line: 2>\u001b[1;34m()\u001b[0m\n\u001b[0;32m      <a href='vscode-notebook-cell:/c%3A/localRepository/Project-distribution/eda/revenue_cost.ipynb#X42sZmlsZQ%3D%3D?line=0'>1</a>\u001b[0m \u001b[39m# 훈련\u001b[39;00m\n\u001b[1;32m----> <a href='vscode-notebook-cell:/c%3A/localRepository/Project-distribution/eda/revenue_cost.ipynb#X42sZmlsZQ%3D%3D?line=1'>2</a>\u001b[0m linear\u001b[39m.\u001b[39;49mfit(X\u001b[39m=\u001b[39;49mlist_revenue, y\u001b[39m=\u001b[39;49mlist_year)\n",
      "File \u001b[1;32mc:\\Users\\admin\\AppData\\Local\\Programs\\Python\\Python310\\lib\\site-packages\\sklearn\\linear_model\\_base.py:684\u001b[0m, in \u001b[0;36mLinearRegression.fit\u001b[1;34m(self, X, y, sample_weight)\u001b[0m\n\u001b[0;32m    680\u001b[0m n_jobs_ \u001b[39m=\u001b[39m \u001b[39mself\u001b[39m\u001b[39m.\u001b[39mn_jobs\n\u001b[0;32m    682\u001b[0m accept_sparse \u001b[39m=\u001b[39m \u001b[39mFalse\u001b[39;00m \u001b[39mif\u001b[39;00m \u001b[39mself\u001b[39m\u001b[39m.\u001b[39mpositive \u001b[39melse\u001b[39;00m [\u001b[39m\"\u001b[39m\u001b[39mcsr\u001b[39m\u001b[39m\"\u001b[39m, \u001b[39m\"\u001b[39m\u001b[39mcsc\u001b[39m\u001b[39m\"\u001b[39m, \u001b[39m\"\u001b[39m\u001b[39mcoo\u001b[39m\u001b[39m\"\u001b[39m]\n\u001b[1;32m--> 684\u001b[0m X, y \u001b[39m=\u001b[39m \u001b[39mself\u001b[39;49m\u001b[39m.\u001b[39;49m_validate_data(\n\u001b[0;32m    685\u001b[0m     X, y, accept_sparse\u001b[39m=\u001b[39;49maccept_sparse, y_numeric\u001b[39m=\u001b[39;49m\u001b[39mTrue\u001b[39;49;00m, multi_output\u001b[39m=\u001b[39;49m\u001b[39mTrue\u001b[39;49;00m\n\u001b[0;32m    686\u001b[0m )\n\u001b[0;32m    688\u001b[0m sample_weight \u001b[39m=\u001b[39m _check_sample_weight(\n\u001b[0;32m    689\u001b[0m     sample_weight, X, dtype\u001b[39m=\u001b[39mX\u001b[39m.\u001b[39mdtype, only_non_negative\u001b[39m=\u001b[39m\u001b[39mTrue\u001b[39;00m\n\u001b[0;32m    690\u001b[0m )\n\u001b[0;32m    692\u001b[0m X, y, X_offset, y_offset, X_scale \u001b[39m=\u001b[39m _preprocess_data(\n\u001b[0;32m    693\u001b[0m     X,\n\u001b[0;32m    694\u001b[0m     y,\n\u001b[1;32m   (...)\u001b[0m\n\u001b[0;32m    698\u001b[0m     sample_weight\u001b[39m=\u001b[39msample_weight,\n\u001b[0;32m    699\u001b[0m )\n",
      "File \u001b[1;32mc:\\Users\\admin\\AppData\\Local\\Programs\\Python\\Python310\\lib\\site-packages\\sklearn\\base.py:596\u001b[0m, in \u001b[0;36mBaseEstimator._validate_data\u001b[1;34m(self, X, y, reset, validate_separately, **check_params)\u001b[0m\n\u001b[0;32m    594\u001b[0m         y \u001b[39m=\u001b[39m check_array(y, input_name\u001b[39m=\u001b[39m\u001b[39m\"\u001b[39m\u001b[39my\u001b[39m\u001b[39m\"\u001b[39m, \u001b[39m*\u001b[39m\u001b[39m*\u001b[39mcheck_y_params)\n\u001b[0;32m    595\u001b[0m     \u001b[39melse\u001b[39;00m:\n\u001b[1;32m--> 596\u001b[0m         X, y \u001b[39m=\u001b[39m check_X_y(X, y, \u001b[39m*\u001b[39m\u001b[39m*\u001b[39mcheck_params)\n\u001b[0;32m    597\u001b[0m     out \u001b[39m=\u001b[39m X, y\n\u001b[0;32m    599\u001b[0m \u001b[39mif\u001b[39;00m \u001b[39mnot\u001b[39;00m no_val_X \u001b[39mand\u001b[39;00m check_params\u001b[39m.\u001b[39mget(\u001b[39m\"\u001b[39m\u001b[39mensure_2d\u001b[39m\u001b[39m\"\u001b[39m, \u001b[39mTrue\u001b[39;00m):\n",
      "File \u001b[1;32mc:\\Users\\admin\\AppData\\Local\\Programs\\Python\\Python310\\lib\\site-packages\\sklearn\\utils\\validation.py:1074\u001b[0m, in \u001b[0;36mcheck_X_y\u001b[1;34m(X, y, accept_sparse, accept_large_sparse, dtype, order, copy, force_all_finite, ensure_2d, allow_nd, multi_output, ensure_min_samples, ensure_min_features, y_numeric, estimator)\u001b[0m\n\u001b[0;32m   1069\u001b[0m         estimator_name \u001b[39m=\u001b[39m _check_estimator_name(estimator)\n\u001b[0;32m   1070\u001b[0m     \u001b[39mraise\u001b[39;00m \u001b[39mValueError\u001b[39;00m(\n\u001b[0;32m   1071\u001b[0m         \u001b[39mf\u001b[39m\u001b[39m\"\u001b[39m\u001b[39m{\u001b[39;00mestimator_name\u001b[39m}\u001b[39;00m\u001b[39m requires y to be passed, but the target y is None\u001b[39m\u001b[39m\"\u001b[39m\n\u001b[0;32m   1072\u001b[0m     )\n\u001b[1;32m-> 1074\u001b[0m X \u001b[39m=\u001b[39m check_array(\n\u001b[0;32m   1075\u001b[0m     X,\n\u001b[0;32m   1076\u001b[0m     accept_sparse\u001b[39m=\u001b[39;49maccept_sparse,\n\u001b[0;32m   1077\u001b[0m     accept_large_sparse\u001b[39m=\u001b[39;49maccept_large_sparse,\n\u001b[0;32m   1078\u001b[0m     dtype\u001b[39m=\u001b[39;49mdtype,\n\u001b[0;32m   1079\u001b[0m     order\u001b[39m=\u001b[39;49morder,\n\u001b[0;32m   1080\u001b[0m     copy\u001b[39m=\u001b[39;49mcopy,\n\u001b[0;32m   1081\u001b[0m     force_all_finite\u001b[39m=\u001b[39;49mforce_all_finite,\n\u001b[0;32m   1082\u001b[0m     ensure_2d\u001b[39m=\u001b[39;49mensure_2d,\n\u001b[0;32m   1083\u001b[0m     allow_nd\u001b[39m=\u001b[39;49mallow_nd,\n\u001b[0;32m   1084\u001b[0m     ensure_min_samples\u001b[39m=\u001b[39;49mensure_min_samples,\n\u001b[0;32m   1085\u001b[0m     ensure_min_features\u001b[39m=\u001b[39;49mensure_min_features,\n\u001b[0;32m   1086\u001b[0m     estimator\u001b[39m=\u001b[39;49mestimator,\n\u001b[0;32m   1087\u001b[0m     input_name\u001b[39m=\u001b[39;49m\u001b[39m\"\u001b[39;49m\u001b[39mX\u001b[39;49m\u001b[39m\"\u001b[39;49m,\n\u001b[0;32m   1088\u001b[0m )\n\u001b[0;32m   1090\u001b[0m y \u001b[39m=\u001b[39m _check_y(y, multi_output\u001b[39m=\u001b[39mmulti_output, y_numeric\u001b[39m=\u001b[39my_numeric, estimator\u001b[39m=\u001b[39mestimator)\n\u001b[0;32m   1092\u001b[0m check_consistent_length(X, y)\n",
      "File \u001b[1;32mc:\\Users\\admin\\AppData\\Local\\Programs\\Python\\Python310\\lib\\site-packages\\sklearn\\utils\\validation.py:879\u001b[0m, in \u001b[0;36mcheck_array\u001b[1;34m(array, accept_sparse, accept_large_sparse, dtype, order, copy, force_all_finite, ensure_2d, allow_nd, ensure_min_samples, ensure_min_features, estimator, input_name)\u001b[0m\n\u001b[0;32m    877\u001b[0m     \u001b[39m# If input is 1D raise error\u001b[39;00m\n\u001b[0;32m    878\u001b[0m     \u001b[39mif\u001b[39;00m array\u001b[39m.\u001b[39mndim \u001b[39m==\u001b[39m \u001b[39m1\u001b[39m:\n\u001b[1;32m--> 879\u001b[0m         \u001b[39mraise\u001b[39;00m \u001b[39mValueError\u001b[39;00m(\n\u001b[0;32m    880\u001b[0m             \u001b[39m\"\u001b[39m\u001b[39mExpected 2D array, got 1D array instead:\u001b[39m\u001b[39m\\n\u001b[39;00m\u001b[39marray=\u001b[39m\u001b[39m{}\u001b[39;00m\u001b[39m.\u001b[39m\u001b[39m\\n\u001b[39;00m\u001b[39m\"\u001b[39m\n\u001b[0;32m    881\u001b[0m             \u001b[39m\"\u001b[39m\u001b[39mReshape your data either using array.reshape(-1, 1) if \u001b[39m\u001b[39m\"\u001b[39m\n\u001b[0;32m    882\u001b[0m             \u001b[39m\"\u001b[39m\u001b[39myour data has a single feature or array.reshape(1, -1) \u001b[39m\u001b[39m\"\u001b[39m\n\u001b[0;32m    883\u001b[0m             \u001b[39m\"\u001b[39m\u001b[39mif it contains a single sample.\u001b[39m\u001b[39m\"\u001b[39m\u001b[39m.\u001b[39mformat(array)\n\u001b[0;32m    884\u001b[0m         )\n\u001b[0;32m    886\u001b[0m \u001b[39mif\u001b[39;00m dtype_numeric \u001b[39mand\u001b[39;00m array\u001b[39m.\u001b[39mdtype\u001b[39m.\u001b[39mkind \u001b[39min\u001b[39;00m \u001b[39m\"\u001b[39m\u001b[39mUSV\u001b[39m\u001b[39m\"\u001b[39m:\n\u001b[0;32m    887\u001b[0m     \u001b[39mraise\u001b[39;00m \u001b[39mValueError\u001b[39;00m(\n\u001b[0;32m    888\u001b[0m         \u001b[39m\"\u001b[39m\u001b[39mdtype=\u001b[39m\u001b[39m'\u001b[39m\u001b[39mnumeric\u001b[39m\u001b[39m'\u001b[39m\u001b[39m is not compatible with arrays of bytes/strings.\u001b[39m\u001b[39m\"\u001b[39m\n\u001b[0;32m    889\u001b[0m         \u001b[39m\"\u001b[39m\u001b[39mConvert your data to numeric values explicitly instead.\u001b[39m\u001b[39m\"\u001b[39m\n\u001b[0;32m    890\u001b[0m     )\n",
      "\u001b[1;31mValueError\u001b[0m: Expected 2D array, got 1D array instead:\narray=[216090 235809 261789 267486 292938 289705 293775 313673 313671 311203\n 228180 229892].\nReshape your data either using array.reshape(-1, 1) if your data has a single feature or array.reshape(1, -1) if it contains a single sample."
     ]
    }
   ],
   "source": [
    "# 훈련\n",
    "linear.fit(X=list_revenue, y=list_year)"
   ]
  },
  {
   "cell_type": "code",
   "execution_count": null,
   "metadata": {},
   "outputs": [
    {
     "data": {
      "text/plain": [
       "array([2008.75071793])"
      ]
     },
     "execution_count": 195,
     "metadata": {},
     "output_type": "execute_result"
    }
   ],
   "source": [
    "# 예측\n",
    "linear.predict([[2022]])"
   ]
  },
  {
   "cell_type": "code",
   "execution_count": null,
   "metadata": {},
   "outputs": [
    {
     "name": "stdout",
     "output_type": "stream",
     "text": [
      "[2.50751436e-05] 2008.7000159875217\n"
     ]
    }
   ],
   "source": [
    "# 기울기, 절편\n",
    "print(linear.coef_, linear.intercept_)"
   ]
  },
  {
   "cell_type": "markdown",
   "metadata": {},
   "source": [
    "### 시계열 ARIMA"
   ]
  },
  {
   "cell_type": "code",
   "execution_count": null,
   "metadata": {},
   "outputs": [],
   "source": [
    "import pmdarima as pm\n",
    "from pmdarima.model_selection import train_test_split"
   ]
  },
  {
   "cell_type": "code",
   "execution_count": null,
   "metadata": {},
   "outputs": [
    {
     "name": "stdout",
     "output_type": "stream",
     "text": [
      "Requirement already satisfied: pmdarima in c:\\users\\admin\\appdata\\local\\programs\\python\\python310\\lib\\site-packages (1.8.5)\n",
      "Requirement already satisfied: statsmodels!=0.12.0,>=0.11 in c:\\users\\admin\\appdata\\local\\programs\\python\\python310\\lib\\site-packages (from pmdarima) (0.13.2)\n",
      "Requirement already satisfied: pandas>=0.19 in c:\\users\\admin\\appdata\\local\\programs\\python\\python310\\lib\\site-packages (from pmdarima) (1.4.3)\n",
      "Requirement already satisfied: Cython!=0.29.18,>=0.29 in c:\\users\\admin\\appdata\\local\\programs\\python\\python310\\lib\\site-packages (from pmdarima) (0.29.32)\n",
      "Requirement already satisfied: setuptools!=50.0.0,>=38.6.0 in c:\\users\\admin\\appdata\\local\\programs\\python\\python310\\lib\\site-packages (from pmdarima) (62.6.0)\n",
      "Requirement already satisfied: scikit-learn>=0.22 in c:\\users\\admin\\appdata\\local\\programs\\python\\python310\\lib\\site-packages (from pmdarima) (1.1.2)\n",
      "Requirement already satisfied: numpy>=1.19.3 in c:\\users\\admin\\appdata\\local\\programs\\python\\python310\\lib\\site-packages (from pmdarima) (1.23.1)\n",
      "Requirement already satisfied: joblib>=0.11 in c:\\users\\admin\\appdata\\local\\programs\\python\\python310\\lib\\site-packages (from pmdarima) (1.1.0)\n",
      "Requirement already satisfied: urllib3 in c:\\users\\admin\\appdata\\local\\programs\\python\\python310\\lib\\site-packages (from pmdarima) (1.26.11)\n",
      "Requirement already satisfied: scipy>=1.3.2 in c:\\users\\admin\\appdata\\local\\programs\\python\\python310\\lib\\site-packages (from pmdarima) (1.9.0)\n",
      "Requirement already satisfied: python-dateutil>=2.8.1 in c:\\users\\admin\\appdata\\local\\programs\\python\\python310\\lib\\site-packages (from pandas>=0.19->pmdarima) (2.8.2)\n",
      "Requirement already satisfied: pytz>=2020.1 in c:\\users\\admin\\appdata\\local\\programs\\python\\python310\\lib\\site-packages (from pandas>=0.19->pmdarima) (2022.1)\n",
      "Requirement already satisfied: threadpoolctl>=2.0.0 in c:\\users\\admin\\appdata\\local\\programs\\python\\python310\\lib\\site-packages (from scikit-learn>=0.22->pmdarima) (3.1.0)\n",
      "Requirement already satisfied: patsy>=0.5.2 in c:\\users\\admin\\appdata\\local\\programs\\python\\python310\\lib\\site-packages (from statsmodels!=0.12.0,>=0.11->pmdarima) (0.5.2)\n",
      "Requirement already satisfied: packaging>=21.3 in c:\\users\\admin\\appdata\\local\\programs\\python\\python310\\lib\\site-packages (from statsmodels!=0.12.0,>=0.11->pmdarima) (21.3)\n",
      "Requirement already satisfied: pyparsing!=3.0.5,>=2.0.2 in c:\\users\\admin\\appdata\\local\\programs\\python\\python310\\lib\\site-packages (from packaging>=21.3->statsmodels!=0.12.0,>=0.11->pmdarima) (3.0.9)\n",
      "Requirement already satisfied: six in c:\\users\\admin\\appdata\\local\\programs\\python\\python310\\lib\\site-packages (from patsy>=0.5.2->statsmodels!=0.12.0,>=0.11->pmdarima) (1.16.0)\n"
     ]
    },
    {
     "name": "stderr",
     "output_type": "stream",
     "text": [
      "\n",
      "[notice] A new release of pip available: 22.2.2 -> 22.3.1\n",
      "[notice] To update, run: python.exe -m pip install --upgrade pip\n"
     ]
    }
   ],
   "source": [
    "#!pip install pmdarima"
   ]
  },
  {
   "cell_type": "code",
   "execution_count": null,
   "metadata": {},
   "outputs": [],
   "source": [
    "# 문자열로 변환\n",
    "list_year = list(map(str, list_year))"
   ]
  },
  {
   "cell_type": "code",
   "execution_count": null,
   "metadata": {},
   "outputs": [
    {
     "data": {
      "text/plain": [
       "DatetimeIndex(['2010-01-01', '2011-01-01', '2012-01-01', '2013-01-01',\n",
       "               '2014-01-01', '2015-01-01', '2016-01-01', '2017-01-01',\n",
       "               '2018-01-01', '2019-01-01', '2020-01-01', '2021-01-01'],\n",
       "              dtype='datetime64[ns]', freq=None)"
      ]
     },
     "execution_count": 390,
     "metadata": {},
     "output_type": "execute_result"
    }
   ],
   "source": [
    "# datetime으로 변환\n",
    "list_year = pd.to_datetime(list_year)\n",
    "list_year"
   ]
  },
  {
   "cell_type": "code",
   "execution_count": null,
   "metadata": {},
   "outputs": [
    {
     "data": {
      "text/plain": [
       "array([[187961],\n",
       "       [204969],\n",
       "       [228753],\n",
       "       [234013],\n",
       "       [255738],\n",
       "       [250112],\n",
       "       [252272],\n",
       "       [269143],\n",
       "       [272513],\n",
       "       [269820],\n",
       "       [191031],\n",
       "       [194837]], dtype=int64)"
      ]
     },
     "execution_count": 211,
     "metadata": {},
     "output_type": "execute_result"
    }
   ],
   "source": [
    "# 운수수익\n",
    "series_operating_revenue = np.array(list(operating_revenue.iloc[0][1:13])).reshape(-1,1)\n",
    "series_operating_revenue"
   ]
  },
  {
   "cell_type": "code",
   "execution_count": null,
   "metadata": {},
   "outputs": [
    {
     "data": {
      "text/plain": [
       "array([[216090],\n",
       "       [235809],\n",
       "       [261789],\n",
       "       [267486],\n",
       "       [292938],\n",
       "       [289705],\n",
       "       [293775],\n",
       "       [313673],\n",
       "       [313671],\n",
       "       [311203],\n",
       "       [228180],\n",
       "       [229892]], dtype=int64)"
      ]
     },
     "execution_count": 209,
     "metadata": {},
     "output_type": "execute_result"
    }
   ],
   "source": [
    "# 부대사업수익\n",
    "series_revenue"
   ]
  },
  {
   "cell_type": "code",
   "execution_count": null,
   "metadata": {},
   "outputs": [
    {
     "name": "stdout",
     "output_type": "stream",
     "text": [
      "[2022, 2023, 2024, 2025, 2026, 2027, 2028, 2029, 2030, 2031]\n"
     ]
    }
   ],
   "source": [
    "# 10년 후 인덱스 만들기\n",
    "ten_years = []\n",
    "for i in range(2022,2032):\n",
    "    ten_years.append(i)\n",
    "print(ten_years)\n",
    "ten_years = list(map(str, ten_years))"
   ]
  },
  {
   "cell_type": "code",
   "execution_count": null,
   "metadata": {},
   "outputs": [],
   "source": [
    "cost=list([\"금액\"])"
   ]
  },
  {
   "cell_type": "code",
   "execution_count": null,
   "metadata": {},
   "outputs": [],
   "source": [
    "df_revenue = pd.DataFrame(series_revenue, index=list_year, columns=cost, dtype=\"int\")"
   ]
  },
  {
   "cell_type": "code",
   "execution_count": null,
   "metadata": {},
   "outputs": [],
   "source": [
    "df_revenue.reset_index(inplace=True)"
   ]
  },
  {
   "cell_type": "code",
   "execution_count": null,
   "metadata": {},
   "outputs": [],
   "source": [
    "df_revenue.rename(columns={\"index\":\"연도\"}, inplace=True)"
   ]
  },
  {
   "cell_type": "code",
   "execution_count": null,
   "metadata": {},
   "outputs": [
    {
     "data": {
      "text/html": [
       "<div>\n",
       "<style scoped>\n",
       "    .dataframe tbody tr th:only-of-type {\n",
       "        vertical-align: middle;\n",
       "    }\n",
       "\n",
       "    .dataframe tbody tr th {\n",
       "        vertical-align: top;\n",
       "    }\n",
       "\n",
       "    .dataframe thead th {\n",
       "        text-align: right;\n",
       "    }\n",
       "</style>\n",
       "<table border=\"1\" class=\"dataframe\">\n",
       "  <thead>\n",
       "    <tr style=\"text-align: right;\">\n",
       "      <th></th>\n",
       "      <th>연도</th>\n",
       "      <th>금액</th>\n",
       "    </tr>\n",
       "  </thead>\n",
       "  <tbody>\n",
       "    <tr>\n",
       "      <th>0</th>\n",
       "      <td>2010-01-01</td>\n",
       "      <td>216090</td>\n",
       "    </tr>\n",
       "    <tr>\n",
       "      <th>1</th>\n",
       "      <td>2011-01-01</td>\n",
       "      <td>235809</td>\n",
       "    </tr>\n",
       "    <tr>\n",
       "      <th>2</th>\n",
       "      <td>2012-01-01</td>\n",
       "      <td>261789</td>\n",
       "    </tr>\n",
       "    <tr>\n",
       "      <th>3</th>\n",
       "      <td>2013-01-01</td>\n",
       "      <td>267486</td>\n",
       "    </tr>\n",
       "    <tr>\n",
       "      <th>4</th>\n",
       "      <td>2014-01-01</td>\n",
       "      <td>292938</td>\n",
       "    </tr>\n",
       "    <tr>\n",
       "      <th>5</th>\n",
       "      <td>2015-01-01</td>\n",
       "      <td>289705</td>\n",
       "    </tr>\n",
       "    <tr>\n",
       "      <th>6</th>\n",
       "      <td>2016-01-01</td>\n",
       "      <td>293775</td>\n",
       "    </tr>\n",
       "    <tr>\n",
       "      <th>7</th>\n",
       "      <td>2017-01-01</td>\n",
       "      <td>313673</td>\n",
       "    </tr>\n",
       "    <tr>\n",
       "      <th>8</th>\n",
       "      <td>2018-01-01</td>\n",
       "      <td>313671</td>\n",
       "    </tr>\n",
       "    <tr>\n",
       "      <th>9</th>\n",
       "      <td>2019-01-01</td>\n",
       "      <td>311203</td>\n",
       "    </tr>\n",
       "    <tr>\n",
       "      <th>10</th>\n",
       "      <td>2020-01-01</td>\n",
       "      <td>228180</td>\n",
       "    </tr>\n",
       "    <tr>\n",
       "      <th>11</th>\n",
       "      <td>2021-01-01</td>\n",
       "      <td>229892</td>\n",
       "    </tr>\n",
       "  </tbody>\n",
       "</table>\n",
       "</div>"
      ],
      "text/plain": [
       "           연도      금액\n",
       "0  2010-01-01  216090\n",
       "1  2011-01-01  235809\n",
       "2  2012-01-01  261789\n",
       "3  2013-01-01  267486\n",
       "4  2014-01-01  292938\n",
       "5  2015-01-01  289705\n",
       "6  2016-01-01  293775\n",
       "7  2017-01-01  313673\n",
       "8  2018-01-01  313671\n",
       "9  2019-01-01  311203\n",
       "10 2020-01-01  228180\n",
       "11 2021-01-01  229892"
      ]
     },
     "execution_count": 367,
     "metadata": {},
     "output_type": "execute_result"
    }
   ],
   "source": [
    "df_revenue"
   ]
  },
  {
   "cell_type": "code",
   "execution_count": null,
   "metadata": {},
   "outputs": [],
   "source": [
    "df_operating_revenue = pd.DataFrame(series_operating_revenue, index=list_year, dtype=\"int\")"
   ]
  },
  {
   "cell_type": "code",
   "execution_count": null,
   "metadata": {},
   "outputs": [],
   "source": [
    "# ARIMA 사용\n",
    "from statsmodels.tsa.arima_model import ARIMA"
   ]
  },
  {
   "cell_type": "code",
   "execution_count": null,
   "metadata": {},
   "outputs": [
    {
     "data": {
      "text/html": [
       "<style>#sk-container-id-7 {color: black;background-color: white;}#sk-container-id-7 pre{padding: 0;}#sk-container-id-7 div.sk-toggleable {background-color: white;}#sk-container-id-7 label.sk-toggleable__label {cursor: pointer;display: block;width: 100%;margin-bottom: 0;padding: 0.3em;box-sizing: border-box;text-align: center;}#sk-container-id-7 label.sk-toggleable__label-arrow:before {content: \"▸\";float: left;margin-right: 0.25em;color: #696969;}#sk-container-id-7 label.sk-toggleable__label-arrow:hover:before {color: black;}#sk-container-id-7 div.sk-estimator:hover label.sk-toggleable__label-arrow:before {color: black;}#sk-container-id-7 div.sk-toggleable__content {max-height: 0;max-width: 0;overflow: hidden;text-align: left;background-color: #f0f8ff;}#sk-container-id-7 div.sk-toggleable__content pre {margin: 0.2em;color: black;border-radius: 0.25em;background-color: #f0f8ff;}#sk-container-id-7 input.sk-toggleable__control:checked~div.sk-toggleable__content {max-height: 200px;max-width: 100%;overflow: auto;}#sk-container-id-7 input.sk-toggleable__control:checked~label.sk-toggleable__label-arrow:before {content: \"▾\";}#sk-container-id-7 div.sk-estimator input.sk-toggleable__control:checked~label.sk-toggleable__label {background-color: #d4ebff;}#sk-container-id-7 div.sk-label input.sk-toggleable__control:checked~label.sk-toggleable__label {background-color: #d4ebff;}#sk-container-id-7 input.sk-hidden--visually {border: 0;clip: rect(1px 1px 1px 1px);clip: rect(1px, 1px, 1px, 1px);height: 1px;margin: -1px;overflow: hidden;padding: 0;position: absolute;width: 1px;}#sk-container-id-7 div.sk-estimator {font-family: monospace;background-color: #f0f8ff;border: 1px dotted black;border-radius: 0.25em;box-sizing: border-box;margin-bottom: 0.5em;}#sk-container-id-7 div.sk-estimator:hover {background-color: #d4ebff;}#sk-container-id-7 div.sk-parallel-item::after {content: \"\";width: 100%;border-bottom: 1px solid gray;flex-grow: 1;}#sk-container-id-7 div.sk-label:hover label.sk-toggleable__label {background-color: #d4ebff;}#sk-container-id-7 div.sk-serial::before {content: \"\";position: absolute;border-left: 1px solid gray;box-sizing: border-box;top: 0;bottom: 0;left: 50%;z-index: 0;}#sk-container-id-7 div.sk-serial {display: flex;flex-direction: column;align-items: center;background-color: white;padding-right: 0.2em;padding-left: 0.2em;position: relative;}#sk-container-id-7 div.sk-item {position: relative;z-index: 1;}#sk-container-id-7 div.sk-parallel {display: flex;align-items: stretch;justify-content: center;background-color: white;position: relative;}#sk-container-id-7 div.sk-item::before, #sk-container-id-7 div.sk-parallel-item::before {content: \"\";position: absolute;border-left: 1px solid gray;box-sizing: border-box;top: 0;bottom: 0;left: 50%;z-index: -1;}#sk-container-id-7 div.sk-parallel-item {display: flex;flex-direction: column;z-index: 1;position: relative;background-color: white;}#sk-container-id-7 div.sk-parallel-item:first-child::after {align-self: flex-end;width: 50%;}#sk-container-id-7 div.sk-parallel-item:last-child::after {align-self: flex-start;width: 50%;}#sk-container-id-7 div.sk-parallel-item:only-child::after {width: 0;}#sk-container-id-7 div.sk-dashed-wrapped {border: 1px dashed gray;margin: 0 0.4em 0.5em 0.4em;box-sizing: border-box;padding-bottom: 0.4em;background-color: white;}#sk-container-id-7 div.sk-label label {font-family: monospace;font-weight: bold;display: inline-block;line-height: 1.2em;}#sk-container-id-7 div.sk-label-container {text-align: center;}#sk-container-id-7 div.sk-container {/* jupyter's `normalize.less` sets `[hidden] { display: none; }` but bootstrap.min.css set `[hidden] { display: none !important; }` so we also need the `!important` here to be able to override the default hidden behavior on the sphinx rendered scikit-learn.org. See: https://github.com/scikit-learn/scikit-learn/issues/21755 */display: inline-block !important;position: relative;}#sk-container-id-7 div.sk-text-repr-fallback {display: none;}</style><div id=\"sk-container-id-7\" class=\"sk-top-container\"><div class=\"sk-text-repr-fallback\"><pre> ARIMA(1,0,0)(0,0,0)[0] intercept</pre><b>In a Jupyter environment, please rerun this cell to show the HTML representation or trust the notebook. <br />On GitHub, the HTML representation is unable to render, please try loading this page with nbviewer.org.</b></div><div class=\"sk-container\" hidden><div class=\"sk-item\"><div class=\"sk-estimator sk-toggleable\"><input class=\"sk-toggleable__control sk-hidden--visually\" id=\"sk-estimator-id-7\" type=\"checkbox\" checked><label for=\"sk-estimator-id-7\" class=\"sk-toggleable__label sk-toggleable__label-arrow\">ARIMA</label><div class=\"sk-toggleable__content\"><pre> ARIMA(1,0,0)(0,0,0)[0] intercept</pre></div></div></div></div></div>"
      ],
      "text/plain": [
       "ARIMA(order=(1, 0, 0), scoring_args={}, suppress_warnings=True)"
      ]
     },
     "execution_count": 262,
     "metadata": {},
     "output_type": "execute_result"
    }
   ],
   "source": [
    "auto_arima_model = pm.auto_arima(df_revenue, seasonal=False, m=1)\n",
    "auto_arima_model"
   ]
  },
  {
   "cell_type": "code",
   "execution_count": null,
   "metadata": {},
   "outputs": [
    {
     "data": {
      "text/plain": [
       "2022    244748.366445\n",
       "2023    253091.335831\n",
       "2024    257776.541895\n",
       "2025    260407.638194\n",
       "2026    261885.197054\n",
       "2027    262714.957707\n",
       "2028    263180.930848\n",
       "2029    263442.609884\n",
       "2030    263589.562383\n",
       "2031    263672.087287\n",
       "Name: 시계열 예측, dtype: float64"
      ]
     },
     "execution_count": 393,
     "metadata": {},
     "output_type": "execute_result"
    }
   ],
   "source": [
    "fcast2 = auto_arima_model.predict(10)\n",
    "fcast2 = pd.Series(fcast2, index=ten_years)\n",
    "fcast2 = fcast2.rename(\"시계열 예측\")\n",
    "fcast2"
   ]
  },
  {
   "cell_type": "code",
   "execution_count": null,
   "metadata": {},
   "outputs": [],
   "source": [
    "fcast2 = fcast2.reset_index()"
   ]
  },
  {
   "cell_type": "code",
   "execution_count": null,
   "metadata": {},
   "outputs": [
    {
     "data": {
      "text/html": [
       "<div>\n",
       "<style scoped>\n",
       "    .dataframe tbody tr th:only-of-type {\n",
       "        vertical-align: middle;\n",
       "    }\n",
       "\n",
       "    .dataframe tbody tr th {\n",
       "        vertical-align: top;\n",
       "    }\n",
       "\n",
       "    .dataframe thead th {\n",
       "        text-align: right;\n",
       "    }\n",
       "</style>\n",
       "<table border=\"1\" class=\"dataframe\">\n",
       "  <thead>\n",
       "    <tr style=\"text-align: right;\">\n",
       "      <th></th>\n",
       "      <th>연도</th>\n",
       "      <th>시계열 예측</th>\n",
       "    </tr>\n",
       "  </thead>\n",
       "  <tbody>\n",
       "    <tr>\n",
       "      <th>0</th>\n",
       "      <td>2022</td>\n",
       "      <td>244748.366445</td>\n",
       "    </tr>\n",
       "    <tr>\n",
       "      <th>1</th>\n",
       "      <td>2023</td>\n",
       "      <td>253091.335831</td>\n",
       "    </tr>\n",
       "    <tr>\n",
       "      <th>2</th>\n",
       "      <td>2024</td>\n",
       "      <td>257776.541895</td>\n",
       "    </tr>\n",
       "    <tr>\n",
       "      <th>3</th>\n",
       "      <td>2025</td>\n",
       "      <td>260407.638194</td>\n",
       "    </tr>\n",
       "    <tr>\n",
       "      <th>4</th>\n",
       "      <td>2026</td>\n",
       "      <td>261885.197054</td>\n",
       "    </tr>\n",
       "    <tr>\n",
       "      <th>5</th>\n",
       "      <td>2027</td>\n",
       "      <td>262714.957707</td>\n",
       "    </tr>\n",
       "    <tr>\n",
       "      <th>6</th>\n",
       "      <td>2028</td>\n",
       "      <td>263180.930848</td>\n",
       "    </tr>\n",
       "    <tr>\n",
       "      <th>7</th>\n",
       "      <td>2029</td>\n",
       "      <td>263442.609884</td>\n",
       "    </tr>\n",
       "    <tr>\n",
       "      <th>8</th>\n",
       "      <td>2030</td>\n",
       "      <td>263589.562383</td>\n",
       "    </tr>\n",
       "    <tr>\n",
       "      <th>9</th>\n",
       "      <td>2031</td>\n",
       "      <td>263672.087287</td>\n",
       "    </tr>\n",
       "  </tbody>\n",
       "</table>\n",
       "</div>"
      ],
      "text/plain": [
       "     연도         시계열 예측\n",
       "0  2022  244748.366445\n",
       "1  2023  253091.335831\n",
       "2  2024  257776.541895\n",
       "3  2025  260407.638194\n",
       "4  2026  261885.197054\n",
       "5  2027  262714.957707\n",
       "6  2028  263180.930848\n",
       "7  2029  263442.609884\n",
       "8  2030  263589.562383\n",
       "9  2031  263672.087287"
      ]
     },
     "execution_count": 397,
     "metadata": {},
     "output_type": "execute_result"
    }
   ],
   "source": [
    "fcast2.rename(columns={\"index\":\"연도\"}, inplace=True)\n",
    "fcast2"
   ]
  },
  {
   "cell_type": "code",
   "execution_count": null,
   "metadata": {},
   "outputs": [
    {
     "data": {
      "text/plain": [
       "0    2022\n",
       "1    2023\n",
       "2    2024\n",
       "3    2025\n",
       "4    2026\n",
       "5    2027\n",
       "6    2028\n",
       "7    2029\n",
       "8    2030\n",
       "9    2031\n",
       "Name: 연도, dtype: object"
      ]
     },
     "execution_count": 398,
     "metadata": {},
     "output_type": "execute_result"
    }
   ],
   "source": [
    "fcast2[\"연도\"]"
   ]
  },
  {
   "cell_type": "code",
   "execution_count": null,
   "metadata": {},
   "outputs": [
    {
     "data": {
      "text/plain": [
       "0   2022-01-01\n",
       "1   2023-01-01\n",
       "2   2024-01-01\n",
       "3   2025-01-01\n",
       "4   2026-01-01\n",
       "5   2027-01-01\n",
       "6   2028-01-01\n",
       "7   2029-01-01\n",
       "8   2030-01-01\n",
       "9   2031-01-01\n",
       "Name: 연도, dtype: datetime64[ns]"
      ]
     },
     "execution_count": 399,
     "metadata": {},
     "output_type": "execute_result"
    }
   ],
   "source": [
    "fcast2_index = pd.to_datetime(fcast2[\"연도\"])\n",
    "fcast2_index"
   ]
  },
  {
   "cell_type": "code",
   "execution_count": null,
   "metadata": {},
   "outputs": [
    {
     "ename": "IntCastingNaNError",
     "evalue": "Cannot convert non-finite values (NA or inf) to integer",
     "output_type": "error",
     "traceback": [
      "\u001b[1;31m---------------------------------------------------------------------------\u001b[0m",
      "\u001b[1;31mIntCastingNaNError\u001b[0m                        Traceback (most recent call last)",
      "\u001b[1;32mc:\\localRepository\\Project-distribution\\eda\\revenue_cost.ipynb 셀 55\u001b[0m in \u001b[0;36m<cell line: 1>\u001b[1;34m()\u001b[0m\n\u001b[1;32m----> <a href='vscode-notebook-cell:/c%3A/localRepository/Project-distribution/eda/revenue_cost.ipynb#Y141sZmlsZQ%3D%3D?line=0'>1</a>\u001b[0m pd\u001b[39m.\u001b[39;49mDataFrame(fcast2, index\u001b[39m=\u001b[39;49mfcast2_index, columns\u001b[39m=\u001b[39;49mcost, dtype\u001b[39m=\u001b[39;49m\u001b[39m\"\u001b[39;49m\u001b[39mint\u001b[39;49m\u001b[39m\"\u001b[39;49m)\n",
      "File \u001b[1;32mc:\\Users\\admin\\AppData\\Local\\Programs\\Python\\Python310\\lib\\site-packages\\pandas\\core\\frame.py:630\u001b[0m, in \u001b[0;36mDataFrame.__init__\u001b[1;34m(self, data, index, columns, dtype, copy)\u001b[0m\n\u001b[0;32m    627\u001b[0m         copy \u001b[39m=\u001b[39m \u001b[39mFalse\u001b[39;00m\n\u001b[0;32m    629\u001b[0m \u001b[39mif\u001b[39;00m \u001b[39misinstance\u001b[39m(data, (BlockManager, ArrayManager)):\n\u001b[1;32m--> 630\u001b[0m     mgr \u001b[39m=\u001b[39m \u001b[39mself\u001b[39;49m\u001b[39m.\u001b[39;49m_init_mgr(\n\u001b[0;32m    631\u001b[0m         data, axes\u001b[39m=\u001b[39;49m{\u001b[39m\"\u001b[39;49m\u001b[39mindex\u001b[39;49m\u001b[39m\"\u001b[39;49m: index, \u001b[39m\"\u001b[39;49m\u001b[39mcolumns\u001b[39;49m\u001b[39m\"\u001b[39;49m: columns}, dtype\u001b[39m=\u001b[39;49mdtype, copy\u001b[39m=\u001b[39;49mcopy\n\u001b[0;32m    632\u001b[0m     )\n\u001b[0;32m    634\u001b[0m \u001b[39melif\u001b[39;00m \u001b[39misinstance\u001b[39m(data, \u001b[39mdict\u001b[39m):\n\u001b[0;32m    635\u001b[0m     \u001b[39m# GH#38939 de facto copy defaults to False only in non-dict cases\u001b[39;00m\n\u001b[0;32m    636\u001b[0m     mgr \u001b[39m=\u001b[39m dict_to_mgr(data, index, columns, dtype\u001b[39m=\u001b[39mdtype, copy\u001b[39m=\u001b[39mcopy, typ\u001b[39m=\u001b[39mmanager)\n",
      "File \u001b[1;32mc:\\Users\\admin\\AppData\\Local\\Programs\\Python\\Python310\\lib\\site-packages\\pandas\\core\\generic.py:284\u001b[0m, in \u001b[0;36mNDFrame._init_mgr\u001b[1;34m(cls, mgr, axes, dtype, copy)\u001b[0m\n\u001b[0;32m    282\u001b[0m         \u001b[39mpass\u001b[39;00m\n\u001b[0;32m    283\u001b[0m     \u001b[39melse\u001b[39;00m:\n\u001b[1;32m--> 284\u001b[0m         mgr \u001b[39m=\u001b[39m mgr\u001b[39m.\u001b[39;49mastype(dtype\u001b[39m=\u001b[39;49mdtype)\n\u001b[0;32m    285\u001b[0m \u001b[39mreturn\u001b[39;00m mgr\n",
      "File \u001b[1;32mc:\\Users\\admin\\AppData\\Local\\Programs\\Python\\Python310\\lib\\site-packages\\pandas\\core\\internals\\managers.py:419\u001b[0m, in \u001b[0;36mBaseBlockManager.astype\u001b[1;34m(self, dtype, copy, errors)\u001b[0m\n\u001b[0;32m    418\u001b[0m \u001b[39mdef\u001b[39;00m \u001b[39mastype\u001b[39m(\u001b[39mself\u001b[39m: T, dtype, copy: \u001b[39mbool\u001b[39m \u001b[39m=\u001b[39m \u001b[39mFalse\u001b[39;00m, errors: \u001b[39mstr\u001b[39m \u001b[39m=\u001b[39m \u001b[39m\"\u001b[39m\u001b[39mraise\u001b[39m\u001b[39m\"\u001b[39m) \u001b[39m-\u001b[39m\u001b[39m>\u001b[39m T:\n\u001b[1;32m--> 419\u001b[0m     \u001b[39mreturn\u001b[39;00m \u001b[39mself\u001b[39;49m\u001b[39m.\u001b[39;49mapply(\u001b[39m\"\u001b[39;49m\u001b[39mastype\u001b[39;49m\u001b[39m\"\u001b[39;49m, dtype\u001b[39m=\u001b[39;49mdtype, copy\u001b[39m=\u001b[39;49mcopy, errors\u001b[39m=\u001b[39;49merrors)\n",
      "File \u001b[1;32mc:\\Users\\admin\\AppData\\Local\\Programs\\Python\\Python310\\lib\\site-packages\\pandas\\core\\internals\\managers.py:304\u001b[0m, in \u001b[0;36mBaseBlockManager.apply\u001b[1;34m(self, f, align_keys, ignore_failures, **kwargs)\u001b[0m\n\u001b[0;32m    302\u001b[0m         applied \u001b[39m=\u001b[39m b\u001b[39m.\u001b[39mapply(f, \u001b[39m*\u001b[39m\u001b[39m*\u001b[39mkwargs)\n\u001b[0;32m    303\u001b[0m     \u001b[39melse\u001b[39;00m:\n\u001b[1;32m--> 304\u001b[0m         applied \u001b[39m=\u001b[39m \u001b[39mgetattr\u001b[39m(b, f)(\u001b[39m*\u001b[39m\u001b[39m*\u001b[39mkwargs)\n\u001b[0;32m    305\u001b[0m \u001b[39mexcept\u001b[39;00m (\u001b[39mTypeError\u001b[39;00m, \u001b[39mNotImplementedError\u001b[39;00m):\n\u001b[0;32m    306\u001b[0m     \u001b[39mif\u001b[39;00m \u001b[39mnot\u001b[39;00m ignore_failures:\n",
      "File \u001b[1;32mc:\\Users\\admin\\AppData\\Local\\Programs\\Python\\Python310\\lib\\site-packages\\pandas\\core\\internals\\blocks.py:580\u001b[0m, in \u001b[0;36mBlock.astype\u001b[1;34m(self, dtype, copy, errors)\u001b[0m\n\u001b[0;32m    562\u001b[0m \u001b[39m\"\"\"\u001b[39;00m\n\u001b[0;32m    563\u001b[0m \u001b[39mCoerce to the new dtype.\u001b[39;00m\n\u001b[0;32m    564\u001b[0m \n\u001b[1;32m   (...)\u001b[0m\n\u001b[0;32m    576\u001b[0m \u001b[39mBlock\u001b[39;00m\n\u001b[0;32m    577\u001b[0m \u001b[39m\"\"\"\u001b[39;00m\n\u001b[0;32m    578\u001b[0m values \u001b[39m=\u001b[39m \u001b[39mself\u001b[39m\u001b[39m.\u001b[39mvalues\n\u001b[1;32m--> 580\u001b[0m new_values \u001b[39m=\u001b[39m astype_array_safe(values, dtype, copy\u001b[39m=\u001b[39;49mcopy, errors\u001b[39m=\u001b[39;49merrors)\n\u001b[0;32m    582\u001b[0m new_values \u001b[39m=\u001b[39m maybe_coerce_values(new_values)\n\u001b[0;32m    583\u001b[0m newb \u001b[39m=\u001b[39m \u001b[39mself\u001b[39m\u001b[39m.\u001b[39mmake_block(new_values)\n",
      "File \u001b[1;32mc:\\Users\\admin\\AppData\\Local\\Programs\\Python\\Python310\\lib\\site-packages\\pandas\\core\\dtypes\\cast.py:1292\u001b[0m, in \u001b[0;36mastype_array_safe\u001b[1;34m(values, dtype, copy, errors)\u001b[0m\n\u001b[0;32m   1289\u001b[0m     dtype \u001b[39m=\u001b[39m dtype\u001b[39m.\u001b[39mnumpy_dtype\n\u001b[0;32m   1291\u001b[0m \u001b[39mtry\u001b[39;00m:\n\u001b[1;32m-> 1292\u001b[0m     new_values \u001b[39m=\u001b[39m astype_array(values, dtype, copy\u001b[39m=\u001b[39;49mcopy)\n\u001b[0;32m   1293\u001b[0m \u001b[39mexcept\u001b[39;00m (\u001b[39mValueError\u001b[39;00m, \u001b[39mTypeError\u001b[39;00m):\n\u001b[0;32m   1294\u001b[0m     \u001b[39m# e.g. astype_nansafe can fail on object-dtype of strings\u001b[39;00m\n\u001b[0;32m   1295\u001b[0m     \u001b[39m#  trying to convert to float\u001b[39;00m\n\u001b[0;32m   1296\u001b[0m     \u001b[39mif\u001b[39;00m errors \u001b[39m==\u001b[39m \u001b[39m\"\u001b[39m\u001b[39mignore\u001b[39m\u001b[39m\"\u001b[39m:\n",
      "File \u001b[1;32mc:\\Users\\admin\\AppData\\Local\\Programs\\Python\\Python310\\lib\\site-packages\\pandas\\core\\dtypes\\cast.py:1237\u001b[0m, in \u001b[0;36mastype_array\u001b[1;34m(values, dtype, copy)\u001b[0m\n\u001b[0;32m   1234\u001b[0m     values \u001b[39m=\u001b[39m values\u001b[39m.\u001b[39mastype(dtype, copy\u001b[39m=\u001b[39mcopy)\n\u001b[0;32m   1236\u001b[0m \u001b[39melse\u001b[39;00m:\n\u001b[1;32m-> 1237\u001b[0m     values \u001b[39m=\u001b[39m astype_nansafe(values, dtype, copy\u001b[39m=\u001b[39;49mcopy)\n\u001b[0;32m   1239\u001b[0m \u001b[39m# in pandas we don't store numpy str dtypes, so convert to object\u001b[39;00m\n\u001b[0;32m   1240\u001b[0m \u001b[39mif\u001b[39;00m \u001b[39misinstance\u001b[39m(dtype, np\u001b[39m.\u001b[39mdtype) \u001b[39mand\u001b[39;00m \u001b[39missubclass\u001b[39m(values\u001b[39m.\u001b[39mdtype\u001b[39m.\u001b[39mtype, \u001b[39mstr\u001b[39m):\n",
      "File \u001b[1;32mc:\\Users\\admin\\AppData\\Local\\Programs\\Python\\Python310\\lib\\site-packages\\pandas\\core\\dtypes\\cast.py:1098\u001b[0m, in \u001b[0;36mastype_nansafe\u001b[1;34m(arr, dtype, copy, skipna)\u001b[0m\n\u001b[0;32m   1096\u001b[0m \u001b[39mif\u001b[39;00m arr\u001b[39m.\u001b[39mndim \u001b[39m>\u001b[39m \u001b[39m1\u001b[39m:\n\u001b[0;32m   1097\u001b[0m     flat \u001b[39m=\u001b[39m arr\u001b[39m.\u001b[39mravel()\n\u001b[1;32m-> 1098\u001b[0m     result \u001b[39m=\u001b[39m astype_nansafe(flat, dtype, copy\u001b[39m=\u001b[39;49mcopy, skipna\u001b[39m=\u001b[39;49mskipna)\n\u001b[0;32m   1099\u001b[0m     \u001b[39m# error: Item \"ExtensionArray\" of \"Union[ExtensionArray, ndarray]\" has no\u001b[39;00m\n\u001b[0;32m   1100\u001b[0m     \u001b[39m# attribute \"reshape\"\u001b[39;00m\n\u001b[0;32m   1101\u001b[0m     \u001b[39mreturn\u001b[39;00m result\u001b[39m.\u001b[39mreshape(arr\u001b[39m.\u001b[39mshape)  \u001b[39m# type: ignore[union-attr]\u001b[39;00m\n",
      "File \u001b[1;32mc:\\Users\\admin\\AppData\\Local\\Programs\\Python\\Python310\\lib\\site-packages\\pandas\\core\\dtypes\\cast.py:1148\u001b[0m, in \u001b[0;36mastype_nansafe\u001b[1;34m(arr, dtype, copy, skipna)\u001b[0m\n\u001b[0;32m   1145\u001b[0m     \u001b[39mraise\u001b[39;00m \u001b[39mTypeError\u001b[39;00m(\u001b[39mf\u001b[39m\u001b[39m\"\u001b[39m\u001b[39mcannot astype a timedelta from [\u001b[39m\u001b[39m{\u001b[39;00marr\u001b[39m.\u001b[39mdtype\u001b[39m}\u001b[39;00m\u001b[39m] to [\u001b[39m\u001b[39m{\u001b[39;00mdtype\u001b[39m}\u001b[39;00m\u001b[39m]\u001b[39m\u001b[39m\"\u001b[39m)\n\u001b[0;32m   1147\u001b[0m \u001b[39melif\u001b[39;00m np\u001b[39m.\u001b[39missubdtype(arr\u001b[39m.\u001b[39mdtype, np\u001b[39m.\u001b[39mfloating) \u001b[39mand\u001b[39;00m np\u001b[39m.\u001b[39missubdtype(dtype, np\u001b[39m.\u001b[39minteger):\n\u001b[1;32m-> 1148\u001b[0m     \u001b[39mreturn\u001b[39;00m astype_float_to_int_nansafe(arr, dtype, copy)\n\u001b[0;32m   1150\u001b[0m \u001b[39melif\u001b[39;00m is_object_dtype(arr\u001b[39m.\u001b[39mdtype):\n\u001b[0;32m   1151\u001b[0m \n\u001b[0;32m   1152\u001b[0m     \u001b[39m# work around NumPy brokenness, #1987\u001b[39;00m\n\u001b[0;32m   1153\u001b[0m     \u001b[39mif\u001b[39;00m np\u001b[39m.\u001b[39missubdtype(dtype\u001b[39m.\u001b[39mtype, np\u001b[39m.\u001b[39minteger):\n",
      "File \u001b[1;32mc:\\Users\\admin\\AppData\\Local\\Programs\\Python\\Python310\\lib\\site-packages\\pandas\\core\\dtypes\\cast.py:1193\u001b[0m, in \u001b[0;36mastype_float_to_int_nansafe\u001b[1;34m(values, dtype, copy)\u001b[0m\n\u001b[0;32m   1189\u001b[0m \u001b[39m\"\"\"\u001b[39;00m\n\u001b[0;32m   1190\u001b[0m \u001b[39mastype with a check preventing converting NaN to an meaningless integer value.\u001b[39;00m\n\u001b[0;32m   1191\u001b[0m \u001b[39m\"\"\"\u001b[39;00m\n\u001b[0;32m   1192\u001b[0m \u001b[39mif\u001b[39;00m \u001b[39mnot\u001b[39;00m np\u001b[39m.\u001b[39misfinite(values)\u001b[39m.\u001b[39mall():\n\u001b[1;32m-> 1193\u001b[0m     \u001b[39mraise\u001b[39;00m IntCastingNaNError(\n\u001b[0;32m   1194\u001b[0m         \u001b[39m\"\u001b[39m\u001b[39mCannot convert non-finite values (NA or inf) to integer\u001b[39m\u001b[39m\"\u001b[39m\n\u001b[0;32m   1195\u001b[0m     )\n\u001b[0;32m   1196\u001b[0m \u001b[39mreturn\u001b[39;00m values\u001b[39m.\u001b[39mastype(dtype, copy\u001b[39m=\u001b[39mcopy)\n",
      "\u001b[1;31mIntCastingNaNError\u001b[0m: Cannot convert non-finite values (NA or inf) to integer"
     ]
    }
   ],
   "source": [
    "pd.DataFrame(fcast2, index=fcast2_index, columns=cost, dtype=\"int\")"
   ]
  },
  {
   "cell_type": "code",
   "execution_count": null,
   "metadata": {},
   "outputs": [
    {
     "data": {
      "image/png": "[encoded data removed]",
      "text/plain": [
       "<Figure size 1080x576 with 1 Axes>"
      ]
     },
     "metadata": {},
     "output_type": "display_data"
    }
   ],
   "source": [
    "fig, ax = plt.subplots(figsize=(15,8))\n",
    "chart = sns.lineplot(x='연도', y='금액', data = df_revenue)\n",
    "chart.set_title('시계열')\n",
    "df_revenue.plot(ax=ax, color='green', marker=\"o\", legend=True)\n",
    "fcast2.plot(ax=ax, color='red', marker=\"o\", legend=True)\n",
    "plt.show()"
   ]
  },
  {
   "cell_type": "code",
   "execution_count": null,
   "metadata": {},
   "outputs": [],
   "source": []
  },
  {
   "cell_type": "code",
   "execution_count": null,
   "metadata": {},
   "outputs": [],
   "source": []
  },
  {
   "cell_type": "code",
   "execution_count": null,
   "metadata": {},
   "outputs": [
    {
     "ename": "ValueError",
     "evalue": "Can only compute partial correlations for lags up to 50% of the sample size. The requested nlags 11 must be < 6.",
     "output_type": "error",
     "traceback": [
      "\u001b[1;31m---------------------------------------------------------------------------\u001b[0m",
      "\u001b[1;31mValueError\u001b[0m                                Traceback (most recent call last)",
      "\u001b[1;32mc:\\localRepository\\Project-distribution\\eda\\revenue_cost.ipynb 셀 40\u001b[0m in \u001b[0;36m<cell line: 5>\u001b[1;34m()\u001b[0m\n\u001b[0;32m      <a href='vscode-notebook-cell:/c%3A/localRepository/Project-distribution/eda/revenue_cost.ipynb#Y104sZmlsZQ%3D%3D?line=1'>2</a>\u001b[0m \u001b[39mfrom\u001b[39;00m \u001b[39mstatsmodels\u001b[39;00m\u001b[39m.\u001b[39;00m\u001b[39mgraphics\u001b[39;00m\u001b[39m.\u001b[39;00m\u001b[39mtsaplots\u001b[39;00m \u001b[39mimport\u001b[39;00m plot_acf, plot_pacf\n\u001b[0;32m      <a href='vscode-notebook-cell:/c%3A/localRepository/Project-distribution/eda/revenue_cost.ipynb#Y104sZmlsZQ%3D%3D?line=3'>4</a>\u001b[0m plot_acf(series_operating_revenue)\n\u001b[1;32m----> <a href='vscode-notebook-cell:/c%3A/localRepository/Project-distribution/eda/revenue_cost.ipynb#Y104sZmlsZQ%3D%3D?line=4'>5</a>\u001b[0m plot_pacf(series_operating_revenue)\n\u001b[0;32m      <a href='vscode-notebook-cell:/c%3A/localRepository/Project-distribution/eda/revenue_cost.ipynb#Y104sZmlsZQ%3D%3D?line=5'>6</a>\u001b[0m plt\u001b[39m.\u001b[39mshow()\n",
      "File \u001b[1;32mc:\\Users\\admin\\AppData\\Local\\Programs\\Python\\Python310\\lib\\site-packages\\statsmodels\\graphics\\tsaplots.py:363\u001b[0m, in \u001b[0;36mplot_pacf\u001b[1;34m(x, ax, lags, alpha, method, use_vlines, title, zero, vlines_kwargs, **kwargs)\u001b[0m\n\u001b[0;32m    361\u001b[0m     acf_x \u001b[39m=\u001b[39m pacf(x, nlags\u001b[39m=\u001b[39mnlags, alpha\u001b[39m=\u001b[39malpha, method\u001b[39m=\u001b[39mmethod)\n\u001b[0;32m    362\u001b[0m \u001b[39melse\u001b[39;00m:\n\u001b[1;32m--> 363\u001b[0m     acf_x, confint \u001b[39m=\u001b[39m pacf(x, nlags\u001b[39m=\u001b[39;49mnlags, alpha\u001b[39m=\u001b[39;49malpha, method\u001b[39m=\u001b[39;49mmethod)\n\u001b[0;32m    365\u001b[0m _plot_corr(\n\u001b[0;32m    366\u001b[0m     ax,\n\u001b[0;32m    367\u001b[0m     title,\n\u001b[1;32m   (...)\u001b[0m\n\u001b[0;32m    374\u001b[0m     \u001b[39m*\u001b[39m\u001b[39m*\u001b[39mkwargs,\n\u001b[0;32m    375\u001b[0m )\n\u001b[0;32m    377\u001b[0m \u001b[39mreturn\u001b[39;00m fig\n",
      "File \u001b[1;32mc:\\Users\\admin\\AppData\\Local\\Programs\\Python\\Python310\\lib\\site-packages\\statsmodels\\tsa\\stattools.py:996\u001b[0m, in \u001b[0;36mpacf\u001b[1;34m(x, nlags, method, alpha)\u001b[0m\n\u001b[0;32m    994\u001b[0m     nlags \u001b[39m=\u001b[39m \u001b[39mmin\u001b[39m(\u001b[39mint\u001b[39m(\u001b[39m10\u001b[39m \u001b[39m*\u001b[39m np\u001b[39m.\u001b[39mlog10(nobs)), nobs \u001b[39m/\u001b[39m\u001b[39m/\u001b[39m \u001b[39m2\u001b[39m \u001b[39m-\u001b[39m \u001b[39m1\u001b[39m)\n\u001b[0;32m    995\u001b[0m \u001b[39mif\u001b[39;00m nlags \u001b[39m>\u001b[39m\u001b[39m=\u001b[39m x\u001b[39m.\u001b[39mshape[\u001b[39m0\u001b[39m] \u001b[39m/\u001b[39m\u001b[39m/\u001b[39m \u001b[39m2\u001b[39m:\n\u001b[1;32m--> 996\u001b[0m     \u001b[39mraise\u001b[39;00m \u001b[39mValueError\u001b[39;00m(\n\u001b[0;32m    997\u001b[0m         \u001b[39m\"\u001b[39m\u001b[39mCan only compute partial correlations for lags up to 50\u001b[39m\u001b[39m% o\u001b[39;00m\u001b[39mf the \u001b[39m\u001b[39m\"\u001b[39m\n\u001b[0;32m    998\u001b[0m         \u001b[39mf\u001b[39m\u001b[39m\"\u001b[39m\u001b[39msample size. The requested nlags \u001b[39m\u001b[39m{\u001b[39;00mnlags\u001b[39m}\u001b[39;00m\u001b[39m must be < \u001b[39m\u001b[39m\"\u001b[39m\n\u001b[0;32m    999\u001b[0m         \u001b[39mf\u001b[39m\u001b[39m\"\u001b[39m\u001b[39m{\u001b[39;00mx\u001b[39m.\u001b[39mshape[\u001b[39m0\u001b[39m] \u001b[39m/\u001b[39m\u001b[39m/\u001b[39m \u001b[39m2\u001b[39m\u001b[39m}\u001b[39;00m\u001b[39m.\u001b[39m\u001b[39m\"\u001b[39m\n\u001b[0;32m   1000\u001b[0m     )\n\u001b[0;32m   1002\u001b[0m \u001b[39mif\u001b[39;00m method \u001b[39min\u001b[39;00m (\u001b[39m\"\u001b[39m\u001b[39mols\u001b[39m\u001b[39m\"\u001b[39m, \u001b[39m\"\u001b[39m\u001b[39mols-inefficient\u001b[39m\u001b[39m\"\u001b[39m, \u001b[39m\"\u001b[39m\u001b[39mols-adjusted\u001b[39m\u001b[39m\"\u001b[39m):\n\u001b[0;32m   1003\u001b[0m     efficient \u001b[39m=\u001b[39m \u001b[39m\"\u001b[39m\u001b[39minefficient\u001b[39m\u001b[39m\"\u001b[39m \u001b[39mnot\u001b[39;00m \u001b[39min\u001b[39;00m method\n",
      "\u001b[1;31mValueError\u001b[0m: Can only compute partial correlations for lags up to 50% of the sample size. The requested nlags 11 must be < 6."
     ]
    },
    {
     "data": {
      "image/png": "[encoded data removed]",
      "text/plain": [
       "<Figure size 432x288 with 1 Axes>"
      ]
     },
     "metadata": {},
     "output_type": "display_data"
    },
    {
     "data": {
      "image/png": "[encoded data removed]",
      "text/plain": [
       "<Figure size 432x288 with 1 Axes>"
      ]
     },
     "metadata": {},
     "output_type": "display_data"
    }
   ],
   "source": [
    "\"\"\"# 자기상관계수, 편자기상관계수\n",
    "import matplotlib.pyplot as plt\n",
    "from statsmodels.graphics.tsaplots import plot_acf, plot_pacf\n",
    "\n",
    "plot_acf(series_operating_revenue)\n",
    "plot_pacf(series_operating_revenue)\n",
    "plt.show()\"\"\""
   ]
  },
  {
   "cell_type": "markdown",
   "metadata": {},
   "source": [
    "### 시계열 LSTM"
   ]
  },
  {
   "cell_type": "code",
   "execution_count": 46,
   "metadata": {},
   "outputs": [],
   "source": [
    "import math\n",
    "import matplotlib.pyplot as plt\n",
    "import keras\n",
    "import pandas as pd\n",
    "import numpy as np\n",
    "from keras.models import Sequential\n",
    "from keras.layers import Dense\n",
    "from keras.layers import LSTM\n",
    "from keras.layers import Dropout\n",
    "from keras.layers import *\n",
    "from sklearn.preprocessing import MinMaxScaler\n",
    "from sklearn.metrics import mean_squared_error\n",
    "from sklearn.metrics import mean_absolute_error\n",
    "from sklearn.model_selection import train_test_split\n",
    "from keras.callbacks import EarlyStopping"
   ]
  },
  {
   "cell_type": "code",
   "execution_count": null,
   "metadata": {},
   "outputs": [],
   "source": [
    "\"\"\"\n",
    "1) 총수익\n",
    "2) 총비용\n",
    "3) 부대수익만\n",
    "4) 적자(총수익-총비용)\n",
    "\"\"\""
   ]
  },
  {
   "cell_type": "code",
   "execution_count": 41,
   "metadata": {},
   "outputs": [],
   "source": [
    "# 영업 총수익\n",
    "array_operating_revenue = np.array(list(sum.iloc[0])[1:13])"
   ]
  },
  {
   "cell_type": "code",
   "execution_count": null,
   "metadata": {},
   "outputs": [],
   "source": [
    "#np.array(list(sum.iloc[0])[1:13])"
   ]
  },
  {
   "cell_type": "code",
   "execution_count": 73,
   "metadata": {},
   "outputs": [
    {
     "data": {
      "text/html": [
       "<div>\n",
       "<style scoped>\n",
       "    .dataframe tbody tr th:only-of-type {\n",
       "        vertical-align: middle;\n",
       "    }\n",
       "\n",
       "    .dataframe tbody tr th {\n",
       "        vertical-align: top;\n",
       "    }\n",
       "\n",
       "    .dataframe thead th {\n",
       "        text-align: right;\n",
       "    }\n",
       "</style>\n",
       "<table border=\"1\" class=\"dataframe\">\n",
       "  <thead>\n",
       "    <tr style=\"text-align: right;\">\n",
       "      <th></th>\n",
       "      <th>0</th>\n",
       "      <th>1</th>\n",
       "      <th>2</th>\n",
       "      <th>3</th>\n",
       "    </tr>\n",
       "  </thead>\n",
       "  <tbody>\n",
       "    <tr>\n",
       "      <th>부분별합계</th>\n",
       "      <td>영업수익</td>\n",
       "      <td>영업비용</td>\n",
       "      <td>영업 외 수익</td>\n",
       "      <td>영업 외 비용</td>\n",
       "    </tr>\n",
       "    <tr>\n",
       "      <th>2010년</th>\n",
       "      <td>216090</td>\n",
       "      <td>433269</td>\n",
       "      <td>111372</td>\n",
       "      <td>599</td>\n",
       "    </tr>\n",
       "    <tr>\n",
       "      <th>2011년</th>\n",
       "      <td>235809</td>\n",
       "      <td>478518</td>\n",
       "      <td>129081</td>\n",
       "      <td>1039</td>\n",
       "    </tr>\n",
       "    <tr>\n",
       "      <th>2012년</th>\n",
       "      <td>261789</td>\n",
       "      <td>491224</td>\n",
       "      <td>123467</td>\n",
       "      <td>1783</td>\n",
       "    </tr>\n",
       "    <tr>\n",
       "      <th>2013년</th>\n",
       "      <td>267486</td>\n",
       "      <td>516151</td>\n",
       "      <td>119956</td>\n",
       "      <td>1385</td>\n",
       "    </tr>\n",
       "    <tr>\n",
       "      <th>2014년</th>\n",
       "      <td>292938</td>\n",
       "      <td>553066</td>\n",
       "      <td>116810</td>\n",
       "      <td>577</td>\n",
       "    </tr>\n",
       "    <tr>\n",
       "      <th>2015년</th>\n",
       "      <td>289705</td>\n",
       "      <td>575166</td>\n",
       "      <td>154061</td>\n",
       "      <td>15721</td>\n",
       "    </tr>\n",
       "    <tr>\n",
       "      <th>2016년</th>\n",
       "      <td>293775</td>\n",
       "      <td>573572</td>\n",
       "      <td>143835</td>\n",
       "      <td>472</td>\n",
       "    </tr>\n",
       "    <tr>\n",
       "      <th>2017년</th>\n",
       "      <td>313673</td>\n",
       "      <td>648442</td>\n",
       "      <td>185743</td>\n",
       "      <td>187</td>\n",
       "    </tr>\n",
       "    <tr>\n",
       "      <th>2018년</th>\n",
       "      <td>313671</td>\n",
       "      <td>668926</td>\n",
       "      <td>190687</td>\n",
       "      <td>1400</td>\n",
       "    </tr>\n",
       "    <tr>\n",
       "      <th>2019년</th>\n",
       "      <td>311203</td>\n",
       "      <td>662116</td>\n",
       "      <td>198795</td>\n",
       "      <td>397</td>\n",
       "    </tr>\n",
       "    <tr>\n",
       "      <th>2020년</th>\n",
       "      <td>228180</td>\n",
       "      <td>699120</td>\n",
       "      <td>210895</td>\n",
       "      <td>3405</td>\n",
       "    </tr>\n",
       "    <tr>\n",
       "      <th>2021년</th>\n",
       "      <td>229892</td>\n",
       "      <td>723127</td>\n",
       "      <td>311098</td>\n",
       "      <td>12521</td>\n",
       "    </tr>\n",
       "    <tr>\n",
       "      <th>2022년 반기</th>\n",
       "      <td>121257</td>\n",
       "      <td>345325</td>\n",
       "      <td>135948</td>\n",
       "      <td>2836</td>\n",
       "    </tr>\n",
       "  </tbody>\n",
       "</table>\n",
       "</div>"
      ],
      "text/plain": [
       "               0       1        2        3\n",
       "부분별합계       영업수익    영업비용  영업 외 수익  영업 외 비용\n",
       "2010년     216090  433269   111372      599\n",
       "2011년     235809  478518   129081     1039\n",
       "2012년     261789  491224   123467     1783\n",
       "2013년     267486  516151   119956     1385\n",
       "2014년     292938  553066   116810      577\n",
       "2015년     289705  575166   154061    15721\n",
       "2016년     293775  573572   143835      472\n",
       "2017년     313673  648442   185743      187\n",
       "2018년     313671  668926   190687     1400\n",
       "2019년     311203  662116   198795      397\n",
       "2020년     228180  699120   210895     3405\n",
       "2021년     229892  723127   311098    12521\n",
       "2022년 반기  121257  345325   135948     2836"
      ]
     },
     "execution_count": 73,
     "metadata": {},
     "output_type": "execute_result"
    }
   ],
   "source": [
    "trans_sum = (sum.iloc[0:4]).transpose()"
   ]
  },
  {
   "cell_type": "code",
   "execution_count": 75,
   "metadata": {},
   "outputs": [],
   "source": [
    "trans_sum.columns = [\"영업수익\", \"영업비용\",\t\"영업 외 수익\",\t\"영업 외 비용\"]"
   ]
  },
  {
   "cell_type": "code",
   "execution_count": 79,
   "metadata": {},
   "outputs": [
    {
     "data": {
      "text/html": [
       "<div>\n",
       "<style scoped>\n",
       "    .dataframe tbody tr th:only-of-type {\n",
       "        vertical-align: middle;\n",
       "    }\n",
       "\n",
       "    .dataframe tbody tr th {\n",
       "        vertical-align: top;\n",
       "    }\n",
       "\n",
       "    .dataframe thead th {\n",
       "        text-align: right;\n",
       "    }\n",
       "</style>\n",
       "<table border=\"1\" class=\"dataframe\">\n",
       "  <thead>\n",
       "    <tr style=\"text-align: right;\">\n",
       "      <th></th>\n",
       "      <th>영업수익</th>\n",
       "      <th>영업비용</th>\n",
       "      <th>영업 외 수익</th>\n",
       "      <th>영업 외 비용</th>\n",
       "    </tr>\n",
       "  </thead>\n",
       "  <tbody>\n",
       "    <tr>\n",
       "      <th>2011년</th>\n",
       "      <td>235809</td>\n",
       "      <td>478518</td>\n",
       "      <td>129081</td>\n",
       "      <td>1039</td>\n",
       "    </tr>\n",
       "    <tr>\n",
       "      <th>2012년</th>\n",
       "      <td>261789</td>\n",
       "      <td>491224</td>\n",
       "      <td>123467</td>\n",
       "      <td>1783</td>\n",
       "    </tr>\n",
       "    <tr>\n",
       "      <th>2013년</th>\n",
       "      <td>267486</td>\n",
       "      <td>516151</td>\n",
       "      <td>119956</td>\n",
       "      <td>1385</td>\n",
       "    </tr>\n",
       "    <tr>\n",
       "      <th>2014년</th>\n",
       "      <td>292938</td>\n",
       "      <td>553066</td>\n",
       "      <td>116810</td>\n",
       "      <td>577</td>\n",
       "    </tr>\n",
       "    <tr>\n",
       "      <th>2015년</th>\n",
       "      <td>289705</td>\n",
       "      <td>575166</td>\n",
       "      <td>154061</td>\n",
       "      <td>15721</td>\n",
       "    </tr>\n",
       "    <tr>\n",
       "      <th>2016년</th>\n",
       "      <td>293775</td>\n",
       "      <td>573572</td>\n",
       "      <td>143835</td>\n",
       "      <td>472</td>\n",
       "    </tr>\n",
       "    <tr>\n",
       "      <th>2017년</th>\n",
       "      <td>313673</td>\n",
       "      <td>648442</td>\n",
       "      <td>185743</td>\n",
       "      <td>187</td>\n",
       "    </tr>\n",
       "    <tr>\n",
       "      <th>2018년</th>\n",
       "      <td>313671</td>\n",
       "      <td>668926</td>\n",
       "      <td>190687</td>\n",
       "      <td>1400</td>\n",
       "    </tr>\n",
       "    <tr>\n",
       "      <th>2019년</th>\n",
       "      <td>311203</td>\n",
       "      <td>662116</td>\n",
       "      <td>198795</td>\n",
       "      <td>397</td>\n",
       "    </tr>\n",
       "    <tr>\n",
       "      <th>2020년</th>\n",
       "      <td>228180</td>\n",
       "      <td>699120</td>\n",
       "      <td>210895</td>\n",
       "      <td>3405</td>\n",
       "    </tr>\n",
       "    <tr>\n",
       "      <th>2021년</th>\n",
       "      <td>229892</td>\n",
       "      <td>723127</td>\n",
       "      <td>311098</td>\n",
       "      <td>12521</td>\n",
       "    </tr>\n",
       "  </tbody>\n",
       "</table>\n",
       "</div>"
      ],
      "text/plain": [
       "         영업수익    영업비용 영업 외 수익 영업 외 비용\n",
       "2011년  235809  478518  129081    1039\n",
       "2012년  261789  491224  123467    1783\n",
       "2013년  267486  516151  119956    1385\n",
       "2014년  292938  553066  116810     577\n",
       "2015년  289705  575166  154061   15721\n",
       "2016년  293775  573572  143835     472\n",
       "2017년  313673  648442  185743     187\n",
       "2018년  313671  668926  190687    1400\n",
       "2019년  311203  662116  198795     397\n",
       "2020년  228180  699120  210895    3405\n",
       "2021년  229892  723127  311098   12521"
      ]
     },
     "execution_count": 79,
     "metadata": {},
     "output_type": "execute_result"
    }
   ],
   "source": [
    "trans_sum = trans_sum[1:13]\n",
    "trans_sum"
   ]
  },
  {
   "cell_type": "code",
   "execution_count": 83,
   "metadata": {},
   "outputs": [],
   "source": [
    "# 훈련 데이터, 테스트 데이터 분리\n",
    "training_set = trans_sum.iloc[:9, 0:1].values\n",
    "test_set = trans_sum.iloc[9:, 0:1].values"
   ]
  },
  {
   "cell_type": "code",
   "execution_count": 84,
   "metadata": {},
   "outputs": [],
   "source": [
    "#모델 적합 전에 데이터를 정규화하는 것이 좋다 => 성능향상\n",
    "# Min-Max Scaler\n",
    "sc = MinMaxScaler(feature_range = (0, 1))"
   ]
  },
  {
   "cell_type": "code",
   "execution_count": 85,
   "metadata": {},
   "outputs": [],
   "source": [
    "training_set_scaled = sc.fit_transform(training_set)"
   ]
  },
  {
   "cell_type": "code",
   "execution_count": null,
   "metadata": {},
   "outputs": [],
   "source": []
  }
 ],
 "metadata": {
  "kernelspec": {
   "display_name": "Python 3.10.5 64-bit",
   "language": "python",
   "name": "python3"
  },
  "language_info": {
   "codemirror_mode": {
    "name": "ipython",
    "version": 3
   },
   "file_extension": ".py",
   "mimetype": "text/x-python",
   "name": "python",
   "nbconvert_exporter": "python",
   "pygments_lexer": "ipython3",
   "version": "3.10.5"
  },
  "orig_nbformat": 4,
  "vscode": {
   "interpreter": {
    "hash": "beedbe2faf2f7048d727558d0bc3221e7eba2a0b921cac4d4771b2feb8f74b30"
   }
  }
 },
 "nbformat": 4,
 "nbformat_minor": 2
}
