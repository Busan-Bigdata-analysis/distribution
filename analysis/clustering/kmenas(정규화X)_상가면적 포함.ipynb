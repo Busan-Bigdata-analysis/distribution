{
 "cells": [
  {
   "cell_type": "code",
   "execution_count": 1,
   "metadata": {},
   "outputs": [],
   "source": [
    "import seaborn as sns\n",
    "import pandas as pd\n",
    "import numpy as np\n",
    "import matplotlib.pyplot as plt\n",
    "\n",
    "\n",
    "# 차트 내 한글 및 마이너스 기호 표시를 위한 import\n",
    "from matplotlib import rc\n",
    "import matplotlib.font_manager as fm\n",
    "\n",
    "import matplotlib.pyplot as plt\n",
    "\n",
    "plt.rc('font', family='Malgun Gothic')\n",
    "sns.set(font='Malgun Gothic', rc={'axes.unicode_minus':False},style='darkgrid')\n",
    "\n",
    "\n",
    "from sklearn.preprocessing import MinMaxScaler\n",
    "from sklearn.cluster import KMeans"
   ]
  },
  {
   "cell_type": "code",
   "execution_count": 2,
   "metadata": {},
   "outputs": [
    {
     "data": {
      "text/html": [
       "<div>\n",
       "<style scoped>\n",
       "    .dataframe tbody tr th:only-of-type {\n",
       "        vertical-align: middle;\n",
       "    }\n",
       "\n",
       "    .dataframe tbody tr th {\n",
       "        vertical-align: top;\n",
       "    }\n",
       "\n",
       "    .dataframe thead th {\n",
       "        text-align: right;\n",
       "    }\n",
       "</style>\n",
       "<table border=\"1\" class=\"dataframe\">\n",
       "  <thead>\n",
       "    <tr style=\"text-align: right;\">\n",
       "      <th></th>\n",
       "      <th>역사명</th>\n",
       "      <th>역위도</th>\n",
       "      <th>역경도</th>\n",
       "      <th>일평균승하차(명)</th>\n",
       "      <th>상가 면적</th>\n",
       "      <th>거주자수</th>\n",
       "      <th>남여비율</th>\n",
       "      <th>1인 가구수 레벨</th>\n",
       "      <th>1인 가구수(세대)</th>\n",
       "      <th>사업체수</th>\n",
       "      <th>20~40대 인구 수 레벨</th>\n",
       "      <th>고속버스 터미널</th>\n",
       "      <th>기차역</th>\n",
       "      <th>여객 터미널</th>\n",
       "      <th>주변 관광지</th>\n",
       "      <th>주변 대학교</th>\n",
       "      <th>일평균(원)</th>\n",
       "    </tr>\n",
       "  </thead>\n",
       "  <tbody>\n",
       "    <tr>\n",
       "      <th>0</th>\n",
       "      <td>가야역</td>\n",
       "      <td>35.155883</td>\n",
       "      <td>129.042817</td>\n",
       "      <td>5799</td>\n",
       "      <td>11.0</td>\n",
       "      <td>25217</td>\n",
       "      <td>0.95</td>\n",
       "      <td>83</td>\n",
       "      <td>6291</td>\n",
       "      <td>49</td>\n",
       "      <td>57</td>\n",
       "      <td>NaN</td>\n",
       "      <td>1.0</td>\n",
       "      <td>NaN</td>\n",
       "      <td>0</td>\n",
       "      <td>0</td>\n",
       "      <td>1926082</td>\n",
       "    </tr>\n",
       "    <tr>\n",
       "      <th>1</th>\n",
       "      <td>감전역</td>\n",
       "      <td>35.155528</td>\n",
       "      <td>128.991146</td>\n",
       "      <td>6107</td>\n",
       "      <td>10.0</td>\n",
       "      <td>12825</td>\n",
       "      <td>1.12</td>\n",
       "      <td>56</td>\n",
       "      <td>5461</td>\n",
       "      <td>57</td>\n",
       "      <td>31</td>\n",
       "      <td>NaN</td>\n",
       "      <td>NaN</td>\n",
       "      <td>NaN</td>\n",
       "      <td>0</td>\n",
       "      <td>0</td>\n",
       "      <td>2535118</td>\n",
       "    </tr>\n",
       "    <tr>\n",
       "      <th>2</th>\n",
       "      <td>강서구청</td>\n",
       "      <td>35.211247</td>\n",
       "      <td>128.981756</td>\n",
       "      <td>4251</td>\n",
       "      <td>NaN</td>\n",
       "      <td>2076</td>\n",
       "      <td>1.22</td>\n",
       "      <td>26</td>\n",
       "      <td>4630</td>\n",
       "      <td>109</td>\n",
       "      <td>4</td>\n",
       "      <td>NaN</td>\n",
       "      <td>NaN</td>\n",
       "      <td>NaN</td>\n",
       "      <td>0</td>\n",
       "      <td>0</td>\n",
       "      <td>2029127</td>\n",
       "    </tr>\n",
       "    <tr>\n",
       "      <th>3</th>\n",
       "      <td>개금역</td>\n",
       "      <td>35.153284</td>\n",
       "      <td>129.020533</td>\n",
       "      <td>13621</td>\n",
       "      <td>37.0</td>\n",
       "      <td>27187</td>\n",
       "      <td>0.94</td>\n",
       "      <td>79</td>\n",
       "      <td>2501</td>\n",
       "      <td>36</td>\n",
       "      <td>65</td>\n",
       "      <td>NaN</td>\n",
       "      <td>NaN</td>\n",
       "      <td>NaN</td>\n",
       "      <td>0</td>\n",
       "      <td>1</td>\n",
       "      <td>4717075</td>\n",
       "    </tr>\n",
       "    <tr>\n",
       "      <th>4</th>\n",
       "      <td>거제(법원·검찰청)</td>\n",
       "      <td>35.188589</td>\n",
       "      <td>129.073941</td>\n",
       "      <td>9546</td>\n",
       "      <td>16.0</td>\n",
       "      <td>27403</td>\n",
       "      <td>0.91</td>\n",
       "      <td>14</td>\n",
       "      <td>3093</td>\n",
       "      <td>114</td>\n",
       "      <td>13</td>\n",
       "      <td>NaN</td>\n",
       "      <td>NaN</td>\n",
       "      <td>NaN</td>\n",
       "      <td>0</td>\n",
       "      <td>1</td>\n",
       "      <td>3099526</td>\n",
       "    </tr>\n",
       "  </tbody>\n",
       "</table>\n",
       "</div>"
      ],
      "text/plain": [
       "          역사명        역위도         역경도  일평균승하차(명)  상가 면적   거주자수  남여비율  \\\n",
       "0         가야역  35.155883  129.042817       5799   11.0  25217  0.95   \n",
       "1         감전역  35.155528  128.991146       6107   10.0  12825  1.12   \n",
       "2        강서구청  35.211247  128.981756       4251    NaN   2076  1.22   \n",
       "3         개금역  35.153284  129.020533      13621   37.0  27187  0.94   \n",
       "4  거제(법원·검찰청)  35.188589  129.073941       9546   16.0  27403  0.91   \n",
       "\n",
       "   1인 가구수 레벨  1인 가구수(세대)  사업체수  20~40대 인구 수 레벨  고속버스 터미널  기차역  여객 터미널  주변 관광지  \\\n",
       "0         83        6291    49              57       NaN  1.0     NaN       0   \n",
       "1         56        5461    57              31       NaN  NaN     NaN       0   \n",
       "2         26        4630   109               4       NaN  NaN     NaN       0   \n",
       "3         79        2501    36              65       NaN  NaN     NaN       0   \n",
       "4         14        3093   114              13       NaN  NaN     NaN       0   \n",
       "\n",
       "   주변 대학교   일평균(원)  \n",
       "0       0  1926082  \n",
       "1       0  2535118  \n",
       "2       0  2029127  \n",
       "3       1  4717075  \n",
       "4       1  3099526  "
      ]
     },
     "execution_count": 2,
     "metadata": {},
     "output_type": "execute_result"
    }
   ],
   "source": [
    "df = pd.read_csv('./통합데이터_추가수정(사업체수 추가).csv',encoding='cp949')\n",
    "df.head()"
   ]
  },
  {
   "cell_type": "code",
   "execution_count": 3,
   "metadata": {},
   "outputs": [
    {
     "data": {
      "text/plain": [
       "Index(['역사명', '역위도', '역경도', '일평균승하차(명)', '상가 면적', '거주자수', '남여비율', '1인 가구수 레벨',\n",
       "       '1인 가구수(세대)', '사업체수', '20~40대 인구 수 레벨', '고속버스 터미널', '기차역', '여객 터미널',\n",
       "       '주변 관광지', '주변 대학교', '일평균(원)'],\n",
       "      dtype='object')"
      ]
     },
     "execution_count": 3,
     "metadata": {},
     "output_type": "execute_result"
    }
   ],
   "source": [
    "df.columns"
   ]
  },
  {
   "cell_type": "markdown",
   "metadata": {},
   "source": [
    "## 정규화 안하고 해보기"
   ]
  },
  {
   "cell_type": "code",
   "execution_count": 4,
   "metadata": {},
   "outputs": [
    {
     "data": {
      "text/html": [
       "<div>\n",
       "<style scoped>\n",
       "    .dataframe tbody tr th:only-of-type {\n",
       "        vertical-align: middle;\n",
       "    }\n",
       "\n",
       "    .dataframe tbody tr th {\n",
       "        vertical-align: top;\n",
       "    }\n",
       "\n",
       "    .dataframe thead th {\n",
       "        text-align: right;\n",
       "    }\n",
       "</style>\n",
       "<table border=\"1\" class=\"dataframe\">\n",
       "  <thead>\n",
       "    <tr style=\"text-align: right;\">\n",
       "      <th></th>\n",
       "      <th>역사명</th>\n",
       "      <th>일평균승하차(명)</th>\n",
       "      <th>상가 면적</th>\n",
       "      <th>1인 가구수(세대)</th>\n",
       "      <th>사업체수</th>\n",
       "      <th>거주자수</th>\n",
       "      <th>일평균(원)</th>\n",
       "    </tr>\n",
       "  </thead>\n",
       "  <tbody>\n",
       "    <tr>\n",
       "      <th>0</th>\n",
       "      <td>가야역</td>\n",
       "      <td>5799</td>\n",
       "      <td>11.0</td>\n",
       "      <td>6291</td>\n",
       "      <td>49</td>\n",
       "      <td>25217</td>\n",
       "      <td>1926082</td>\n",
       "    </tr>\n",
       "    <tr>\n",
       "      <th>1</th>\n",
       "      <td>감전역</td>\n",
       "      <td>6107</td>\n",
       "      <td>10.0</td>\n",
       "      <td>5461</td>\n",
       "      <td>57</td>\n",
       "      <td>12825</td>\n",
       "      <td>2535118</td>\n",
       "    </tr>\n",
       "    <tr>\n",
       "      <th>2</th>\n",
       "      <td>강서구청</td>\n",
       "      <td>4251</td>\n",
       "      <td>NaN</td>\n",
       "      <td>4630</td>\n",
       "      <td>109</td>\n",
       "      <td>2076</td>\n",
       "      <td>2029127</td>\n",
       "    </tr>\n",
       "    <tr>\n",
       "      <th>3</th>\n",
       "      <td>개금역</td>\n",
       "      <td>13621</td>\n",
       "      <td>37.0</td>\n",
       "      <td>2501</td>\n",
       "      <td>36</td>\n",
       "      <td>27187</td>\n",
       "      <td>4717075</td>\n",
       "    </tr>\n",
       "    <tr>\n",
       "      <th>4</th>\n",
       "      <td>거제(법원·검찰청)</td>\n",
       "      <td>9546</td>\n",
       "      <td>16.0</td>\n",
       "      <td>3093</td>\n",
       "      <td>114</td>\n",
       "      <td>27403</td>\n",
       "      <td>3099526</td>\n",
       "    </tr>\n",
       "  </tbody>\n",
       "</table>\n",
       "</div>"
      ],
      "text/plain": [
       "          역사명  일평균승하차(명)  상가 면적  1인 가구수(세대)  사업체수   거주자수   일평균(원)\n",
       "0         가야역       5799   11.0        6291    49  25217  1926082\n",
       "1         감전역       6107   10.0        5461    57  12825  2535118\n",
       "2        강서구청       4251    NaN        4630   109   2076  2029127\n",
       "3         개금역      13621   37.0        2501    36  27187  4717075\n",
       "4  거제(법원·검찰청)       9546   16.0        3093   114  27403  3099526"
      ]
     },
     "execution_count": 4,
     "metadata": {},
     "output_type": "execute_result"
    }
   ],
   "source": [
    "use_df = df[['역사명','일평균승하차(명)', '상가 면적', '1인 가구수(세대)','사업체수','거주자수','일평균(원)']]\n",
    "use_df.head()"
   ]
  },
  {
   "cell_type": "code",
   "execution_count": 6,
   "metadata": {},
   "outputs": [
    {
     "data": {
      "text/plain": [
       "역사명           0\n",
       "일평균승하차(명)     0\n",
       "상가 면적         9\n",
       "1인 가구수(세대)    0\n",
       "사업체수          0\n",
       "거주자수          0\n",
       "일평균(원)        0\n",
       "dtype: int64"
      ]
     },
     "execution_count": 6,
     "metadata": {},
     "output_type": "execute_result"
    }
   ],
   "source": [
    "use_df.isnull().sum()"
   ]
  },
  {
   "cell_type": "code",
   "execution_count": 7,
   "metadata": {},
   "outputs": [],
   "source": [
    "use_df.fillna(0,inplace=True)"
   ]
  },
  {
   "cell_type": "code",
   "execution_count": 8,
   "metadata": {},
   "outputs": [],
   "source": [
    "use_df = use_df.set_index(use_df[\"역사명\"])"
   ]
  },
  {
   "cell_type": "code",
   "execution_count": 9,
   "metadata": {},
   "outputs": [],
   "source": [
    "use_df.drop(columns=\"역사명\", inplace=True)"
   ]
  },
  {
   "cell_type": "code",
   "execution_count": 10,
   "metadata": {},
   "outputs": [
    {
     "data": {
      "text/html": [
       "<div>\n",
       "<style scoped>\n",
       "    .dataframe tbody tr th:only-of-type {\n",
       "        vertical-align: middle;\n",
       "    }\n",
       "\n",
       "    .dataframe tbody tr th {\n",
       "        vertical-align: top;\n",
       "    }\n",
       "\n",
       "    .dataframe thead th {\n",
       "        text-align: right;\n",
       "    }\n",
       "</style>\n",
       "<table border=\"1\" class=\"dataframe\">\n",
       "  <thead>\n",
       "    <tr style=\"text-align: right;\">\n",
       "      <th></th>\n",
       "      <th>일평균승하차(명)</th>\n",
       "      <th>상가 면적</th>\n",
       "      <th>1인 가구수(세대)</th>\n",
       "      <th>사업체수</th>\n",
       "      <th>거주자수</th>\n",
       "      <th>일평균(원)</th>\n",
       "    </tr>\n",
       "    <tr>\n",
       "      <th>역사명</th>\n",
       "      <th></th>\n",
       "      <th></th>\n",
       "      <th></th>\n",
       "      <th></th>\n",
       "      <th></th>\n",
       "      <th></th>\n",
       "    </tr>\n",
       "  </thead>\n",
       "  <tbody>\n",
       "    <tr>\n",
       "      <th>가야역</th>\n",
       "      <td>5799</td>\n",
       "      <td>11.0</td>\n",
       "      <td>6291</td>\n",
       "      <td>49</td>\n",
       "      <td>25217</td>\n",
       "      <td>1926082</td>\n",
       "    </tr>\n",
       "    <tr>\n",
       "      <th>감전역</th>\n",
       "      <td>6107</td>\n",
       "      <td>10.0</td>\n",
       "      <td>5461</td>\n",
       "      <td>57</td>\n",
       "      <td>12825</td>\n",
       "      <td>2535118</td>\n",
       "    </tr>\n",
       "    <tr>\n",
       "      <th>강서구청</th>\n",
       "      <td>4251</td>\n",
       "      <td>0.0</td>\n",
       "      <td>4630</td>\n",
       "      <td>109</td>\n",
       "      <td>2076</td>\n",
       "      <td>2029127</td>\n",
       "    </tr>\n",
       "    <tr>\n",
       "      <th>개금역</th>\n",
       "      <td>13621</td>\n",
       "      <td>37.0</td>\n",
       "      <td>2501</td>\n",
       "      <td>36</td>\n",
       "      <td>27187</td>\n",
       "      <td>4717075</td>\n",
       "    </tr>\n",
       "    <tr>\n",
       "      <th>거제(법원·검찰청)</th>\n",
       "      <td>9546</td>\n",
       "      <td>16.0</td>\n",
       "      <td>3093</td>\n",
       "      <td>114</td>\n",
       "      <td>27403</td>\n",
       "      <td>3099526</td>\n",
       "    </tr>\n",
       "    <tr>\n",
       "      <th>...</th>\n",
       "      <td>...</td>\n",
       "      <td>...</td>\n",
       "      <td>...</td>\n",
       "      <td>...</td>\n",
       "      <td>...</td>\n",
       "      <td>...</td>\n",
       "    </tr>\n",
       "    <tr>\n",
       "      <th>충렬사(안락)</th>\n",
       "      <td>5398</td>\n",
       "      <td>10.0</td>\n",
       "      <td>1851</td>\n",
       "      <td>35</td>\n",
       "      <td>18134</td>\n",
       "      <td>1117126</td>\n",
       "    </tr>\n",
       "    <tr>\n",
       "      <th>토성</th>\n",
       "      <td>13846</td>\n",
       "      <td>75.0</td>\n",
       "      <td>2110</td>\n",
       "      <td>7</td>\n",
       "      <td>28882</td>\n",
       "      <td>6002230</td>\n",
       "    </tr>\n",
       "    <tr>\n",
       "      <th>하단</th>\n",
       "      <td>29080</td>\n",
       "      <td>166.0</td>\n",
       "      <td>4414</td>\n",
       "      <td>36</td>\n",
       "      <td>21407</td>\n",
       "      <td>11010043</td>\n",
       "    </tr>\n",
       "    <tr>\n",
       "      <th>해운대역</th>\n",
       "      <td>18794</td>\n",
       "      <td>59.0</td>\n",
       "      <td>5075</td>\n",
       "      <td>80</td>\n",
       "      <td>24427</td>\n",
       "      <td>8828608</td>\n",
       "    </tr>\n",
       "    <tr>\n",
       "      <th>화명역</th>\n",
       "      <td>16561</td>\n",
       "      <td>47.0</td>\n",
       "      <td>5736</td>\n",
       "      <td>66</td>\n",
       "      <td>45501</td>\n",
       "      <td>6777211</td>\n",
       "    </tr>\n",
       "  </tbody>\n",
       "</table>\n",
       "<p>100 rows × 6 columns</p>\n",
       "</div>"
      ],
      "text/plain": [
       "            일평균승하차(명)  상가 면적  1인 가구수(세대)  사업체수   거주자수    일평균(원)\n",
       "역사명                                                            \n",
       "가야역              5799   11.0        6291    49  25217   1926082\n",
       "감전역              6107   10.0        5461    57  12825   2535118\n",
       "강서구청             4251    0.0        4630   109   2076   2029127\n",
       "개금역             13621   37.0        2501    36  27187   4717075\n",
       "거제(법원·검찰청)       9546   16.0        3093   114  27403   3099526\n",
       "...               ...    ...         ...   ...    ...       ...\n",
       "충렬사(안락)          5398   10.0        1851    35  18134   1117126\n",
       "토성              13846   75.0        2110     7  28882   6002230\n",
       "하단              29080  166.0        4414    36  21407  11010043\n",
       "해운대역            18794   59.0        5075    80  24427   8828608\n",
       "화명역             16561   47.0        5736    66  45501   6777211\n",
       "\n",
       "[100 rows x 6 columns]"
      ]
     },
     "execution_count": 10,
     "metadata": {},
     "output_type": "execute_result"
    }
   ],
   "source": [
    "use_df"
   ]
  },
  {
   "cell_type": "code",
   "execution_count": 11,
   "metadata": {},
   "outputs": [
    {
     "data": {
      "image/png": "[encoded data removed]",
      "text/plain": [
       "<Figure size 432x360 with 1 Axes>"
      ]
     },
     "metadata": {
      "needs_background": "light"
     },
     "output_type": "display_data"
    }
   ],
   "source": [
    "# 일평균승하차(명)\n",
    "df_oneman = pd.DataFrame(use_df['일평균승하차(명)'])\n",
    "\n",
    "inertia= []\n",
    "for k in range(1,9):\n",
    "    km = KMeans(n_clusters=k, random_state=42)\n",
    "    km.fit(df_oneman)\n",
    "    inertia.append(km.inertia_)\n",
    "plt.figure(figsize=(6,5))\n",
    "plt.plot(range(1,9), inertia)\n",
    "plt.title('일평균승하차(명)')\n",
    "plt.xlabel('k')\n",
    "plt.ylabel('SSE')\n",
    "plt.show()"
   ]
  },
  {
   "cell_type": "code",
   "execution_count": 12,
   "metadata": {},
   "outputs": [
    {
     "data": {
      "image/png": "[encoded data removed]",
      "text/plain": [
       "<Figure size 432x360 with 1 Axes>"
      ]
     },
     "metadata": {
      "needs_background": "light"
     },
     "output_type": "display_data"
    }
   ],
   "source": [
    "# 사업체수\n",
    "df_oneman = pd.DataFrame(use_df['사업체수'])\n",
    "\n",
    "inertia= []\n",
    "for k in range(1,9):\n",
    "    km = KMeans(n_clusters=k, random_state=42)\n",
    "    km.fit(df_oneman)\n",
    "    inertia.append(km.inertia_)\n",
    "plt.figure(figsize=(6,5))\n",
    "plt.plot(range(1,9), inertia)\n",
    "plt.title('사업체수')\n",
    "plt.xlabel('k')\n",
    "plt.ylabel('SSE')\n",
    "plt.show()"
   ]
  },
  {
   "cell_type": "code",
   "execution_count": 13,
   "metadata": {},
   "outputs": [
    {
     "data": {
      "image/png": "[encoded data removed]",
      "text/plain": [
       "<Figure size 432x360 with 1 Axes>"
      ]
     },
     "metadata": {
      "needs_background": "light"
     },
     "output_type": "display_data"
    }
   ],
   "source": [
    "# 1인 가구수(세대)\n",
    "df_oneman = pd.DataFrame(use_df['1인 가구수(세대)'])\n",
    "\n",
    "inertia= []\n",
    "for k in range(1,9):\n",
    "    km = KMeans(n_clusters=k, random_state=42)\n",
    "    km.fit(df_oneman)\n",
    "    inertia.append(km.inertia_)\n",
    "plt.figure(figsize=(6,5))\n",
    "plt.plot(range(1,9), inertia)\n",
    "plt.title('1인 가구수(세대)')\n",
    "plt.xlabel('k')\n",
    "plt.ylabel('SSE')\n",
    "plt.show()"
   ]
  },
  {
   "cell_type": "code",
   "execution_count": 15,
   "metadata": {},
   "outputs": [
    {
     "name": "stdout",
     "output_type": "stream",
     "text": [
      "              0           1            2           3             4  \\\n",
      "0  16005.129032  263.774194  3582.387097   69.483871  22092.032258   \n",
      "1  57826.000000  130.000000  4449.000000  380.000000  40014.000000   \n",
      "2  27481.666667  342.416667  3517.416667  107.750000  23307.250000   \n",
      "3   7004.607143   51.125000  3677.839286   54.714286  20413.232143   \n",
      "\n",
      "              5  \n",
      "0  6.467572e+06  \n",
      "1  3.938885e+07  \n",
      "2  1.193083e+07  \n",
      "3  2.413043e+06  \n",
      "[3 3 3 0 3 2 0 0 0 3]\n"
     ]
    }
   ],
   "source": [
    "# 군집 4\n",
    "# 적절한 군집수로 군집 예측값 생성\n",
    "\n",
    "cluster_model = KMeans(n_clusters=4,        # =k\n",
    "                       n_init=3,           # centroid를 몇번 샘플링한건지, 많이 돌릴수록 안정화된 결과가 나옴\n",
    "                       max_iter=500,        # K-Means를 몇번 반복 수행할건지\n",
    "                       )\n",
    "\n",
    "cluster_model.fit(use_df)\n",
    "\n",
    "centers = cluster_model.cluster_centers_    # 각 군집의 중심점\n",
    "pred = cluster_model.predict(use_df)     # 각 예측군집\n",
    "\n",
    "print(pd.DataFrame(centers))\n",
    "print(pred[:10])"
   ]
  },
  {
   "cell_type": "code",
   "execution_count": 16,
   "metadata": {},
   "outputs": [
    {
     "data": {
      "text/html": [
       "<div>\n",
       "<style scoped>\n",
       "    .dataframe tbody tr th:only-of-type {\n",
       "        vertical-align: middle;\n",
       "    }\n",
       "\n",
       "    .dataframe tbody tr th {\n",
       "        vertical-align: top;\n",
       "    }\n",
       "\n",
       "    .dataframe thead th {\n",
       "        text-align: right;\n",
       "    }\n",
       "</style>\n",
       "<table border=\"1\" class=\"dataframe\">\n",
       "  <thead>\n",
       "    <tr style=\"text-align: right;\">\n",
       "      <th></th>\n",
       "      <th>일평균승하차(명)</th>\n",
       "      <th>상가 면적</th>\n",
       "      <th>1인 가구수(세대)</th>\n",
       "      <th>사업체수</th>\n",
       "      <th>거주자수</th>\n",
       "      <th>일평균(원)</th>\n",
       "      <th>kmeans_group</th>\n",
       "    </tr>\n",
       "    <tr>\n",
       "      <th>역사명</th>\n",
       "      <th></th>\n",
       "      <th></th>\n",
       "      <th></th>\n",
       "      <th></th>\n",
       "      <th></th>\n",
       "      <th></th>\n",
       "      <th></th>\n",
       "    </tr>\n",
       "  </thead>\n",
       "  <tbody>\n",
       "    <tr>\n",
       "      <th>가야역</th>\n",
       "      <td>5799</td>\n",
       "      <td>11.0</td>\n",
       "      <td>6291</td>\n",
       "      <td>49</td>\n",
       "      <td>25217</td>\n",
       "      <td>1926082</td>\n",
       "      <td>3</td>\n",
       "    </tr>\n",
       "    <tr>\n",
       "      <th>감전역</th>\n",
       "      <td>6107</td>\n",
       "      <td>10.0</td>\n",
       "      <td>5461</td>\n",
       "      <td>57</td>\n",
       "      <td>12825</td>\n",
       "      <td>2535118</td>\n",
       "      <td>3</td>\n",
       "    </tr>\n",
       "    <tr>\n",
       "      <th>강서구청</th>\n",
       "      <td>4251</td>\n",
       "      <td>0.0</td>\n",
       "      <td>4630</td>\n",
       "      <td>109</td>\n",
       "      <td>2076</td>\n",
       "      <td>2029127</td>\n",
       "      <td>3</td>\n",
       "    </tr>\n",
       "    <tr>\n",
       "      <th>개금역</th>\n",
       "      <td>13621</td>\n",
       "      <td>37.0</td>\n",
       "      <td>2501</td>\n",
       "      <td>36</td>\n",
       "      <td>27187</td>\n",
       "      <td>4717075</td>\n",
       "      <td>0</td>\n",
       "    </tr>\n",
       "    <tr>\n",
       "      <th>거제(법원·검찰청)</th>\n",
       "      <td>9546</td>\n",
       "      <td>16.0</td>\n",
       "      <td>3093</td>\n",
       "      <td>114</td>\n",
       "      <td>27403</td>\n",
       "      <td>3099526</td>\n",
       "      <td>3</td>\n",
       "    </tr>\n",
       "    <tr>\n",
       "      <th>...</th>\n",
       "      <td>...</td>\n",
       "      <td>...</td>\n",
       "      <td>...</td>\n",
       "      <td>...</td>\n",
       "      <td>...</td>\n",
       "      <td>...</td>\n",
       "      <td>...</td>\n",
       "    </tr>\n",
       "    <tr>\n",
       "      <th>충렬사(안락)</th>\n",
       "      <td>5398</td>\n",
       "      <td>10.0</td>\n",
       "      <td>1851</td>\n",
       "      <td>35</td>\n",
       "      <td>18134</td>\n",
       "      <td>1117126</td>\n",
       "      <td>3</td>\n",
       "    </tr>\n",
       "    <tr>\n",
       "      <th>토성</th>\n",
       "      <td>13846</td>\n",
       "      <td>75.0</td>\n",
       "      <td>2110</td>\n",
       "      <td>7</td>\n",
       "      <td>28882</td>\n",
       "      <td>6002230</td>\n",
       "      <td>0</td>\n",
       "    </tr>\n",
       "    <tr>\n",
       "      <th>하단</th>\n",
       "      <td>29080</td>\n",
       "      <td>166.0</td>\n",
       "      <td>4414</td>\n",
       "      <td>36</td>\n",
       "      <td>21407</td>\n",
       "      <td>11010043</td>\n",
       "      <td>2</td>\n",
       "    </tr>\n",
       "    <tr>\n",
       "      <th>해운대역</th>\n",
       "      <td>18794</td>\n",
       "      <td>59.0</td>\n",
       "      <td>5075</td>\n",
       "      <td>80</td>\n",
       "      <td>24427</td>\n",
       "      <td>8828608</td>\n",
       "      <td>0</td>\n",
       "    </tr>\n",
       "    <tr>\n",
       "      <th>화명역</th>\n",
       "      <td>16561</td>\n",
       "      <td>47.0</td>\n",
       "      <td>5736</td>\n",
       "      <td>66</td>\n",
       "      <td>45501</td>\n",
       "      <td>6777211</td>\n",
       "      <td>0</td>\n",
       "    </tr>\n",
       "  </tbody>\n",
       "</table>\n",
       "<p>100 rows × 7 columns</p>\n",
       "</div>"
      ],
      "text/plain": [
       "            일평균승하차(명)  상가 면적  1인 가구수(세대)  사업체수   거주자수    일평균(원)  kmeans_group\n",
       "역사명                                                                          \n",
       "가야역              5799   11.0        6291    49  25217   1926082             3\n",
       "감전역              6107   10.0        5461    57  12825   2535118             3\n",
       "강서구청             4251    0.0        4630   109   2076   2029127             3\n",
       "개금역             13621   37.0        2501    36  27187   4717075             0\n",
       "거제(법원·검찰청)       9546   16.0        3093   114  27403   3099526             3\n",
       "...               ...    ...         ...   ...    ...       ...           ...\n",
       "충렬사(안락)          5398   10.0        1851    35  18134   1117126             3\n",
       "토성              13846   75.0        2110     7  28882   6002230             0\n",
       "하단              29080  166.0        4414    36  21407  11010043             2\n",
       "해운대역            18794   59.0        5075    80  24427   8828608             0\n",
       "화명역             16561   47.0        5736    66  45501   6777211             0\n",
       "\n",
       "[100 rows x 7 columns]"
      ]
     },
     "execution_count": 16,
     "metadata": {},
     "output_type": "execute_result"
    }
   ],
   "source": [
    "# 군집 4\n",
    "# 클러스터링 결과에 따른 각 데이터별 군집 번호를 데이터프레임에 추가\n",
    "cluster_df = use_df.copy()\n",
    "cluster_df['kmeans_group'] = pred\n",
    "cluster_df"
   ]
  },
  {
   "cell_type": "code",
   "execution_count": 17,
   "metadata": {},
   "outputs": [
    {
     "data": {
      "image/png": "[encoded data removed]",
      "text/plain": [
       "<Figure size 2160x504 with 4 Axes>"
      ]
     },
     "metadata": {
      "needs_background": "light"
     },
     "output_type": "display_data"
    }
   ],
   "source": [
    "# Kmeans 군집 4\n",
    "plt.figure(figsize=(30,7))\n",
    "X= cluster_df\n",
    "plt.subplot(141)    \n",
    "sns.scatterplot(x=X.iloc[:,0], y=X.iloc[:,5], data=use_df, hue=cluster_model.labels_, palette='bright', s= 100) #\n",
    "#plt.scatter(centers[:,0], centers[:,2], c='black', alpha=0.8, s=150,  marker='^')\n",
    "\n",
    "plt.subplot(144)  \n",
    "sns.scatterplot(x=X.iloc[:,1], y=X.iloc[:,5], data=use_df, hue=cluster_model.labels_, palette='bright', s= 100) #\n",
    "#plt.scatter(centers[:,2], centers[:,2], c='black', alpha=0.8, s=150,  marker='^')\n",
    "\n",
    "plt.subplot(142)\n",
    "sns.scatterplot(x=X.iloc[:,2], y=X.iloc[:,5], data=use_df, hue=cluster_model.labels_, palette='bright', s= 100) #\n",
    "#plt.scatter(centers[:,1], centers[:,2], c='black', alpha=0.8, s=150, marker='^')\n",
    "\n",
    "plt.subplot(143)  \n",
    "sns.scatterplot(x=X.iloc[:,3], y=X.iloc[:,5], data=use_df, hue=cluster_model.labels_, palette='bright', s= 100) #\n",
    "#plt.scatter(centers[:,2], centers[:,2], c='black', alpha=0.8, s=150,  marker='^')\n",
    "\n",
    "plt.subplot(144)  \n",
    "sns.scatterplot(x=X.iloc[:,4], y=X.iloc[:,5], data=use_df, hue=cluster_model.labels_, palette='bright', s= 100) #\n",
    "#plt.scatter(centers[:,2], centers[:,2], c='black', alpha=0.8, s=150,  marker='^')\n",
    "\n",
    "\n",
    "plt.show()"
   ]
  },
  {
   "cell_type": "code",
   "execution_count": 39,
   "metadata": {},
   "outputs": [
    {
     "data": {
      "application/vnd.plotly.v1+json": {
       "config": {
        "plotlyServerURL": "https://plotly.com"
       },
       "data": [
        {
         "hovertemplate": "일평균승하차(명)=%{x}<br>상가 면적=%{y}<br>사업체수=%{z}<br>일평균(원)=%{marker.color}<extra></extra>",
         "legendgroup": "",
         "marker": {
          "color": [
           1926082,
           2535118,
           2029127,
           4717075,
           3099526,
           10345206,
           6932781,
           5103298,
           6656075,
           2848324,
           1670759,
           6933445,
           4080959,
           1318702,
           4943795,
           976234,
           703183,
           4113625,
           2993486,
           4052826,
           9296111,
           3002669,
           4475283,
           6881813,
           2063936,
           2570784,
           3518382,
           6362253,
           3654660,
           2345497,
           8563422,
           2626173,
           3645635,
           10257972,
           2601501,
           5045983,
           1293955,
           848427,
           3331107,
           5170495,
           3237692,
           2436892,
           6832700,
           1384697,
           1616138,
           2498697,
           2793585,
           3710103,
           2040704,
           6038977,
           2368047,
           600782,
           2312989,
           7121700,
           4612488,
           8678939,
           3970867,
           11733629,
           13975371,
           4808858,
           3646838,
           7561376,
           14117468,
           4441978,
           2681880,
           1748640,
           976723,
           39388852,
           86682,
           14421978,
           1328922,
           9960743,
           3833963,
           2096471,
           10293857,
           2071799,
           4313500,
           7810513,
           15742971,
           1736754,
           8456328,
           2723680,
           7641227,
           2230665,
           12014624,
           7481685,
           7976450,
           3493397,
           2463577,
           3768794,
           5296144,
           7665424,
           1567851,
           421284,
           4676165,
           1117126,
           6002230,
           11010043,
           8828608,
           6777211
          ],
          "coloraxis": "coloraxis",
          "opacity": 0.7,
          "size": [
           1926082,
           2535118,
           2029127,
           4717075,
           3099526,
           10345206,
           6932781,
           5103298,
           6656075,
           2848324,
           1670759,
           6933445,
           4080959,
           1318702,
           4943795,
           976234,
           703183,
           4113625,
           2993486,
           4052826,
           9296111,
           3002669,
           4475283,
           6881813,
           2063936,
           2570784,
           3518382,
           6362253,
           3654660,
           2345497,
           8563422,
           2626173,
           3645635,
           10257972,
           2601501,
           5045983,
           1293955,
           848427,
           3331107,
           5170495,
           3237692,
           2436892,
           6832700,
           1384697,
           1616138,
           2498697,
           2793585,
           3710103,
           2040704,
           6038977,
           2368047,
           600782,
           2312989,
           7121700,
           4612488,
           8678939,
           3970867,
           11733629,
           13975371,
           4808858,
           3646838,
           7561376,
           14117468,
           4441978,
           2681880,
           1748640,
           976723,
           39388852,
           86682,
           14421978,
           1328922,
           9960743,
           3833963,
           2096471,
           10293857,
           2071799,
           4313500,
           7810513,
           15742971,
           1736754,
           8456328,
           2723680,
           7641227,
           2230665,
           12014624,
           7481685,
           7976450,
           3493397,
           2463577,
           3768794,
           5296144,
           7665424,
           1567851,
           421284,
           4676165,
           1117126,
           6002230,
           11010043,
           8828608,
           6777211
          ],
          "sizemode": "area",
          "sizeref": 121570.53086419753,
          "symbol": "circle"
         },
         "mode": "markers",
         "name": "",
         "scene": "scene",
         "showlegend": false,
         "type": "scatter3d",
         "x": [
          5799,
          6107,
          4251,
          13621,
          9546,
          24395,
          16701,
          15271,
          22544,
          7021,
          5185,
          15857,
          5530,
          8248,
          3881,
          11471,
          3061,
          9178,
          8016,
          10166,
          28802,
          8327,
          9535,
          19370,
          6221,
          7761,
          10929,
          15595,
          12374,
          6290,
          10481,
          6581,
          10597,
          28565,
          6578,
          11305,
          4320,
          2527,
          9877,
          11618,
          10071,
          7826,
          15692,
          5157,
          3426,
          7564,
          7894,
          8343,
          6203,
          15355,
          5878,
          3738,
          7754,
          16322,
          12777,
          25681,
          14292,
          30061,
          24167,
          12864,
          9512,
          28422,
          33585,
          11065,
          7041,
          5277,
          4052,
          57826,
          346,
          28867,
          5911,
          24200,
          9230,
          5802,
          23612,
          5360,
          11314,
          20425,
          30035,
          4796,
          24357,
          7415,
          27992,
          5490,
          24411,
          17955,
          14622,
          8536,
          6248,
          10672,
          11300,
          16097,
          4593,
          1158,
          10253,
          5398,
          13846,
          29080,
          18794,
          16561
         ],
         "y": [
          11,
          10,
          0,
          37,
          16,
          0,
          970,
          87,
          57,
          12,
          12,
          91,
          35,
          10,
          11,
          817,
          0,
          32,
          14,
          13,
          0,
          24,
          42,
          105,
          76,
          68,
          28,
          197,
          17,
          9,
          0,
          16,
          17,
          746,
          19,
          88,
          18,
          14,
          45,
          28,
          11,
          17,
          80,
          11,
          6,
          10,
          14,
          16,
          0,
          952,
          620,
          42,
          9,
          45,
          614,
          0,
          61,
          140,
          434,
          39,
          13,
          101,
          209,
          14,
          17,
          8,
          12,
          130,
          10,
          178,
          62,
          1767,
          60,
          14,
          96,
          78,
          287,
          111,
          286,
          9,
          367,
          0,
          593,
          24,
          87,
          308,
          1151,
          16,
          13,
          45,
          602,
          791,
          0,
          35,
          515,
          10,
          75,
          166,
          59,
          47
         ],
         "z": [
          49,
          57,
          109,
          36,
          114,
          83,
          108,
          42,
          0,
          16,
          32,
          66,
          54,
          0,
          13,
          102,
          31,
          18,
          60,
          60,
          12,
          11,
          26,
          6,
          22,
          11,
          7,
          166,
          109,
          36,
          65,
          16,
          10,
          118,
          0,
          52,
          12,
          13,
          26,
          33,
          57,
          133,
          69,
          57,
          32,
          24,
          166,
          0,
          487,
          183,
          34,
          30,
          360,
          71,
          6,
          82,
          26,
          198,
          70,
          53,
          56,
          131,
          18,
          103,
          18,
          8,
          49,
          380,
          6,
          26,
          20,
          202,
          44,
          49,
          114,
          52,
          0,
          31,
          342,
          18,
          74,
          35,
          19,
          46,
          74,
          95,
          48,
          36,
          50,
          52,
          91,
          228,
          0,
          109,
          104,
          35,
          7,
          36,
          80,
          66
         ]
        }
       ],
       "layout": {
        "coloraxis": {
         "colorbar": {
          "title": {
           "text": "일평균(원)"
          }
         },
         "colorscale": [
          [
           0,
           "#0d0887"
          ],
          [
           0.1111111111111111,
           "#46039f"
          ],
          [
           0.2222222222222222,
           "#7201a8"
          ],
          [
           0.3333333333333333,
           "#9c179e"
          ],
          [
           0.4444444444444444,
           "#bd3786"
          ],
          [
           0.5555555555555556,
           "#d8576b"
          ],
          [
           0.6666666666666666,
           "#ed7953"
          ],
          [
           0.7777777777777778,
           "#fb9f3a"
          ],
          [
           0.8888888888888888,
           "#fdca26"
          ],
          [
           1,
           "#f0f921"
          ]
         ]
        },
        "legend": {
         "itemsizing": "constant",
         "tracegroupgap": 0
        },
        "margin": {
         "b": 20,
         "l": 20,
         "r": 20,
         "t": 20
        },
        "scene": {
         "domain": {
          "x": [
           0,
           1
          ],
          "y": [
           0,
           1
          ]
         },
         "xaxis": {
          "title": {
           "text": "일평균승하차(명)"
          }
         },
         "yaxis": {
          "title": {
           "text": "상가 면적"
          }
         },
         "zaxis": {
          "title": {
           "text": "사업체수"
          }
         }
        },
        "template": {
         "data": {
          "bar": [
           {
            "error_x": {
             "color": "#2a3f5f"
            },
            "error_y": {
             "color": "#2a3f5f"
            },
            "marker": {
             "line": {
              "color": "#E5ECF6",
              "width": 0.5
             },
             "pattern": {
              "fillmode": "overlay",
              "size": 10,
              "solidity": 0.2
             }
            },
            "type": "bar"
           }
          ],
          "barpolar": [
           {
            "marker": {
             "line": {
              "color": "#E5ECF6",
              "width": 0.5
             },
             "pattern": {
              "fillmode": "overlay",
              "size": 10,
              "solidity": 0.2
             }
            },
            "type": "barpolar"
           }
          ],
          "carpet": [
           {
            "aaxis": {
             "endlinecolor": "#2a3f5f",
             "gridcolor": "white",
             "linecolor": "white",
             "minorgridcolor": "white",
             "startlinecolor": "#2a3f5f"
            },
            "baxis": {
             "endlinecolor": "#2a3f5f",
             "gridcolor": "white",
             "linecolor": "white",
             "minorgridcolor": "white",
             "startlinecolor": "#2a3f5f"
            },
            "type": "carpet"
           }
          ],
          "choropleth": [
           {
            "colorbar": {
             "outlinewidth": 0,
             "ticks": ""
            },
            "type": "choropleth"
           }
          ],
          "contour": [
           {
            "colorbar": {
             "outlinewidth": 0,
             "ticks": ""
            },
            "colorscale": [
             [
              0,
              "#0d0887"
             ],
             [
              0.1111111111111111,
              "#46039f"
             ],
             [
              0.2222222222222222,
              "#7201a8"
             ],
             [
              0.3333333333333333,
              "#9c179e"
             ],
             [
              0.4444444444444444,
              "#bd3786"
             ],
             [
              0.5555555555555556,
              "#d8576b"
             ],
             [
              0.6666666666666666,
              "#ed7953"
             ],
             [
              0.7777777777777778,
              "#fb9f3a"
             ],
             [
              0.8888888888888888,
              "#fdca26"
             ],
             [
              1,
              "#f0f921"
             ]
            ],
            "type": "contour"
           }
          ],
          "contourcarpet": [
           {
            "colorbar": {
             "outlinewidth": 0,
             "ticks": ""
            },
            "type": "contourcarpet"
           }
          ],
          "heatmap": [
           {
            "colorbar": {
             "outlinewidth": 0,
             "ticks": ""
            },
            "colorscale": [
             [
              0,
              "#0d0887"
             ],
             [
              0.1111111111111111,
              "#46039f"
             ],
             [
              0.2222222222222222,
              "#7201a8"
             ],
             [
              0.3333333333333333,
              "#9c179e"
             ],
             [
              0.4444444444444444,
              "#bd3786"
             ],
             [
              0.5555555555555556,
              "#d8576b"
             ],
             [
              0.6666666666666666,
              "#ed7953"
             ],
             [
              0.7777777777777778,
              "#fb9f3a"
             ],
             [
              0.8888888888888888,
              "#fdca26"
             ],
             [
              1,
              "#f0f921"
             ]
            ],
            "type": "heatmap"
           }
          ],
          "heatmapgl": [
           {
            "colorbar": {
             "outlinewidth": 0,
             "ticks": ""
            },
            "colorscale": [
             [
              0,
              "#0d0887"
             ],
             [
              0.1111111111111111,
              "#46039f"
             ],
             [
              0.2222222222222222,
              "#7201a8"
             ],
             [
              0.3333333333333333,
              "#9c179e"
             ],
             [
              0.4444444444444444,
              "#bd3786"
             ],
             [
              0.5555555555555556,
              "#d8576b"
             ],
             [
              0.6666666666666666,
              "#ed7953"
             ],
             [
              0.7777777777777778,
              "#fb9f3a"
             ],
             [
              0.8888888888888888,
              "#fdca26"
             ],
             [
              1,
              "#f0f921"
             ]
            ],
            "type": "heatmapgl"
           }
          ],
          "histogram": [
           {
            "marker": {
             "pattern": {
              "fillmode": "overlay",
              "size": 10,
              "solidity": 0.2
             }
            },
            "type": "histogram"
           }
          ],
          "histogram2d": [
           {
            "colorbar": {
             "outlinewidth": 0,
             "ticks": ""
            },
            "colorscale": [
             [
              0,
              "#0d0887"
             ],
             [
              0.1111111111111111,
              "#46039f"
             ],
             [
              0.2222222222222222,
              "#7201a8"
             ],
             [
              0.3333333333333333,
              "#9c179e"
             ],
             [
              0.4444444444444444,
              "#bd3786"
             ],
             [
              0.5555555555555556,
              "#d8576b"
             ],
             [
              0.6666666666666666,
              "#ed7953"
             ],
             [
              0.7777777777777778,
              "#fb9f3a"
             ],
             [
              0.8888888888888888,
              "#fdca26"
             ],
             [
              1,
              "#f0f921"
             ]
            ],
            "type": "histogram2d"
           }
          ],
          "histogram2dcontour": [
           {
            "colorbar": {
             "outlinewidth": 0,
             "ticks": ""
            },
            "colorscale": [
             [
              0,
              "#0d0887"
             ],
             [
              0.1111111111111111,
              "#46039f"
             ],
             [
              0.2222222222222222,
              "#7201a8"
             ],
             [
              0.3333333333333333,
              "#9c179e"
             ],
             [
              0.4444444444444444,
              "#bd3786"
             ],
             [
              0.5555555555555556,
              "#d8576b"
             ],
             [
              0.6666666666666666,
              "#ed7953"
             ],
             [
              0.7777777777777778,
              "#fb9f3a"
             ],
             [
              0.8888888888888888,
              "#fdca26"
             ],
             [
              1,
              "#f0f921"
             ]
            ],
            "type": "histogram2dcontour"
           }
          ],
          "mesh3d": [
           {
            "colorbar": {
             "outlinewidth": 0,
             "ticks": ""
            },
            "type": "mesh3d"
           }
          ],
          "parcoords": [
           {
            "line": {
             "colorbar": {
              "outlinewidth": 0,
              "ticks": ""
             }
            },
            "type": "parcoords"
           }
          ],
          "pie": [
           {
            "automargin": true,
            "type": "pie"
           }
          ],
          "scatter": [
           {
            "fillpattern": {
             "fillmode": "overlay",
             "size": 10,
             "solidity": 0.2
            },
            "type": "scatter"
           }
          ],
          "scatter3d": [
           {
            "line": {
             "colorbar": {
              "outlinewidth": 0,
              "ticks": ""
             }
            },
            "marker": {
             "colorbar": {
              "outlinewidth": 0,
              "ticks": ""
             }
            },
            "type": "scatter3d"
           }
          ],
          "scattercarpet": [
           {
            "marker": {
             "colorbar": {
              "outlinewidth": 0,
              "ticks": ""
             }
            },
            "type": "scattercarpet"
           }
          ],
          "scattergeo": [
           {
            "marker": {
             "colorbar": {
              "outlinewidth": 0,
              "ticks": ""
             }
            },
            "type": "scattergeo"
           }
          ],
          "scattergl": [
           {
            "marker": {
             "colorbar": {
              "outlinewidth": 0,
              "ticks": ""
             }
            },
            "type": "scattergl"
           }
          ],
          "scattermapbox": [
           {
            "marker": {
             "colorbar": {
              "outlinewidth": 0,
              "ticks": ""
             }
            },
            "type": "scattermapbox"
           }
          ],
          "scatterpolar": [
           {
            "marker": {
             "colorbar": {
              "outlinewidth": 0,
              "ticks": ""
             }
            },
            "type": "scatterpolar"
           }
          ],
          "scatterpolargl": [
           {
            "marker": {
             "colorbar": {
              "outlinewidth": 0,
              "ticks": ""
             }
            },
            "type": "scatterpolargl"
           }
          ],
          "scatterternary": [
           {
            "marker": {
             "colorbar": {
              "outlinewidth": 0,
              "ticks": ""
             }
            },
            "type": "scatterternary"
           }
          ],
          "surface": [
           {
            "colorbar": {
             "outlinewidth": 0,
             "ticks": ""
            },
            "colorscale": [
             [
              0,
              "#0d0887"
             ],
             [
              0.1111111111111111,
              "#46039f"
             ],
             [
              0.2222222222222222,
              "#7201a8"
             ],
             [
              0.3333333333333333,
              "#9c179e"
             ],
             [
              0.4444444444444444,
              "#bd3786"
             ],
             [
              0.5555555555555556,
              "#d8576b"
             ],
             [
              0.6666666666666666,
              "#ed7953"
             ],
             [
              0.7777777777777778,
              "#fb9f3a"
             ],
             [
              0.8888888888888888,
              "#fdca26"
             ],
             [
              1,
              "#f0f921"
             ]
            ],
            "type": "surface"
           }
          ],
          "table": [
           {
            "cells": {
             "fill": {
              "color": "#EBF0F8"
             },
             "line": {
              "color": "white"
             }
            },
            "header": {
             "fill": {
              "color": "#C8D4E3"
             },
             "line": {
              "color": "white"
             }
            },
            "type": "table"
           }
          ]
         },
         "layout": {
          "annotationdefaults": {
           "arrowcolor": "#2a3f5f",
           "arrowhead": 0,
           "arrowwidth": 1
          },
          "autotypenumbers": "strict",
          "coloraxis": {
           "colorbar": {
            "outlinewidth": 0,
            "ticks": ""
           }
          },
          "colorscale": {
           "diverging": [
            [
             0,
             "#8e0152"
            ],
            [
             0.1,
             "#c51b7d"
            ],
            [
             0.2,
             "#de77ae"
            ],
            [
             0.3,
             "#f1b6da"
            ],
            [
             0.4,
             "#fde0ef"
            ],
            [
             0.5,
             "#f7f7f7"
            ],
            [
             0.6,
             "#e6f5d0"
            ],
            [
             0.7,
             "#b8e186"
            ],
            [
             0.8,
             "#7fbc41"
            ],
            [
             0.9,
             "#4d9221"
            ],
            [
             1,
             "#276419"
            ]
           ],
           "sequential": [
            [
             0,
             "#0d0887"
            ],
            [
             0.1111111111111111,
             "#46039f"
            ],
            [
             0.2222222222222222,
             "#7201a8"
            ],
            [
             0.3333333333333333,
             "#9c179e"
            ],
            [
             0.4444444444444444,
             "#bd3786"
            ],
            [
             0.5555555555555556,
             "#d8576b"
            ],
            [
             0.6666666666666666,
             "#ed7953"
            ],
            [
             0.7777777777777778,
             "#fb9f3a"
            ],
            [
             0.8888888888888888,
             "#fdca26"
            ],
            [
             1,
             "#f0f921"
            ]
           ],
           "sequentialminus": [
            [
             0,
             "#0d0887"
            ],
            [
             0.1111111111111111,
             "#46039f"
            ],
            [
             0.2222222222222222,
             "#7201a8"
            ],
            [
             0.3333333333333333,
             "#9c179e"
            ],
            [
             0.4444444444444444,
             "#bd3786"
            ],
            [
             0.5555555555555556,
             "#d8576b"
            ],
            [
             0.6666666666666666,
             "#ed7953"
            ],
            [
             0.7777777777777778,
             "#fb9f3a"
            ],
            [
             0.8888888888888888,
             "#fdca26"
            ],
            [
             1,
             "#f0f921"
            ]
           ]
          },
          "colorway": [
           "#636efa",
           "#EF553B",
           "#00cc96",
           "#ab63fa",
           "#FFA15A",
           "#19d3f3",
           "#FF6692",
           "#B6E880",
           "#FF97FF",
           "#FECB52"
          ],
          "font": {
           "color": "#2a3f5f"
          },
          "geo": {
           "bgcolor": "white",
           "lakecolor": "white",
           "landcolor": "#E5ECF6",
           "showlakes": true,
           "showland": true,
           "subunitcolor": "white"
          },
          "hoverlabel": {
           "align": "left"
          },
          "hovermode": "closest",
          "mapbox": {
           "style": "light"
          },
          "paper_bgcolor": "white",
          "plot_bgcolor": "#E5ECF6",
          "polar": {
           "angularaxis": {
            "gridcolor": "white",
            "linecolor": "white",
            "ticks": ""
           },
           "bgcolor": "#E5ECF6",
           "radialaxis": {
            "gridcolor": "white",
            "linecolor": "white",
            "ticks": ""
           }
          },
          "scene": {
           "xaxis": {
            "backgroundcolor": "#E5ECF6",
            "gridcolor": "white",
            "gridwidth": 2,
            "linecolor": "white",
            "showbackground": true,
            "ticks": "",
            "zerolinecolor": "white"
           },
           "yaxis": {
            "backgroundcolor": "#E5ECF6",
            "gridcolor": "white",
            "gridwidth": 2,
            "linecolor": "white",
            "showbackground": true,
            "ticks": "",
            "zerolinecolor": "white"
           },
           "zaxis": {
            "backgroundcolor": "#E5ECF6",
            "gridcolor": "white",
            "gridwidth": 2,
            "linecolor": "white",
            "showbackground": true,
            "ticks": "",
            "zerolinecolor": "white"
           }
          },
          "shapedefaults": {
           "line": {
            "color": "#2a3f5f"
           }
          },
          "ternary": {
           "aaxis": {
            "gridcolor": "white",
            "linecolor": "white",
            "ticks": ""
           },
           "baxis": {
            "gridcolor": "white",
            "linecolor": "white",
            "ticks": ""
           },
           "bgcolor": "#E5ECF6",
           "caxis": {
            "gridcolor": "white",
            "linecolor": "white",
            "ticks": ""
           }
          },
          "title": {
           "x": 0.05
          },
          "xaxis": {
           "automargin": true,
           "gridcolor": "white",
           "linecolor": "white",
           "ticks": "",
           "title": {
            "standoff": 15
           },
           "zerolinecolor": "white",
           "zerolinewidth": 2
          },
          "yaxis": {
           "automargin": true,
           "gridcolor": "white",
           "linecolor": "white",
           "ticks": "",
           "title": {
            "standoff": 15
           },
           "zerolinecolor": "white",
           "zerolinewidth": 2
          }
         }
        }
       }
      }
     },
     "metadata": {},
     "output_type": "display_data"
    }
   ],
   "source": [
    "import plotly.express as px\n",
    "\n",
    "fig = px.scatter_3d(\n",
    "    use_df, \n",
    "    x='일평균승하차(명)', y='상가 면적', z='사업체수',\n",
    "    color=\"일평균(원)\",\n",
    "    size=\"일평균(원)\",\n",
    "    size_max=18,\n",
    "    opacity=0.7)\n",
    "   \n",
    "fig.update_layout(margin=dict(l=20, r=20, b=20, t=20))\n",
    "fig.show()"
   ]
  },
  {
   "cell_type": "code",
   "execution_count": 18,
   "metadata": {},
   "outputs": [],
   "source": [
    "# kmeans 군집 4\n",
    "temp = cluster_df.groupby(['kmeans_group']).mean()"
   ]
  },
  {
   "cell_type": "code",
   "execution_count": 19,
   "metadata": {},
   "outputs": [],
   "source": [
    "group_0 = cluster_df[cluster_df['kmeans_group']==0]\n",
    "group_1 =cluster_df[cluster_df['kmeans_group']==1]\n",
    "group_2 = cluster_df[cluster_df['kmeans_group']==2]\n",
    "group_3 = cluster_df[cluster_df['kmeans_group']==3]"
   ]
  },
  {
   "cell_type": "code",
   "execution_count": 20,
   "metadata": {},
   "outputs": [
    {
     "data": {
      "text/html": [
       "<div>\n",
       "<style scoped>\n",
       "    .dataframe tbody tr th:only-of-type {\n",
       "        vertical-align: middle;\n",
       "    }\n",
       "\n",
       "    .dataframe tbody tr th {\n",
       "        vertical-align: top;\n",
       "    }\n",
       "\n",
       "    .dataframe thead th {\n",
       "        text-align: right;\n",
       "    }\n",
       "</style>\n",
       "<table border=\"1\" class=\"dataframe\">\n",
       "  <thead>\n",
       "    <tr style=\"text-align: right;\">\n",
       "      <th></th>\n",
       "      <th>일평균승하차(명)</th>\n",
       "      <th>상가 면적</th>\n",
       "      <th>1인 가구수(세대)</th>\n",
       "      <th>사업체수</th>\n",
       "      <th>거주자수</th>\n",
       "      <th>일평균(원)</th>\n",
       "      <th>kmeans_group</th>\n",
       "    </tr>\n",
       "    <tr>\n",
       "      <th>역사명</th>\n",
       "      <th></th>\n",
       "      <th></th>\n",
       "      <th></th>\n",
       "      <th></th>\n",
       "      <th></th>\n",
       "      <th></th>\n",
       "      <th></th>\n",
       "    </tr>\n",
       "  </thead>\n",
       "  <tbody>\n",
       "    <tr>\n",
       "      <th>개금역</th>\n",
       "      <td>13621</td>\n",
       "      <td>37.0</td>\n",
       "      <td>2501</td>\n",
       "      <td>36</td>\n",
       "      <td>27187</td>\n",
       "      <td>4717075</td>\n",
       "      <td>0</td>\n",
       "    </tr>\n",
       "    <tr>\n",
       "      <th>광안역</th>\n",
       "      <td>16701</td>\n",
       "      <td>970.0</td>\n",
       "      <td>2424</td>\n",
       "      <td>108</td>\n",
       "      <td>24654</td>\n",
       "      <td>6932781</td>\n",
       "      <td>0</td>\n",
       "    </tr>\n",
       "    <tr>\n",
       "      <th>괴정</th>\n",
       "      <td>15271</td>\n",
       "      <td>87.0</td>\n",
       "      <td>4835</td>\n",
       "      <td>42</td>\n",
       "      <td>42636</td>\n",
       "      <td>5103298</td>\n",
       "      <td>0</td>\n",
       "    </tr>\n",
       "    <tr>\n",
       "      <th>교대</th>\n",
       "      <td>22544</td>\n",
       "      <td>57.0</td>\n",
       "      <td>3761</td>\n",
       "      <td>0</td>\n",
       "      <td>9487</td>\n",
       "      <td>6656075</td>\n",
       "      <td>0</td>\n",
       "    </tr>\n",
       "    <tr>\n",
       "      <th>구서</th>\n",
       "      <td>15857</td>\n",
       "      <td>91.0</td>\n",
       "      <td>2774</td>\n",
       "      <td>66</td>\n",
       "      <td>35275</td>\n",
       "      <td>6933445</td>\n",
       "      <td>0</td>\n",
       "    </tr>\n",
       "    <tr>\n",
       "      <th>금곡역</th>\n",
       "      <td>3881</td>\n",
       "      <td>11.0</td>\n",
       "      <td>2827</td>\n",
       "      <td>13</td>\n",
       "      <td>12279</td>\n",
       "      <td>4943795</td>\n",
       "      <td>0</td>\n",
       "    </tr>\n",
       "    <tr>\n",
       "      <th>냉정역</th>\n",
       "      <td>9535</td>\n",
       "      <td>42.0</td>\n",
       "      <td>3154</td>\n",
       "      <td>26</td>\n",
       "      <td>22381</td>\n",
       "      <td>4475283</td>\n",
       "      <td>0</td>\n",
       "    </tr>\n",
       "    <tr>\n",
       "      <th>노포</th>\n",
       "      <td>19370</td>\n",
       "      <td>105.0</td>\n",
       "      <td>5628</td>\n",
       "      <td>6</td>\n",
       "      <td>4858</td>\n",
       "      <td>6881813</td>\n",
       "      <td>0</td>\n",
       "    </tr>\n",
       "    <tr>\n",
       "      <th>대연역</th>\n",
       "      <td>15595</td>\n",
       "      <td>197.0</td>\n",
       "      <td>4784</td>\n",
       "      <td>166</td>\n",
       "      <td>24632</td>\n",
       "      <td>6362253</td>\n",
       "      <td>0</td>\n",
       "    </tr>\n",
       "    <tr>\n",
       "      <th>덕천역</th>\n",
       "      <td>10481</td>\n",
       "      <td>0.0</td>\n",
       "      <td>4721</td>\n",
       "      <td>65</td>\n",
       "      <td>7059</td>\n",
       "      <td>8563422</td>\n",
       "      <td>0</td>\n",
       "    </tr>\n",
       "    <tr>\n",
       "      <th>동백역</th>\n",
       "      <td>11305</td>\n",
       "      <td>88.0</td>\n",
       "      <td>3801</td>\n",
       "      <td>52</td>\n",
       "      <td>38924</td>\n",
       "      <td>5045983</td>\n",
       "      <td>0</td>\n",
       "    </tr>\n",
       "    <tr>\n",
       "      <th>두실</th>\n",
       "      <td>11618</td>\n",
       "      <td>28.0</td>\n",
       "      <td>4198</td>\n",
       "      <td>33</td>\n",
       "      <td>16029</td>\n",
       "      <td>5170495</td>\n",
       "      <td>0</td>\n",
       "    </tr>\n",
       "    <tr>\n",
       "      <th>명륜</th>\n",
       "      <td>15692</td>\n",
       "      <td>80.0</td>\n",
       "      <td>3674</td>\n",
       "      <td>69</td>\n",
       "      <td>19854</td>\n",
       "      <td>6832700</td>\n",
       "      <td>0</td>\n",
       "    </tr>\n",
       "    <tr>\n",
       "      <th>미남</th>\n",
       "      <td>15355</td>\n",
       "      <td>952.0</td>\n",
       "      <td>2004</td>\n",
       "      <td>183</td>\n",
       "      <td>33834</td>\n",
       "      <td>6038977</td>\n",
       "      <td>0</td>\n",
       "    </tr>\n",
       "    <tr>\n",
       "      <th>범내골</th>\n",
       "      <td>16322</td>\n",
       "      <td>45.0</td>\n",
       "      <td>1933</td>\n",
       "      <td>71</td>\n",
       "      <td>18073</td>\n",
       "      <td>7121700</td>\n",
       "      <td>0</td>\n",
       "    </tr>\n",
       "    <tr>\n",
       "      <th>범어사</th>\n",
       "      <td>12777</td>\n",
       "      <td>614.0</td>\n",
       "      <td>2663</td>\n",
       "      <td>6</td>\n",
       "      <td>4858</td>\n",
       "      <td>4612488</td>\n",
       "      <td>0</td>\n",
       "    </tr>\n",
       "    <tr>\n",
       "      <th>범일</th>\n",
       "      <td>25681</td>\n",
       "      <td>0.0</td>\n",
       "      <td>3104</td>\n",
       "      <td>82</td>\n",
       "      <td>13559</td>\n",
       "      <td>8678939</td>\n",
       "      <td>0</td>\n",
       "    </tr>\n",
       "    <tr>\n",
       "      <th>부산진</th>\n",
       "      <td>12864</td>\n",
       "      <td>39.0</td>\n",
       "      <td>3847</td>\n",
       "      <td>53</td>\n",
       "      <td>16677</td>\n",
       "      <td>4808858</td>\n",
       "      <td>0</td>\n",
       "    </tr>\n",
       "    <tr>\n",
       "      <th>부전</th>\n",
       "      <td>28422</td>\n",
       "      <td>101.0</td>\n",
       "      <td>5359</td>\n",
       "      <td>131</td>\n",
       "      <td>29452</td>\n",
       "      <td>7561376</td>\n",
       "      <td>0</td>\n",
       "    </tr>\n",
       "    <tr>\n",
       "      <th>사직</th>\n",
       "      <td>11065</td>\n",
       "      <td>14.0</td>\n",
       "      <td>3698</td>\n",
       "      <td>103</td>\n",
       "      <td>21718</td>\n",
       "      <td>4441978</td>\n",
       "      <td>0</td>\n",
       "    </tr>\n",
       "    <tr>\n",
       "      <th>양정</th>\n",
       "      <td>20425</td>\n",
       "      <td>111.0</td>\n",
       "      <td>4526</td>\n",
       "      <td>31</td>\n",
       "      <td>5915</td>\n",
       "      <td>7810513</td>\n",
       "      <td>0</td>\n",
       "    </tr>\n",
       "    <tr>\n",
       "      <th>온천장</th>\n",
       "      <td>24357</td>\n",
       "      <td>367.0</td>\n",
       "      <td>3833</td>\n",
       "      <td>74</td>\n",
       "      <td>23492</td>\n",
       "      <td>8456328</td>\n",
       "      <td>0</td>\n",
       "    </tr>\n",
       "    <tr>\n",
       "      <th>자갈치</th>\n",
       "      <td>27992</td>\n",
       "      <td>593.0</td>\n",
       "      <td>3887</td>\n",
       "      <td>19</td>\n",
       "      <td>14313</td>\n",
       "      <td>7641227</td>\n",
       "      <td>0</td>\n",
       "    </tr>\n",
       "    <tr>\n",
       "      <th>장전</th>\n",
       "      <td>17955</td>\n",
       "      <td>308.0</td>\n",
       "      <td>2561</td>\n",
       "      <td>95</td>\n",
       "      <td>42152</td>\n",
       "      <td>7481685</td>\n",
       "      <td>0</td>\n",
       "    </tr>\n",
       "    <tr>\n",
       "      <th>전포역</th>\n",
       "      <td>14622</td>\n",
       "      <td>1151.0</td>\n",
       "      <td>3242</td>\n",
       "      <td>48</td>\n",
       "      <td>21201</td>\n",
       "      <td>7976450</td>\n",
       "      <td>0</td>\n",
       "    </tr>\n",
       "    <tr>\n",
       "      <th>중동역</th>\n",
       "      <td>11300</td>\n",
       "      <td>602.0</td>\n",
       "      <td>3014</td>\n",
       "      <td>91</td>\n",
       "      <td>29375</td>\n",
       "      <td>5296144</td>\n",
       "      <td>0</td>\n",
       "    </tr>\n",
       "    <tr>\n",
       "      <th>중앙</th>\n",
       "      <td>16097</td>\n",
       "      <td>791.0</td>\n",
       "      <td>3225</td>\n",
       "      <td>228</td>\n",
       "      <td>9177</td>\n",
       "      <td>7665424</td>\n",
       "      <td>0</td>\n",
       "    </tr>\n",
       "    <tr>\n",
       "      <th>초량</th>\n",
       "      <td>10253</td>\n",
       "      <td>515.0</td>\n",
       "      <td>2155</td>\n",
       "      <td>104</td>\n",
       "      <td>16992</td>\n",
       "      <td>4676165</td>\n",
       "      <td>0</td>\n",
       "    </tr>\n",
       "    <tr>\n",
       "      <th>토성</th>\n",
       "      <td>13846</td>\n",
       "      <td>75.0</td>\n",
       "      <td>2110</td>\n",
       "      <td>7</td>\n",
       "      <td>28882</td>\n",
       "      <td>6002230</td>\n",
       "      <td>0</td>\n",
       "    </tr>\n",
       "    <tr>\n",
       "      <th>해운대역</th>\n",
       "      <td>18794</td>\n",
       "      <td>59.0</td>\n",
       "      <td>5075</td>\n",
       "      <td>80</td>\n",
       "      <td>24427</td>\n",
       "      <td>8828608</td>\n",
       "      <td>0</td>\n",
       "    </tr>\n",
       "    <tr>\n",
       "      <th>화명역</th>\n",
       "      <td>16561</td>\n",
       "      <td>47.0</td>\n",
       "      <td>5736</td>\n",
       "      <td>66</td>\n",
       "      <td>45501</td>\n",
       "      <td>6777211</td>\n",
       "      <td>0</td>\n",
       "    </tr>\n",
       "  </tbody>\n",
       "</table>\n",
       "</div>"
      ],
      "text/plain": [
       "      일평균승하차(명)   상가 면적  1인 가구수(세대)  사업체수   거주자수   일평균(원)  kmeans_group\n",
       "역사명                                                                    \n",
       "개금역       13621    37.0        2501    36  27187  4717075             0\n",
       "광안역       16701   970.0        2424   108  24654  6932781             0\n",
       "괴정        15271    87.0        4835    42  42636  5103298             0\n",
       "교대        22544    57.0        3761     0   9487  6656075             0\n",
       "구서        15857    91.0        2774    66  35275  6933445             0\n",
       "금곡역        3881    11.0        2827    13  12279  4943795             0\n",
       "냉정역        9535    42.0        3154    26  22381  4475283             0\n",
       "노포        19370   105.0        5628     6   4858  6881813             0\n",
       "대연역       15595   197.0        4784   166  24632  6362253             0\n",
       "덕천역       10481     0.0        4721    65   7059  8563422             0\n",
       "동백역       11305    88.0        3801    52  38924  5045983             0\n",
       "두실        11618    28.0        4198    33  16029  5170495             0\n",
       "명륜        15692    80.0        3674    69  19854  6832700             0\n",
       "미남        15355   952.0        2004   183  33834  6038977             0\n",
       "범내골       16322    45.0        1933    71  18073  7121700             0\n",
       "범어사       12777   614.0        2663     6   4858  4612488             0\n",
       "범일        25681     0.0        3104    82  13559  8678939             0\n",
       "부산진       12864    39.0        3847    53  16677  4808858             0\n",
       "부전        28422   101.0        5359   131  29452  7561376             0\n",
       "사직        11065    14.0        3698   103  21718  4441978             0\n",
       "양정        20425   111.0        4526    31   5915  7810513             0\n",
       "온천장       24357   367.0        3833    74  23492  8456328             0\n",
       "자갈치       27992   593.0        3887    19  14313  7641227             0\n",
       "장전        17955   308.0        2561    95  42152  7481685             0\n",
       "전포역       14622  1151.0        3242    48  21201  7976450             0\n",
       "중동역       11300   602.0        3014    91  29375  5296144             0\n",
       "중앙        16097   791.0        3225   228   9177  7665424             0\n",
       "초량        10253   515.0        2155   104  16992  4676165             0\n",
       "토성        13846    75.0        2110     7  28882  6002230             0\n",
       "해운대역      18794    59.0        5075    80  24427  8828608             0\n",
       "화명역       16561    47.0        5736    66  45501  6777211             0"
      ]
     },
     "execution_count": 20,
     "metadata": {},
     "output_type": "execute_result"
    }
   ],
   "source": [
    "group_0"
   ]
  },
  {
   "cell_type": "code",
   "execution_count": 23,
   "metadata": {},
   "outputs": [],
   "source": [
    "group_0.to_excel(\"kmeans_group_0_상가면적 포함.xlsx\")\n",
    "group_1.to_excel(\"kmeans_group_1_상가면적 포함.xlsx\")\n",
    "group_2.to_excel(\"kmeans_group_2_상가면적 포함.xlsx\")\n",
    "group_3.to_excel(\"kmeans_group_3_상가면적 포함.xlsx\")"
   ]
  },
  {
   "cell_type": "code",
   "execution_count": 24,
   "metadata": {},
   "outputs": [],
   "source": [
    "cluster_df.to_csv(\"Kmeans(정규화X)_상가면적_포함.csv\",encoding='cp949')"
   ]
  },
  {
   "cell_type": "code",
   "execution_count": null,
   "metadata": {},
   "outputs": [],
   "source": []
  }
 ],
 "metadata": {
  "kernelspec": {
   "display_name": "Python 3.10.5 64-bit",
   "language": "python",
   "name": "python3"
  },
  "language_info": {
   "codemirror_mode": {
    "name": "ipython",
    "version": 3
   },
   "file_extension": ".py",
   "mimetype": "text/x-python",
   "name": "python",
   "nbconvert_exporter": "python",
   "pygments_lexer": "ipython3",
   "version": "3.10.5"
  },
  "orig_nbformat": 4,
  "vscode": {
   "interpreter": {
    "hash": "beedbe2faf2f7048d727558d0bc3221e7eba2a0b921cac4d4771b2feb8f74b30"
   }
  }
 },
 "nbformat": 4,
 "nbformat_minor": 2
}
