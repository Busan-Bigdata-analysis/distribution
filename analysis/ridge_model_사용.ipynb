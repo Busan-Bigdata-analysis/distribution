{
 "cells": [
  {
   "cell_type": "markdown",
   "metadata": {},
   "source": [
    "# 저장된 회귀 모델로 예측하기"
   ]
  },
  {
   "cell_type": "markdown",
   "metadata": {},
   "source": [
    "## 데이터 불러오기"
   ]
  },
  {
   "cell_type": "code",
   "execution_count": 28,
   "metadata": {},
   "outputs": [],
   "source": [
    "import matplotlib.pyplot as plt\n",
    "import matplotlib.font_manager as fm\n",
    "import numpy as np\n",
    "import pandas as pd\n",
    "import seaborn as sns\n",
    "\n",
    "from pylab import rcParams\n",
    "rcParams['figure.figsize'] = 15,10\n",
    "\n",
    "plt.rc('font', family='Malgun Gothic')\n",
    "sns.set(font='Malgun Gothic', rc={'axes.unicode_minus':False}, style='darkgrid')"
   ]
  },
  {
   "cell_type": "code",
   "execution_count": 29,
   "metadata": {},
   "outputs": [
    {
     "data": {
      "text/html": [
       "<div>\n",
       "<style scoped>\n",
       "    .dataframe tbody tr th:only-of-type {\n",
       "        vertical-align: middle;\n",
       "    }\n",
       "\n",
       "    .dataframe tbody tr th {\n",
       "        vertical-align: top;\n",
       "    }\n",
       "\n",
       "    .dataframe thead th {\n",
       "        text-align: right;\n",
       "    }\n",
       "</style>\n",
       "<table border=\"1\" class=\"dataframe\">\n",
       "  <thead>\n",
       "    <tr style=\"text-align: right;\">\n",
       "      <th></th>\n",
       "      <th>역사명</th>\n",
       "      <th>역위도</th>\n",
       "      <th>역경도</th>\n",
       "      <th>일평균승하차(명)</th>\n",
       "      <th>상가 면적</th>\n",
       "      <th>거주자수</th>\n",
       "      <th>남여비율</th>\n",
       "      <th>1인 가구수 레벨</th>\n",
       "      <th>1인 가구수(세대)</th>\n",
       "      <th>사업체수</th>\n",
       "      <th>20~40대 인구 수 레벨</th>\n",
       "      <th>고속버스 터미널</th>\n",
       "      <th>기차역</th>\n",
       "      <th>여객 터미널</th>\n",
       "      <th>주변 관광지</th>\n",
       "      <th>주변 대학교</th>\n",
       "      <th>일평균(원)</th>\n",
       "    </tr>\n",
       "  </thead>\n",
       "  <tbody>\n",
       "    <tr>\n",
       "      <th>0</th>\n",
       "      <td>가야역</td>\n",
       "      <td>35.155883</td>\n",
       "      <td>129.042817</td>\n",
       "      <td>5799</td>\n",
       "      <td>11.0</td>\n",
       "      <td>25217</td>\n",
       "      <td>0.95</td>\n",
       "      <td>83</td>\n",
       "      <td>6291</td>\n",
       "      <td>49</td>\n",
       "      <td>57</td>\n",
       "      <td>NaN</td>\n",
       "      <td>1.0</td>\n",
       "      <td>NaN</td>\n",
       "      <td>0</td>\n",
       "      <td>0</td>\n",
       "      <td>1926082</td>\n",
       "    </tr>\n",
       "    <tr>\n",
       "      <th>1</th>\n",
       "      <td>감전역</td>\n",
       "      <td>35.155528</td>\n",
       "      <td>128.991146</td>\n",
       "      <td>6107</td>\n",
       "      <td>10.0</td>\n",
       "      <td>12825</td>\n",
       "      <td>1.12</td>\n",
       "      <td>56</td>\n",
       "      <td>5461</td>\n",
       "      <td>57</td>\n",
       "      <td>31</td>\n",
       "      <td>NaN</td>\n",
       "      <td>NaN</td>\n",
       "      <td>NaN</td>\n",
       "      <td>0</td>\n",
       "      <td>0</td>\n",
       "      <td>2535118</td>\n",
       "    </tr>\n",
       "  </tbody>\n",
       "</table>\n",
       "</div>"
      ],
      "text/plain": [
       "   역사명        역위도         역경도  일평균승하차(명)  상가 면적   거주자수  남여비율  1인 가구수 레벨  \\\n",
       "0  가야역  35.155883  129.042817       5799   11.0  25217  0.95         83   \n",
       "1  감전역  35.155528  128.991146       6107   10.0  12825  1.12         56   \n",
       "\n",
       "   1인 가구수(세대)  사업체수  20~40대 인구 수 레벨  고속버스 터미널  기차역  여객 터미널  주변 관광지  주변 대학교  \\\n",
       "0        6291    49              57       NaN  1.0     NaN       0       0   \n",
       "1        5461    57              31       NaN  NaN     NaN       0       0   \n",
       "\n",
       "    일평균(원)  \n",
       "0  1926082  \n",
       "1  2535118  "
      ]
     },
     "execution_count": 29,
     "metadata": {},
     "output_type": "execute_result"
    }
   ],
   "source": [
    "# 통합데이터 불러오기\n",
    "ori_df = pd.read_csv(\"./통합데이터_추가수정(사업체수 추가).csv\", encoding=\"euc-kr\")\n",
    "ori_df.head(2)"
   ]
  },
  {
   "cell_type": "code",
   "execution_count": 153,
   "metadata": {},
   "outputs": [
    {
     "data": {
      "text/html": [
       "<div>\n",
       "<style scoped>\n",
       "    .dataframe tbody tr th:only-of-type {\n",
       "        vertical-align: middle;\n",
       "    }\n",
       "\n",
       "    .dataframe tbody tr th {\n",
       "        vertical-align: top;\n",
       "    }\n",
       "\n",
       "    .dataframe thead th {\n",
       "        text-align: right;\n",
       "    }\n",
       "</style>\n",
       "<table border=\"1\" class=\"dataframe\">\n",
       "  <thead>\n",
       "    <tr style=\"text-align: right;\">\n",
       "      <th></th>\n",
       "      <th>역사명</th>\n",
       "      <th>거주자수</th>\n",
       "      <th>일평균승하차(명)</th>\n",
       "      <th>1인 가구수(세대)</th>\n",
       "      <th>사업체수</th>\n",
       "      <th>상가 면적</th>\n",
       "      <th>일평균(원)</th>\n",
       "    </tr>\n",
       "  </thead>\n",
       "  <tbody>\n",
       "    <tr>\n",
       "      <th>0</th>\n",
       "      <td>가야역</td>\n",
       "      <td>25217</td>\n",
       "      <td>5799</td>\n",
       "      <td>6291</td>\n",
       "      <td>49</td>\n",
       "      <td>11.0</td>\n",
       "      <td>1926082</td>\n",
       "    </tr>\n",
       "    <tr>\n",
       "      <th>1</th>\n",
       "      <td>감전역</td>\n",
       "      <td>12825</td>\n",
       "      <td>6107</td>\n",
       "      <td>5461</td>\n",
       "      <td>57</td>\n",
       "      <td>10.0</td>\n",
       "      <td>2535118</td>\n",
       "    </tr>\n",
       "    <tr>\n",
       "      <th>2</th>\n",
       "      <td>강서구청</td>\n",
       "      <td>2076</td>\n",
       "      <td>4251</td>\n",
       "      <td>4630</td>\n",
       "      <td>109</td>\n",
       "      <td>NaN</td>\n",
       "      <td>2029127</td>\n",
       "    </tr>\n",
       "    <tr>\n",
       "      <th>3</th>\n",
       "      <td>개금역</td>\n",
       "      <td>27187</td>\n",
       "      <td>13621</td>\n",
       "      <td>2501</td>\n",
       "      <td>36</td>\n",
       "      <td>37.0</td>\n",
       "      <td>4717075</td>\n",
       "    </tr>\n",
       "    <tr>\n",
       "      <th>4</th>\n",
       "      <td>거제(법원·검찰청)</td>\n",
       "      <td>27403</td>\n",
       "      <td>9546</td>\n",
       "      <td>3093</td>\n",
       "      <td>114</td>\n",
       "      <td>16.0</td>\n",
       "      <td>3099526</td>\n",
       "    </tr>\n",
       "    <tr>\n",
       "      <th>...</th>\n",
       "      <td>...</td>\n",
       "      <td>...</td>\n",
       "      <td>...</td>\n",
       "      <td>...</td>\n",
       "      <td>...</td>\n",
       "      <td>...</td>\n",
       "      <td>...</td>\n",
       "    </tr>\n",
       "    <tr>\n",
       "      <th>95</th>\n",
       "      <td>충렬사(안락)</td>\n",
       "      <td>18134</td>\n",
       "      <td>5398</td>\n",
       "      <td>1851</td>\n",
       "      <td>35</td>\n",
       "      <td>10.0</td>\n",
       "      <td>1117126</td>\n",
       "    </tr>\n",
       "    <tr>\n",
       "      <th>96</th>\n",
       "      <td>토성</td>\n",
       "      <td>28882</td>\n",
       "      <td>13846</td>\n",
       "      <td>2110</td>\n",
       "      <td>7</td>\n",
       "      <td>75.0</td>\n",
       "      <td>6002230</td>\n",
       "    </tr>\n",
       "    <tr>\n",
       "      <th>97</th>\n",
       "      <td>하단</td>\n",
       "      <td>21407</td>\n",
       "      <td>29080</td>\n",
       "      <td>4414</td>\n",
       "      <td>36</td>\n",
       "      <td>166.0</td>\n",
       "      <td>11010043</td>\n",
       "    </tr>\n",
       "    <tr>\n",
       "      <th>98</th>\n",
       "      <td>해운대역</td>\n",
       "      <td>24427</td>\n",
       "      <td>18794</td>\n",
       "      <td>5075</td>\n",
       "      <td>80</td>\n",
       "      <td>59.0</td>\n",
       "      <td>8828608</td>\n",
       "    </tr>\n",
       "    <tr>\n",
       "      <th>99</th>\n",
       "      <td>화명역</td>\n",
       "      <td>45501</td>\n",
       "      <td>16561</td>\n",
       "      <td>5736</td>\n",
       "      <td>66</td>\n",
       "      <td>47.0</td>\n",
       "      <td>6777211</td>\n",
       "    </tr>\n",
       "  </tbody>\n",
       "</table>\n",
       "<p>100 rows × 7 columns</p>\n",
       "</div>"
      ],
      "text/plain": [
       "           역사명   거주자수  일평균승하차(명)  1인 가구수(세대)  사업체수  상가 면적    일평균(원)\n",
       "0          가야역  25217       5799        6291    49   11.0   1926082\n",
       "1          감전역  12825       6107        5461    57   10.0   2535118\n",
       "2         강서구청   2076       4251        4630   109    NaN   2029127\n",
       "3          개금역  27187      13621        2501    36   37.0   4717075\n",
       "4   거제(법원·검찰청)  27403       9546        3093   114   16.0   3099526\n",
       "..         ...    ...        ...         ...   ...    ...       ...\n",
       "95     충렬사(안락)  18134       5398        1851    35   10.0   1117126\n",
       "96          토성  28882      13846        2110     7   75.0   6002230\n",
       "97          하단  21407      29080        4414    36  166.0  11010043\n",
       "98        해운대역  24427      18794        5075    80   59.0   8828608\n",
       "99         화명역  45501      16561        5736    66   47.0   6777211\n",
       "\n",
       "[100 rows x 7 columns]"
      ]
     },
     "execution_count": 153,
     "metadata": {},
     "output_type": "execute_result"
    }
   ],
   "source": [
    "df = ori_df[['역사명','거주자수','일평균승하차(명)','1인 가구수(세대)','사업체수','상가 면적','일평균(원)']]\n",
    "df"
   ]
  },
  {
   "cell_type": "markdown",
   "metadata": {},
   "source": [
    "### 결측치 제거"
   ]
  },
  {
   "cell_type": "code",
   "execution_count": 154,
   "metadata": {},
   "outputs": [
    {
     "data": {
      "text/plain": [
       "역사명           0\n",
       "거주자수          0\n",
       "일평균승하차(명)     0\n",
       "1인 가구수(세대)    0\n",
       "사업체수          0\n",
       "상가 면적         9\n",
       "일평균(원)        0\n",
       "dtype: int64"
      ]
     },
     "execution_count": 154,
     "metadata": {},
     "output_type": "execute_result"
    }
   ],
   "source": [
    "df.isnull().sum()"
   ]
  },
  {
   "cell_type": "code",
   "execution_count": 155,
   "metadata": {},
   "outputs": [
    {
     "name": "stderr",
     "output_type": "stream",
     "text": [
      "C:\\Users\\admin\\AppData\\Local\\Temp\\ipykernel_8976\\1840858203.py:1: SettingWithCopyWarning: \n",
      "A value is trying to be set on a copy of a slice from a DataFrame\n",
      "\n",
      "See the caveats in the documentation: https://pandas.pydata.org/pandas-docs/stable/user_guide/indexing.html#returning-a-view-versus-a-copy\n",
      "  df.fillna(0,inplace=True)\n"
     ]
    }
   ],
   "source": [
    "df.fillna(0,inplace=True)"
   ]
  },
  {
   "cell_type": "code",
   "execution_count": 33,
   "metadata": {},
   "outputs": [
    {
     "data": {
      "image/png": "[encoded data removed]",
      "text/plain": [
       "<Figure size 1800x1080 with 36 Axes>"
      ]
     },
     "metadata": {
      "needs_background": "light"
     },
     "output_type": "display_data"
    }
   ],
   "source": [
    "# 전체 변수와 일평균 수익 산점도\n",
    "from pandas.plotting import scatter_matrix\n",
    "scatter_matrix(df,\n",
    "               alpha=1, ## 데이터 포인트의 투명도 1 = 가장진함, 0 = 완전투명\n",
    "               figsize=(25,15), ## 캔버스 사이즈 조절\n",
    "               diagonal=None) ## 대각 원소에는 아무것도 그리지 않는다.\n",
    "plt.show()"
   ]
  },
  {
   "cell_type": "markdown",
   "metadata": {},
   "source": [
    "### 상관계수 확인"
   ]
  },
  {
   "cell_type": "code",
   "execution_count": 14,
   "metadata": {},
   "outputs": [
    {
     "data": {
      "text/html": [
       "<div>\n",
       "<style scoped>\n",
       "    .dataframe tbody tr th:only-of-type {\n",
       "        vertical-align: middle;\n",
       "    }\n",
       "\n",
       "    .dataframe tbody tr th {\n",
       "        vertical-align: top;\n",
       "    }\n",
       "\n",
       "    .dataframe thead th {\n",
       "        text-align: right;\n",
       "    }\n",
       "</style>\n",
       "<table border=\"1\" class=\"dataframe\">\n",
       "  <thead>\n",
       "    <tr style=\"text-align: right;\">\n",
       "      <th></th>\n",
       "      <th>거주자수</th>\n",
       "      <th>일평균승하차(명)</th>\n",
       "      <th>1인 가구수(세대)</th>\n",
       "      <th>사업체수</th>\n",
       "      <th>상가 면적</th>\n",
       "      <th>일평균(원)</th>\n",
       "    </tr>\n",
       "  </thead>\n",
       "  <tbody>\n",
       "    <tr>\n",
       "      <th>거주자수</th>\n",
       "      <td>1.000000</td>\n",
       "      <td>0.177225</td>\n",
       "      <td>0.041797</td>\n",
       "      <td>0.278248</td>\n",
       "      <td>0.071730</td>\n",
       "      <td>0.199948</td>\n",
       "    </tr>\n",
       "    <tr>\n",
       "      <th>일평균승하차(명)</th>\n",
       "      <td>0.177225</td>\n",
       "      <td>1.000000</td>\n",
       "      <td>0.033473</td>\n",
       "      <td>0.355560</td>\n",
       "      <td>0.300601</td>\n",
       "      <td>0.919696</td>\n",
       "    </tr>\n",
       "    <tr>\n",
       "      <th>1인 가구수(세대)</th>\n",
       "      <td>0.041797</td>\n",
       "      <td>0.033473</td>\n",
       "      <td>1.000000</td>\n",
       "      <td>-0.011647</td>\n",
       "      <td>-0.032205</td>\n",
       "      <td>0.036853</td>\n",
       "    </tr>\n",
       "    <tr>\n",
       "      <th>사업체수</th>\n",
       "      <td>0.278248</td>\n",
       "      <td>0.355560</td>\n",
       "      <td>-0.011647</td>\n",
       "      <td>1.000000</td>\n",
       "      <td>0.234948</td>\n",
       "      <td>0.420679</td>\n",
       "    </tr>\n",
       "    <tr>\n",
       "      <th>상가 면적</th>\n",
       "      <td>0.071730</td>\n",
       "      <td>0.300601</td>\n",
       "      <td>-0.032205</td>\n",
       "      <td>0.234948</td>\n",
       "      <td>1.000000</td>\n",
       "      <td>0.238792</td>\n",
       "    </tr>\n",
       "    <tr>\n",
       "      <th>일평균(원)</th>\n",
       "      <td>0.199948</td>\n",
       "      <td>0.919696</td>\n",
       "      <td>0.036853</td>\n",
       "      <td>0.420679</td>\n",
       "      <td>0.238792</td>\n",
       "      <td>1.000000</td>\n",
       "    </tr>\n",
       "  </tbody>\n",
       "</table>\n",
       "</div>"
      ],
      "text/plain": [
       "                거주자수  일평균승하차(명)  1인 가구수(세대)      사업체수     상가 면적    일평균(원)\n",
       "거주자수        1.000000   0.177225    0.041797  0.278248  0.071730  0.199948\n",
       "일평균승하차(명)   0.177225   1.000000    0.033473  0.355560  0.300601  0.919696\n",
       "1인 가구수(세대)  0.041797   0.033473    1.000000 -0.011647 -0.032205  0.036853\n",
       "사업체수        0.278248   0.355560   -0.011647  1.000000  0.234948  0.420679\n",
       "상가 면적       0.071730   0.300601   -0.032205  0.234948  1.000000  0.238792\n",
       "일평균(원)      0.199948   0.919696    0.036853  0.420679  0.238792  1.000000"
      ]
     },
     "execution_count": 14,
     "metadata": {},
     "output_type": "execute_result"
    }
   ],
   "source": [
    "df_dr_corr = df.corr()\n",
    "df_dr_corr"
   ]
  },
  {
   "cell_type": "code",
   "execution_count": 15,
   "metadata": {},
   "outputs": [
    {
     "data": {
      "image/png": "[encoded data removed]",
      "text/plain": [
       "<Figure size 720x720 with 2 Axes>"
      ]
     },
     "metadata": {
      "needs_background": "light"
     },
     "output_type": "display_data"
    }
   ],
   "source": [
    "plt.figure(figsize=(10,10))\n",
    "color_map = plt.cm.RdBu\n",
    "\n",
    "sns.heatmap(df_dr_corr, annot=True, fmt='.5f', linewidths=0.1, cmap=color_map)\n",
    "plt.show()"
   ]
  },
  {
   "cell_type": "markdown",
   "metadata": {},
   "source": [
    "## 데이터 표준화(Standard)"
   ]
  },
  {
   "cell_type": "code",
   "execution_count": 122,
   "metadata": {},
   "outputs": [
    {
     "name": "stderr",
     "output_type": "stream",
     "text": [
      "c:\\Users\\admin\\AppData\\Local\\Programs\\Python\\Python310\\lib\\site-packages\\numpy\\core\\fromnumeric.py:3430: FutureWarning: Dropping of nuisance columns in DataFrame reductions (with 'numeric_only=None') is deprecated; in a future version this will raise TypeError.  Select only valid columns before calling the reduction.\n",
      "  return mean(axis=axis, dtype=dtype, out=out, **kwargs)\n",
      "c:\\Users\\admin\\AppData\\Local\\Programs\\Python\\Python310\\lib\\site-packages\\numpy\\core\\fromnumeric.py:3571: FutureWarning: Dropping of nuisance columns in DataFrame reductions (with 'numeric_only=None') is deprecated; in a future version this will raise TypeError.  Select only valid columns before calling the reduction.\n",
      "  return std(axis=axis, dtype=dtype, out=out, ddof=ddof, **kwargs)\n"
     ]
    },
    {
     "data": {
      "text/html": [
       "<div>\n",
       "<style scoped>\n",
       "    .dataframe tbody tr th:only-of-type {\n",
       "        vertical-align: middle;\n",
       "    }\n",
       "\n",
       "    .dataframe tbody tr th {\n",
       "        vertical-align: top;\n",
       "    }\n",
       "\n",
       "    .dataframe thead th {\n",
       "        text-align: right;\n",
       "    }\n",
       "</style>\n",
       "<table border=\"1\" class=\"dataframe\">\n",
       "  <thead>\n",
       "    <tr style=\"text-align: right;\">\n",
       "      <th></th>\n",
       "      <th>1인 가구수(세대)</th>\n",
       "      <th>거주자수</th>\n",
       "      <th>사업체수</th>\n",
       "      <th>상가 면적</th>\n",
       "      <th>역사명</th>\n",
       "      <th>일평균(원)</th>\n",
       "      <th>일평균승하차(명)</th>\n",
       "    </tr>\n",
       "  </thead>\n",
       "  <tbody>\n",
       "    <tr>\n",
       "      <th>0</th>\n",
       "      <td>1.733581</td>\n",
       "      <td>0.339065</td>\n",
       "      <td>-0.241846</td>\n",
       "      <td>-0.487547</td>\n",
       "      <td>NaN</td>\n",
       "      <td>-0.668974</td>\n",
       "      <td>-0.765385</td>\n",
       "    </tr>\n",
       "    <tr>\n",
       "      <th>1</th>\n",
       "      <td>1.191488</td>\n",
       "      <td>-0.784368</td>\n",
       "      <td>-0.144670</td>\n",
       "      <td>-0.490985</td>\n",
       "      <td>NaN</td>\n",
       "      <td>-0.543833</td>\n",
       "      <td>-0.731520</td>\n",
       "    </tr>\n",
       "    <tr>\n",
       "      <th>2</th>\n",
       "      <td>0.648742</td>\n",
       "      <td>-1.758850</td>\n",
       "      <td>0.486972</td>\n",
       "      <td>-0.525371</td>\n",
       "      <td>NaN</td>\n",
       "      <td>-0.647801</td>\n",
       "      <td>-0.935587</td>\n",
       "    </tr>\n",
       "    <tr>\n",
       "      <th>3</th>\n",
       "      <td>-0.741760</td>\n",
       "      <td>0.517661</td>\n",
       "      <td>-0.399757</td>\n",
       "      <td>-0.398146</td>\n",
       "      <td>NaN</td>\n",
       "      <td>-0.095497</td>\n",
       "      <td>0.094641</td>\n",
       "    </tr>\n",
       "    <tr>\n",
       "      <th>4</th>\n",
       "      <td>-0.355110</td>\n",
       "      <td>0.537243</td>\n",
       "      <td>0.547707</td>\n",
       "      <td>-0.470354</td>\n",
       "      <td>NaN</td>\n",
       "      <td>-0.427862</td>\n",
       "      <td>-0.353403</td>\n",
       "    </tr>\n",
       "    <tr>\n",
       "      <th>...</th>\n",
       "      <td>...</td>\n",
       "      <td>...</td>\n",
       "      <td>...</td>\n",
       "      <td>...</td>\n",
       "      <td>...</td>\n",
       "      <td>...</td>\n",
       "      <td>...</td>\n",
       "    </tr>\n",
       "    <tr>\n",
       "      <th>95</th>\n",
       "      <td>-1.166290</td>\n",
       "      <td>-0.303065</td>\n",
       "      <td>-0.411904</td>\n",
       "      <td>-0.490985</td>\n",
       "      <td>NaN</td>\n",
       "      <td>-0.835193</td>\n",
       "      <td>-0.809475</td>\n",
       "    </tr>\n",
       "    <tr>\n",
       "      <th>96</th>\n",
       "      <td>-0.997131</td>\n",
       "      <td>0.671327</td>\n",
       "      <td>-0.752019</td>\n",
       "      <td>-0.267482</td>\n",
       "      <td>NaN</td>\n",
       "      <td>0.168569</td>\n",
       "      <td>0.119380</td>\n",
       "    </tr>\n",
       "    <tr>\n",
       "      <th>97</th>\n",
       "      <td>0.507667</td>\n",
       "      <td>-0.006342</td>\n",
       "      <td>-0.399757</td>\n",
       "      <td>0.045423</td>\n",
       "      <td>NaN</td>\n",
       "      <td>1.197545</td>\n",
       "      <td>1.794353</td>\n",
       "    </tr>\n",
       "    <tr>\n",
       "      <th>98</th>\n",
       "      <td>0.939382</td>\n",
       "      <td>0.267445</td>\n",
       "      <td>0.134710</td>\n",
       "      <td>-0.322498</td>\n",
       "      <td>NaN</td>\n",
       "      <td>0.749317</td>\n",
       "      <td>0.663411</td>\n",
       "    </tr>\n",
       "    <tr>\n",
       "      <th>99</th>\n",
       "      <td>1.371097</td>\n",
       "      <td>2.177971</td>\n",
       "      <td>-0.035348</td>\n",
       "      <td>-0.363760</td>\n",
       "      <td>NaN</td>\n",
       "      <td>0.327808</td>\n",
       "      <td>0.417893</td>\n",
       "    </tr>\n",
       "  </tbody>\n",
       "</table>\n",
       "<p>100 rows × 7 columns</p>\n",
       "</div>"
      ],
      "text/plain": [
       "    1인 가구수(세대)      거주자수      사업체수     상가 면적  역사명    일평균(원)  일평균승하차(명)\n",
       "0     1.733581  0.339065 -0.241846 -0.487547  NaN -0.668974  -0.765385\n",
       "1     1.191488 -0.784368 -0.144670 -0.490985  NaN -0.543833  -0.731520\n",
       "2     0.648742 -1.758850  0.486972 -0.525371  NaN -0.647801  -0.935587\n",
       "3    -0.741760  0.517661 -0.399757 -0.398146  NaN -0.095497   0.094641\n",
       "4    -0.355110  0.537243  0.547707 -0.470354  NaN -0.427862  -0.353403\n",
       "..         ...       ...       ...       ...  ...       ...        ...\n",
       "95   -1.166290 -0.303065 -0.411904 -0.490985  NaN -0.835193  -0.809475\n",
       "96   -0.997131  0.671327 -0.752019 -0.267482  NaN  0.168569   0.119380\n",
       "97    0.507667 -0.006342 -0.399757  0.045423  NaN  1.197545   1.794353\n",
       "98    0.939382  0.267445  0.134710 -0.322498  NaN  0.749317   0.663411\n",
       "99    1.371097  2.177971 -0.035348 -0.363760  NaN  0.327808   0.417893\n",
       "\n",
       "[100 rows x 7 columns]"
      ]
     },
     "execution_count": 122,
     "metadata": {},
     "output_type": "execute_result"
    }
   ],
   "source": [
    "# Numpy 를 이용한 표준화 : z = (x - mean())/std()\n",
    "df_standard = (df - np.mean(df, axis=0)) / np.std(df, axis=0)\n",
    "df_standard"
   ]
  },
  {
   "cell_type": "markdown",
   "metadata": {},
   "source": [
    "## 데이터 정규화(MinMaxScaler)"
   ]
  },
  {
   "cell_type": "code",
   "execution_count": 137,
   "metadata": {},
   "outputs": [],
   "source": [
    "from sklearn.preprocessing import MinMaxScaler"
   ]
  },
  {
   "cell_type": "code",
   "execution_count": 138,
   "metadata": {},
   "outputs": [
    {
     "name": "stderr",
     "output_type": "stream",
     "text": [
      "C:\\Users\\admin\\AppData\\Local\\Temp\\ipykernel_8976\\963618318.py:1: SettingWithCopyWarning: \n",
      "A value is trying to be set on a copy of a slice from a DataFrame\n",
      "\n",
      "See the caveats in the documentation: https://pandas.pydata.org/pandas-docs/stable/user_guide/indexing.html#returning-a-view-versus-a-copy\n",
      "  df.drop([\"역사명\"],axis=1,inplace=True)\n"
     ]
    }
   ],
   "source": [
    "df.drop([\"역사명\"],axis=1,inplace=True)"
   ]
  },
  {
   "cell_type": "code",
   "execution_count": 139,
   "metadata": {},
   "outputs": [
    {
     "data": {
      "text/html": [
       "<style>#sk-container-id-17 {color: black;background-color: white;}#sk-container-id-17 pre{padding: 0;}#sk-container-id-17 div.sk-toggleable {background-color: white;}#sk-container-id-17 label.sk-toggleable__label {cursor: pointer;display: block;width: 100%;margin-bottom: 0;padding: 0.3em;box-sizing: border-box;text-align: center;}#sk-container-id-17 label.sk-toggleable__label-arrow:before {content: \"▸\";float: left;margin-right: 0.25em;color: #696969;}#sk-container-id-17 label.sk-toggleable__label-arrow:hover:before {color: black;}#sk-container-id-17 div.sk-estimator:hover label.sk-toggleable__label-arrow:before {color: black;}#sk-container-id-17 div.sk-toggleable__content {max-height: 0;max-width: 0;overflow: hidden;text-align: left;background-color: #f0f8ff;}#sk-container-id-17 div.sk-toggleable__content pre {margin: 0.2em;color: black;border-radius: 0.25em;background-color: #f0f8ff;}#sk-container-id-17 input.sk-toggleable__control:checked~div.sk-toggleable__content {max-height: 200px;max-width: 100%;overflow: auto;}#sk-container-id-17 input.sk-toggleable__control:checked~label.sk-toggleable__label-arrow:before {content: \"▾\";}#sk-container-id-17 div.sk-estimator input.sk-toggleable__control:checked~label.sk-toggleable__label {background-color: #d4ebff;}#sk-container-id-17 div.sk-label input.sk-toggleable__control:checked~label.sk-toggleable__label {background-color: #d4ebff;}#sk-container-id-17 input.sk-hidden--visually {border: 0;clip: rect(1px 1px 1px 1px);clip: rect(1px, 1px, 1px, 1px);height: 1px;margin: -1px;overflow: hidden;padding: 0;position: absolute;width: 1px;}#sk-container-id-17 div.sk-estimator {font-family: monospace;background-color: #f0f8ff;border: 1px dotted black;border-radius: 0.25em;box-sizing: border-box;margin-bottom: 0.5em;}#sk-container-id-17 div.sk-estimator:hover {background-color: #d4ebff;}#sk-container-id-17 div.sk-parallel-item::after {content: \"\";width: 100%;border-bottom: 1px solid gray;flex-grow: 1;}#sk-container-id-17 div.sk-label:hover label.sk-toggleable__label {background-color: #d4ebff;}#sk-container-id-17 div.sk-serial::before {content: \"\";position: absolute;border-left: 1px solid gray;box-sizing: border-box;top: 0;bottom: 0;left: 50%;z-index: 0;}#sk-container-id-17 div.sk-serial {display: flex;flex-direction: column;align-items: center;background-color: white;padding-right: 0.2em;padding-left: 0.2em;position: relative;}#sk-container-id-17 div.sk-item {position: relative;z-index: 1;}#sk-container-id-17 div.sk-parallel {display: flex;align-items: stretch;justify-content: center;background-color: white;position: relative;}#sk-container-id-17 div.sk-item::before, #sk-container-id-17 div.sk-parallel-item::before {content: \"\";position: absolute;border-left: 1px solid gray;box-sizing: border-box;top: 0;bottom: 0;left: 50%;z-index: -1;}#sk-container-id-17 div.sk-parallel-item {display: flex;flex-direction: column;z-index: 1;position: relative;background-color: white;}#sk-container-id-17 div.sk-parallel-item:first-child::after {align-self: flex-end;width: 50%;}#sk-container-id-17 div.sk-parallel-item:last-child::after {align-self: flex-start;width: 50%;}#sk-container-id-17 div.sk-parallel-item:only-child::after {width: 0;}#sk-container-id-17 div.sk-dashed-wrapped {border: 1px dashed gray;margin: 0 0.4em 0.5em 0.4em;box-sizing: border-box;padding-bottom: 0.4em;background-color: white;}#sk-container-id-17 div.sk-label label {font-family: monospace;font-weight: bold;display: inline-block;line-height: 1.2em;}#sk-container-id-17 div.sk-label-container {text-align: center;}#sk-container-id-17 div.sk-container {/* jupyter's `normalize.less` sets `[hidden] { display: none; }` but bootstrap.min.css set `[hidden] { display: none !important; }` so we also need the `!important` here to be able to override the default hidden behavior on the sphinx rendered scikit-learn.org. See: https://github.com/scikit-learn/scikit-learn/issues/21755 */display: inline-block !important;position: relative;}#sk-container-id-17 div.sk-text-repr-fallback {display: none;}</style><div id=\"sk-container-id-17\" class=\"sk-top-container\"><div class=\"sk-text-repr-fallback\"><pre>MinMaxScaler()</pre><b>In a Jupyter environment, please rerun this cell to show the HTML representation or trust the notebook. <br />On GitHub, the HTML representation is unable to render, please try loading this page with nbviewer.org.</b></div><div class=\"sk-container\" hidden><div class=\"sk-item\"><div class=\"sk-estimator sk-toggleable\"><input class=\"sk-toggleable__control sk-hidden--visually\" id=\"sk-estimator-id-17\" type=\"checkbox\" checked><label for=\"sk-estimator-id-17\" class=\"sk-toggleable__label sk-toggleable__label-arrow\">MinMaxScaler</label><div class=\"sk-toggleable__content\"><pre>MinMaxScaler()</pre></div></div></div></div></div>"
      ],
      "text/plain": [
       "MinMaxScaler()"
      ]
     },
     "execution_count": 139,
     "metadata": {},
     "output_type": "execute_result"
    }
   ],
   "source": [
    "scaler = MinMaxScaler()\n",
    "scaler.fit(df)"
   ]
  },
  {
   "cell_type": "code",
   "execution_count": 140,
   "metadata": {},
   "outputs": [
    {
     "data": {
      "text/plain": [
       "array([[0.50299325, 0.09486778, 0.77994171, 0.10061602, 0.00622524,\n",
       "        0.04680149],\n",
       "       [0.24177909, 0.10022617, 0.6699788 , 0.11704312, 0.00565931,\n",
       "        0.06229773],\n",
       "       [0.01519815, 0.06793667, 0.55988341, 0.2238193 , 0.        ,\n",
       "        0.04942335],\n",
       "       [0.54451939, 0.2309499 , 0.27782194, 0.07392197, 0.02093945,\n",
       "        0.1178152 ],\n",
       "       [0.54907251, 0.16005567, 0.35625331, 0.23408624, 0.0090549 ,\n",
       "        0.07665846],\n",
       "       [0.66327993, 0.418389  , 0.43587705, 0.17043121, 0.        ,\n",
       "        0.26101673],\n",
       "       [0.49112563, 0.28453375, 0.26762056, 0.22176591, 0.54895303,\n",
       "        0.17419137],\n",
       "       [0.87017285, 0.25965553, 0.58704293, 0.0862423 , 0.04923599,\n",
       "        0.12764221],\n",
       "       [0.17141653, 0.3861865 , 0.44475358, 0.        , 0.03225806,\n",
       "        0.1671509 ],\n",
       "       [0.23115514, 0.11612735, 0.21528882, 0.03285421, 0.00679117,\n",
       "        0.07026691],\n",
       "       [0.29854553, 0.0841858 , 0.34856916, 0.06570842, 0.00679117,\n",
       "        0.04030508],\n",
       "       [0.71500843, 0.26985038, 0.31399046, 0.13552361, 0.05149972,\n",
       "        0.17420827],\n",
       "       [0.12023609, 0.09018789, 0.17607313, 0.11088296, 0.01980758,\n",
       "        0.10162994],\n",
       "       [0.05881113, 0.1374739 , 0.17859036, 0.        , 0.00565931,\n",
       "        0.03134738],\n",
       "       [0.23026981, 0.06149965, 0.32101219, 0.02669405, 0.00622524,\n",
       "        0.12358384],\n",
       "       [0.46532462, 0.19354558, 0.17024377, 0.20944559, 0.46236559,\n",
       "        0.02263366],\n",
       "       [0.1413575 , 0.04723382, 0.        , 0.06365503, 0.        ,\n",
       "        0.01568618],\n",
       "       [0.55377319, 0.15365344, 0.195416  , 0.03696099, 0.01810979,\n",
       "        0.10246109],\n",
       "       [0.58764755, 0.13343772, 0.21754107, 0.12320329, 0.00792303,\n",
       "        0.07396039],\n",
       "       [0.37278668, 0.17084203, 0.15593535, 0.12320329, 0.0073571 ,\n",
       "        0.10091412],\n",
       "       [0.        , 0.49505915, 0.17991521, 0.02464066, 0.        ,\n",
       "        0.23432368],\n",
       "       [0.24919899, 0.1388483 , 0.32578166, 0.02258727, 0.01358234,\n",
       "        0.07419405],\n",
       "       [0.44321248, 0.1598643 , 0.36433492, 0.05338809, 0.0237691 ,\n",
       "        0.11166307],\n",
       "       [0.07384064, 0.33096729, 0.69210387, 0.01232033, 0.05942275,\n",
       "        0.17289455],\n",
       "       [0.64576307, 0.10220946, 0.84300477, 0.04517454, 0.04301075,\n",
       "        0.05030903],\n",
       "       [0.36800169, 0.12900139, 0.6363275 , 0.02258727, 0.03848331,\n",
       "        0.06320521],\n",
       "       [0.51384907, 0.18411621, 0.38553259, 0.01437372, 0.01584607,\n",
       "        0.08731579],\n",
       "       [0.49066189, 0.26529228, 0.58028617, 0.34086242, 0.1114884 ,\n",
       "        0.15967492],\n",
       "       [0.01519815, 0.20925539, 0.35015898, 0.2238193 , 0.00962083,\n",
       "        0.09078323],\n",
       "       [0.42447302, 0.10340988, 0.48807631, 0.07392197, 0.00509338,\n",
       "        0.05747304],\n",
       "       [0.12023609, 0.1763222 , 0.57193959, 0.13347023, 0.        ,\n",
       "        0.21568122],\n",
       "       [0.28174536, 0.10847251, 0.56319555, 0.03285421, 0.0090549 ,\n",
       "        0.06461452],\n",
       "       [0.38876476, 0.17834029, 0.44329624, 0.02053388, 0.00962083,\n",
       "        0.0905536 ],\n",
       "       [0.67620152, 0.49093598, 0.50900901, 0.24229979, 0.42218449,\n",
       "        0.25879716],\n",
       "       [0.31587268, 0.10842032, 0.35492846, 0.        , 0.01075269,\n",
       "        0.06398677],\n",
       "       [0.79192664, 0.19065762, 0.45005299, 0.10677618, 0.04980192,\n",
       "        0.1261839 ],\n",
       "       [0.12892074, 0.06913709, 0.8027292 , 0.02464066, 0.01018676,\n",
       "        0.03071772],\n",
       "       [0.23026981, 0.03794363, 0.16573927, 0.02669405, 0.00792303,\n",
       "        0.01938175],\n",
       "       [0.53357926, 0.1658142 , 0.16573927, 0.05338809, 0.02546689,\n",
       "        0.08255079],\n",
       "       [0.30931703, 0.19610299, 0.50264971, 0.06776181, 0.01584607,\n",
       "        0.12935197],\n",
       "       [0.89009275, 0.16918928, 0.37122417, 0.11704312, 0.00622524,\n",
       "        0.08017394],\n",
       "       [0.4626054 , 0.13013222, 0.57790143, 0.27310062, 0.00962083,\n",
       "        0.05979848],\n",
       "       [0.38994519, 0.26697982, 0.43322734, 0.14168378, 0.04527448,\n",
       "        0.17164492],\n",
       "       [0.57934233, 0.08369868, 0.33293588, 0.11704312, 0.00622524,\n",
       "        0.03302655],\n",
       "       [0.39331788, 0.05358386, 0.33293588, 0.06570842, 0.00339559,\n",
       "        0.03891531],\n",
       "       [0.26024452, 0.12557411, 0.57193959, 0.04928131, 0.00565931,\n",
       "        0.06137104],\n",
       "       [0.45297218, 0.13131524, 0.66388447, 0.34086242, 0.00792303,\n",
       "        0.06887414],\n",
       "       [0.23315767, 0.13912665, 0.65328564, 0.        , 0.0090549 ,\n",
       "        0.09219392],\n",
       "       [0.57371417, 0.10189631, 0.40249073, 1.        , 0.        ,\n",
       "        0.04971792],\n",
       "       [0.68463322, 0.26111691, 0.21197668, 0.37577002, 0.53876627,\n",
       "        0.15144953],\n",
       "       [0.66570405, 0.09624217, 0.97310546, 0.0698152 , 0.35087719,\n",
       "        0.05804679],\n",
       "       [0.80482715, 0.05901183, 0.57154213, 0.06160164, 0.0237691 ,\n",
       "        0.0130807 ],\n",
       "       [0.94226391, 0.12887961, 0.41626921, 0.73921971, 0.00509338,\n",
       "        0.05664591],\n",
       "       [0.35240304, 0.27794015, 0.20257022, 0.14579055, 0.02546689,\n",
       "        0.17899821],\n",
       "       [0.07384064, 0.21626653, 0.29928458, 0.01232033, 0.34748161,\n",
       "        0.1151541 ],\n",
       "       [0.25725126, 0.440762  , 0.35771065, 0.16837782, 0.        ,\n",
       "        0.21862042],\n",
       "       [0.29009275, 0.24262352, 0.85969793, 0.05338809, 0.03452179,\n",
       "        0.09882877],\n",
       "       [0.4330312 , 0.51696242, 0.39573397, 0.40657084, 0.07923033,\n",
       "        0.29634361],\n",
       "       [0.70482715, 0.41442241, 0.46833598, 0.14373717, 0.24561404,\n",
       "        0.35338224],\n",
       "       [0.32297639, 0.2177801 , 0.45614732, 0.10882957, 0.02207131,\n",
       "        0.12015052],\n",
       "       [0.78979764, 0.15946416, 0.39533651, 0.11498973, 0.0073571 ,\n",
       "        0.09058421],\n",
       "       [0.59226391, 0.48844816, 0.65646529, 0.26899384, 0.05715903,\n",
       "        0.19018527],\n",
       "       [0.44900927, 0.5782707 , 0.2118442 , 0.03696099, 0.11827957,\n",
       "        0.35699774],\n",
       "       [0.42923693, 0.18648225, 0.436407  , 0.21149897, 0.00792303,\n",
       "        0.11081566],\n",
       "       [0.22183811, 0.1164753 , 1.        , 0.03696099, 0.00962083,\n",
       "        0.06603193],\n",
       "       [0.28602445, 0.08578636, 0.21250662, 0.0164271 , 0.00452745,\n",
       "        0.04228667],\n",
       "       [0.72352445, 0.0644746 , 0.37851086, 0.10061602, 0.00679117,\n",
       "        0.0226461 ],\n",
       "       [0.81490304, 1.        , 0.53590355, 0.78028747, 0.07357102,\n",
       "        1.        ],\n",
       "       [0.1102656 , 0.        , 0.57114467, 0.01232033, 0.00565931,\n",
       "        0.        ],\n",
       "       [0.29009275, 0.49618998, 0.51073132, 0.05338809, 0.10073571,\n",
       "        0.36474566],\n",
       "       [0.440957  , 0.09681628, 0.43799682, 0.04106776, 0.03508772,\n",
       "        0.03160742],\n",
       "       [0.35307757, 0.41499652, 0.43799682, 0.41478439, 1.        ,\n",
       "        0.2512345 ],\n",
       "       [0.56277403, 0.15455811, 0.23569157, 0.09034908, 0.03395586,\n",
       "        0.0953454 ],\n",
       "       [0.27059444, 0.09491997, 0.23065713, 0.10061602, 0.00792303,\n",
       "        0.05113685],\n",
       "       [0.11104553, 0.40476688, 0.58598304, 0.23408624, 0.05432937,\n",
       "        0.25971021],\n",
       "       [0.63273609, 0.08723034, 0.95137785, 0.10677618, 0.04414261,\n",
       "        0.05050909],\n",
       "       [0.34152614, 0.1908142 , 0.95137785, 0.        , 0.16242218,\n",
       "        0.10754668],\n",
       "       [0.09612142, 0.3493215 , 0.54610493, 0.06365503, 0.06281834,\n",
       "        0.19652429],\n",
       "       [0.44959949, 0.51651009, 0.39957605, 0.70225873, 0.16185625,\n",
       "        0.39835686],\n",
       "       [0.26774874, 0.07741823, 0.49470058, 0.03696099, 0.00509338,\n",
       "        0.04198425],\n",
       "       [0.46663153, 0.41772791, 0.45429253, 0.15195072, 0.20769666,\n",
       "        0.21295633],\n",
       "       [0.59806071, 0.12298191, 0.23953365, 0.07186858, 0.        ,\n",
       "        0.06709548],\n",
       "       [0.27314503, 0.48096729, 0.46144674, 0.03901437, 0.33559706,\n",
       "        0.19221699],\n",
       "       [0.36321669, 0.089492  , 0.42461579, 0.09445585, 0.01358234,\n",
       "        0.05455126],\n",
       "       [1.        , 0.41866736, 0.28351881, 0.15195072, 0.04923599,\n",
       "        0.30349322],\n",
       "       [0.85997049, 0.30635003, 0.28577107, 0.19507187, 0.17430673,\n",
       "        0.18815763],\n",
       "       [0.41833895, 0.24836465, 0.37599364, 0.09856263, 0.65138653,\n",
       "        0.20074637],\n",
       "       [0.61140388, 0.14248434, 0.23198198, 0.07392197, 0.0090549 ,\n",
       "        0.08668007],\n",
       "       [0.26159359, 0.10267919, 0.23198198, 0.1026694 , 0.0073571 ,\n",
       "        0.06047745],\n",
       "       [0.55297218, 0.17964509, 0.23198198, 0.10677618, 0.02546689,\n",
       "        0.09368724],\n",
       "       [0.59064081, 0.19057063, 0.34578696, 0.18685832, 0.34069044,\n",
       "        0.13254897],\n",
       "       [0.16488196, 0.27402575, 0.37374139, 0.46817248, 0.44765139,\n",
       "        0.19283266],\n",
       "       [0.31049747, 0.07388657, 0.32935877, 0.        , 0.        ,\n",
       "        0.0376867 ],\n",
       "       [0.01519815, 0.01412665, 0.27331744, 0.2238193 , 0.01980758,\n",
       "        0.00851358],\n",
       "       [0.32961636, 0.1723556 , 0.23198198, 0.21355236, 0.29145444,\n",
       "        0.11677429],\n",
       "       [0.35368887, 0.08789144, 0.19170641, 0.07186858, 0.00565931,\n",
       "        0.0262185 ],\n",
       "       [0.58024874, 0.2348643 , 0.22602014, 0.01437372, 0.04244482,\n",
       "        0.15051454],\n",
       "       [0.42268128, 0.49989562, 0.53126656, 0.07392197, 0.09394454,\n",
       "        0.27793277],\n",
       "       [0.48634064, 0.32094642, 0.61883943, 0.16427105, 0.03338993,\n",
       "        0.22242858],\n",
       "       [0.93056492, 0.28209812, 0.70641229, 0.13552361, 0.02659875,\n",
       "        0.17023307]])"
      ]
     },
     "execution_count": 140,
     "metadata": {},
     "output_type": "execute_result"
    }
   ],
   "source": [
    "df_scaled = scaler.transform(df)\n",
    "df_scaled"
   ]
  },
  {
   "cell_type": "code",
   "execution_count": 141,
   "metadata": {},
   "outputs": [
    {
     "data": {
      "text/html": [
       "<div>\n",
       "<style scoped>\n",
       "    .dataframe tbody tr th:only-of-type {\n",
       "        vertical-align: middle;\n",
       "    }\n",
       "\n",
       "    .dataframe tbody tr th {\n",
       "        vertical-align: top;\n",
       "    }\n",
       "\n",
       "    .dataframe thead th {\n",
       "        text-align: right;\n",
       "    }\n",
       "</style>\n",
       "<table border=\"1\" class=\"dataframe\">\n",
       "  <thead>\n",
       "    <tr style=\"text-align: right;\">\n",
       "      <th></th>\n",
       "      <th>거주자수</th>\n",
       "      <th>일평균승하차(명)</th>\n",
       "      <th>1인 가구수(세대)</th>\n",
       "      <th>사업체수</th>\n",
       "      <th>상가 면적</th>\n",
       "      <th>일평균(원)</th>\n",
       "    </tr>\n",
       "  </thead>\n",
       "  <tbody>\n",
       "    <tr>\n",
       "      <th>0</th>\n",
       "      <td>0.502993</td>\n",
       "      <td>0.094868</td>\n",
       "      <td>0.779942</td>\n",
       "      <td>0.100616</td>\n",
       "      <td>0.006225</td>\n",
       "      <td>0.046801</td>\n",
       "    </tr>\n",
       "    <tr>\n",
       "      <th>1</th>\n",
       "      <td>0.241779</td>\n",
       "      <td>0.100226</td>\n",
       "      <td>0.669979</td>\n",
       "      <td>0.117043</td>\n",
       "      <td>0.005659</td>\n",
       "      <td>0.062298</td>\n",
       "    </tr>\n",
       "    <tr>\n",
       "      <th>2</th>\n",
       "      <td>0.015198</td>\n",
       "      <td>0.067937</td>\n",
       "      <td>0.559883</td>\n",
       "      <td>0.223819</td>\n",
       "      <td>0.000000</td>\n",
       "      <td>0.049423</td>\n",
       "    </tr>\n",
       "    <tr>\n",
       "      <th>3</th>\n",
       "      <td>0.544519</td>\n",
       "      <td>0.230950</td>\n",
       "      <td>0.277822</td>\n",
       "      <td>0.073922</td>\n",
       "      <td>0.020939</td>\n",
       "      <td>0.117815</td>\n",
       "    </tr>\n",
       "    <tr>\n",
       "      <th>4</th>\n",
       "      <td>0.549073</td>\n",
       "      <td>0.160056</td>\n",
       "      <td>0.356253</td>\n",
       "      <td>0.234086</td>\n",
       "      <td>0.009055</td>\n",
       "      <td>0.076658</td>\n",
       "    </tr>\n",
       "    <tr>\n",
       "      <th>...</th>\n",
       "      <td>...</td>\n",
       "      <td>...</td>\n",
       "      <td>...</td>\n",
       "      <td>...</td>\n",
       "      <td>...</td>\n",
       "      <td>...</td>\n",
       "    </tr>\n",
       "    <tr>\n",
       "      <th>95</th>\n",
       "      <td>0.353689</td>\n",
       "      <td>0.087891</td>\n",
       "      <td>0.191706</td>\n",
       "      <td>0.071869</td>\n",
       "      <td>0.005659</td>\n",
       "      <td>0.026219</td>\n",
       "    </tr>\n",
       "    <tr>\n",
       "      <th>96</th>\n",
       "      <td>0.580249</td>\n",
       "      <td>0.234864</td>\n",
       "      <td>0.226020</td>\n",
       "      <td>0.014374</td>\n",
       "      <td>0.042445</td>\n",
       "      <td>0.150515</td>\n",
       "    </tr>\n",
       "    <tr>\n",
       "      <th>97</th>\n",
       "      <td>0.422681</td>\n",
       "      <td>0.499896</td>\n",
       "      <td>0.531267</td>\n",
       "      <td>0.073922</td>\n",
       "      <td>0.093945</td>\n",
       "      <td>0.277933</td>\n",
       "    </tr>\n",
       "    <tr>\n",
       "      <th>98</th>\n",
       "      <td>0.486341</td>\n",
       "      <td>0.320946</td>\n",
       "      <td>0.618839</td>\n",
       "      <td>0.164271</td>\n",
       "      <td>0.033390</td>\n",
       "      <td>0.222429</td>\n",
       "    </tr>\n",
       "    <tr>\n",
       "      <th>99</th>\n",
       "      <td>0.930565</td>\n",
       "      <td>0.282098</td>\n",
       "      <td>0.706412</td>\n",
       "      <td>0.135524</td>\n",
       "      <td>0.026599</td>\n",
       "      <td>0.170233</td>\n",
       "    </tr>\n",
       "  </tbody>\n",
       "</table>\n",
       "<p>100 rows × 6 columns</p>\n",
       "</div>"
      ],
      "text/plain": [
       "        거주자수  일평균승하차(명)  1인 가구수(세대)      사업체수     상가 면적    일평균(원)\n",
       "0   0.502993   0.094868    0.779942  0.100616  0.006225  0.046801\n",
       "1   0.241779   0.100226    0.669979  0.117043  0.005659  0.062298\n",
       "2   0.015198   0.067937    0.559883  0.223819  0.000000  0.049423\n",
       "3   0.544519   0.230950    0.277822  0.073922  0.020939  0.117815\n",
       "4   0.549073   0.160056    0.356253  0.234086  0.009055  0.076658\n",
       "..       ...        ...         ...       ...       ...       ...\n",
       "95  0.353689   0.087891    0.191706  0.071869  0.005659  0.026219\n",
       "96  0.580249   0.234864    0.226020  0.014374  0.042445  0.150515\n",
       "97  0.422681   0.499896    0.531267  0.073922  0.093945  0.277933\n",
       "98  0.486341   0.320946    0.618839  0.164271  0.033390  0.222429\n",
       "99  0.930565   0.282098    0.706412  0.135524  0.026599  0.170233\n",
       "\n",
       "[100 rows x 6 columns]"
      ]
     },
     "execution_count": 141,
     "metadata": {},
     "output_type": "execute_result"
    }
   ],
   "source": [
    "minmaxscaled_df = pd.DataFrame(df_scaled, columns=df.columns)\n",
    "minmaxscaled_df"
   ]
  },
  {
   "cell_type": "code",
   "execution_count": 142,
   "metadata": {},
   "outputs": [
    {
     "name": "stdout",
     "output_type": "stream",
     "text": [
      "거주자수          1.0\n",
      "일평균승하차(명)     1.0\n",
      "1인 가구수(세대)    1.0\n",
      "사업체수          1.0\n",
      "상가 면적         1.0\n",
      "일평균(원)        1.0\n",
      "dtype: float64\n",
      "거주자수          0.0\n",
      "일평균승하차(명)     0.0\n",
      "1인 가구수(세대)    0.0\n",
      "사업체수          0.0\n",
      "상가 면적         0.0\n",
      "일평균(원)        0.0\n",
      "dtype: float64\n"
     ]
    }
   ],
   "source": [
    "print(minmaxscaled_df.max())\n",
    "print(minmaxscaled_df.min())"
   ]
  },
  {
   "cell_type": "markdown",
   "metadata": {},
   "source": [
    "## 회귀 분석"
   ]
  },
  {
   "cell_type": "markdown",
   "metadata": {},
   "source": [
    "### 모델 명세\n",
    "- 정규화 O \n",
    "\n",
    "- 릿지 회귀 모델 사용(alpha=0.01)\n",
    "\n",
    "- 인구수에 가중치를 준 데이터 사용\n",
    "    - 독립변수\n",
    "        - 일평균 승하차\n",
    "        - 사업체수\n",
    "        - 인구수(가중치)\n",
    "        - 전체 상가 면적(m2)\n",
    "    - 종속변수\n",
    "        - 일평균 수입(원) "
   ]
  },
  {
   "cell_type": "markdown",
   "metadata": {},
   "source": [
    "### 모델 불러오기"
   ]
  },
  {
   "cell_type": "code",
   "execution_count": 72,
   "metadata": {},
   "outputs": [],
   "source": [
    "import pickle"
   ]
  },
  {
   "cell_type": "code",
   "execution_count": 123,
   "metadata": {},
   "outputs": [
    {
     "data": {
      "text/html": [
       "<style>#sk-container-id-15 {color: black;background-color: white;}#sk-container-id-15 pre{padding: 0;}#sk-container-id-15 div.sk-toggleable {background-color: white;}#sk-container-id-15 label.sk-toggleable__label {cursor: pointer;display: block;width: 100%;margin-bottom: 0;padding: 0.3em;box-sizing: border-box;text-align: center;}#sk-container-id-15 label.sk-toggleable__label-arrow:before {content: \"▸\";float: left;margin-right: 0.25em;color: #696969;}#sk-container-id-15 label.sk-toggleable__label-arrow:hover:before {color: black;}#sk-container-id-15 div.sk-estimator:hover label.sk-toggleable__label-arrow:before {color: black;}#sk-container-id-15 div.sk-toggleable__content {max-height: 0;max-width: 0;overflow: hidden;text-align: left;background-color: #f0f8ff;}#sk-container-id-15 div.sk-toggleable__content pre {margin: 0.2em;color: black;border-radius: 0.25em;background-color: #f0f8ff;}#sk-container-id-15 input.sk-toggleable__control:checked~div.sk-toggleable__content {max-height: 200px;max-width: 100%;overflow: auto;}#sk-container-id-15 input.sk-toggleable__control:checked~label.sk-toggleable__label-arrow:before {content: \"▾\";}#sk-container-id-15 div.sk-estimator input.sk-toggleable__control:checked~label.sk-toggleable__label {background-color: #d4ebff;}#sk-container-id-15 div.sk-label input.sk-toggleable__control:checked~label.sk-toggleable__label {background-color: #d4ebff;}#sk-container-id-15 input.sk-hidden--visually {border: 0;clip: rect(1px 1px 1px 1px);clip: rect(1px, 1px, 1px, 1px);height: 1px;margin: -1px;overflow: hidden;padding: 0;position: absolute;width: 1px;}#sk-container-id-15 div.sk-estimator {font-family: monospace;background-color: #f0f8ff;border: 1px dotted black;border-radius: 0.25em;box-sizing: border-box;margin-bottom: 0.5em;}#sk-container-id-15 div.sk-estimator:hover {background-color: #d4ebff;}#sk-container-id-15 div.sk-parallel-item::after {content: \"\";width: 100%;border-bottom: 1px solid gray;flex-grow: 1;}#sk-container-id-15 div.sk-label:hover label.sk-toggleable__label {background-color: #d4ebff;}#sk-container-id-15 div.sk-serial::before {content: \"\";position: absolute;border-left: 1px solid gray;box-sizing: border-box;top: 0;bottom: 0;left: 50%;z-index: 0;}#sk-container-id-15 div.sk-serial {display: flex;flex-direction: column;align-items: center;background-color: white;padding-right: 0.2em;padding-left: 0.2em;position: relative;}#sk-container-id-15 div.sk-item {position: relative;z-index: 1;}#sk-container-id-15 div.sk-parallel {display: flex;align-items: stretch;justify-content: center;background-color: white;position: relative;}#sk-container-id-15 div.sk-item::before, #sk-container-id-15 div.sk-parallel-item::before {content: \"\";position: absolute;border-left: 1px solid gray;box-sizing: border-box;top: 0;bottom: 0;left: 50%;z-index: -1;}#sk-container-id-15 div.sk-parallel-item {display: flex;flex-direction: column;z-index: 1;position: relative;background-color: white;}#sk-container-id-15 div.sk-parallel-item:first-child::after {align-self: flex-end;width: 50%;}#sk-container-id-15 div.sk-parallel-item:last-child::after {align-self: flex-start;width: 50%;}#sk-container-id-15 div.sk-parallel-item:only-child::after {width: 0;}#sk-container-id-15 div.sk-dashed-wrapped {border: 1px dashed gray;margin: 0 0.4em 0.5em 0.4em;box-sizing: border-box;padding-bottom: 0.4em;background-color: white;}#sk-container-id-15 div.sk-label label {font-family: monospace;font-weight: bold;display: inline-block;line-height: 1.2em;}#sk-container-id-15 div.sk-label-container {text-align: center;}#sk-container-id-15 div.sk-container {/* jupyter's `normalize.less` sets `[hidden] { display: none; }` but bootstrap.min.css set `[hidden] { display: none !important; }` so we also need the `!important` here to be able to override the default hidden behavior on the sphinx rendered scikit-learn.org. See: https://github.com/scikit-learn/scikit-learn/issues/21755 */display: inline-block !important;position: relative;}#sk-container-id-15 div.sk-text-repr-fallback {display: none;}</style><div id=\"sk-container-id-15\" class=\"sk-top-container\"><div class=\"sk-text-repr-fallback\"><pre>Ridge(alpha=0.01)</pre><b>In a Jupyter environment, please rerun this cell to show the HTML representation or trust the notebook. <br />On GitHub, the HTML representation is unable to render, please try loading this page with nbviewer.org.</b></div><div class=\"sk-container\" hidden><div class=\"sk-item\"><div class=\"sk-estimator sk-toggleable\"><input class=\"sk-toggleable__control sk-hidden--visually\" id=\"sk-estimator-id-15\" type=\"checkbox\" checked><label for=\"sk-estimator-id-15\" class=\"sk-toggleable__label sk-toggleable__label-arrow\">Ridge</label><div class=\"sk-toggleable__content\"><pre>Ridge(alpha=0.01)</pre></div></div></div></div></div>"
      ],
      "text/plain": [
       "Ridge(alpha=0.01)"
      ]
     },
     "execution_count": 123,
     "metadata": {},
     "output_type": "execute_result"
    }
   ],
   "source": [
    "# 릿지 회귀 모델(alpha=0.01) 불러오기\n",
    "loaded_model = pickle.load(open(\"./saved_ridge_model(alpha=0.01).sav\", 'rb'))\n",
    "loaded_model"
   ]
  },
  {
   "cell_type": "markdown",
   "metadata": {},
   "source": [
    "### 데이터 분할"
   ]
  },
  {
   "cell_type": "code",
   "execution_count": 90,
   "metadata": {},
   "outputs": [],
   "source": [
    "from sklearn.model_selection import train_test_split"
   ]
  },
  {
   "cell_type": "markdown",
   "metadata": {},
   "source": [
    "#### 기본"
   ]
  },
  {
   "cell_type": "code",
   "execution_count": 156,
   "metadata": {},
   "outputs": [],
   "source": [
    "# 기본\n",
    "x = df[[\"일평균승하차(명)\",\"1인 가구수(세대)\",\"사업체수\",\"상가 면적\"]]"
   ]
  },
  {
   "cell_type": "code",
   "execution_count": 157,
   "metadata": {},
   "outputs": [],
   "source": [
    "# 기본\n",
    "y = df[[\"일평균(원)\"]]"
   ]
  },
  {
   "cell_type": "code",
   "execution_count": 158,
   "metadata": {},
   "outputs": [],
   "source": [
    "# 기본_테스트 훈련 데이터 분할\n",
    "x_train, x_test, y_train, y_test = train_test_split(x,y, test_size=0.3, random_state=42)"
   ]
  },
  {
   "cell_type": "markdown",
   "metadata": {},
   "source": [
    "#### 표준화"
   ]
  },
  {
   "cell_type": "code",
   "execution_count": 124,
   "metadata": {},
   "outputs": [],
   "source": [
    "# 표준화\n",
    "standard_x = df_standard[[\"일평균승하차(명)\",\"1인 가구수(세대)\",\"사업체수\",\"상가 면적\"]]"
   ]
  },
  {
   "cell_type": "code",
   "execution_count": 125,
   "metadata": {},
   "outputs": [],
   "source": [
    "# 표준화\n",
    "standard_y = df_standard[[\"일평균(원)\"]]"
   ]
  },
  {
   "cell_type": "code",
   "execution_count": 126,
   "metadata": {},
   "outputs": [],
   "source": [
    "# 표준화_테스트 훈련 데이터 분할\n",
    "x_train, x_test, y_train, y_test = train_test_split(standard_x, standard_y, test_size=0.3, random_state=42)"
   ]
  },
  {
   "cell_type": "markdown",
   "metadata": {},
   "source": [
    "#### 정규화"
   ]
  },
  {
   "cell_type": "code",
   "execution_count": 143,
   "metadata": {},
   "outputs": [],
   "source": [
    "# 정규화\n",
    "minmaxscale_x = minmaxscaled_df[[\"일평균승하차(명)\",\"1인 가구수(세대)\",\"사업체수\",\"상가 면적\"]]"
   ]
  },
  {
   "cell_type": "code",
   "execution_count": 144,
   "metadata": {},
   "outputs": [],
   "source": [
    "# 정규화 \n",
    "minmaxscale_y = minmaxscaled_df[[\"일평균(원)\"]]"
   ]
  },
  {
   "cell_type": "code",
   "execution_count": 145,
   "metadata": {},
   "outputs": [],
   "source": [
    "# 정규화_테스트 훈련 데이터 분할\n",
    "x_train, x_test, y_train, y_test = train_test_split(minmaxscale_x, minmaxscale_y, test_size=0.3, random_state=42)"
   ]
  },
  {
   "cell_type": "markdown",
   "metadata": {},
   "source": [
    "### 훈련"
   ]
  },
  {
   "cell_type": "code",
   "execution_count": 159,
   "metadata": {},
   "outputs": [
    {
     "data": {
      "text/html": [
       "<style>#sk-container-id-19 {color: black;background-color: white;}#sk-container-id-19 pre{padding: 0;}#sk-container-id-19 div.sk-toggleable {background-color: white;}#sk-container-id-19 label.sk-toggleable__label {cursor: pointer;display: block;width: 100%;margin-bottom: 0;padding: 0.3em;box-sizing: border-box;text-align: center;}#sk-container-id-19 label.sk-toggleable__label-arrow:before {content: \"▸\";float: left;margin-right: 0.25em;color: #696969;}#sk-container-id-19 label.sk-toggleable__label-arrow:hover:before {color: black;}#sk-container-id-19 div.sk-estimator:hover label.sk-toggleable__label-arrow:before {color: black;}#sk-container-id-19 div.sk-toggleable__content {max-height: 0;max-width: 0;overflow: hidden;text-align: left;background-color: #f0f8ff;}#sk-container-id-19 div.sk-toggleable__content pre {margin: 0.2em;color: black;border-radius: 0.25em;background-color: #f0f8ff;}#sk-container-id-19 input.sk-toggleable__control:checked~div.sk-toggleable__content {max-height: 200px;max-width: 100%;overflow: auto;}#sk-container-id-19 input.sk-toggleable__control:checked~label.sk-toggleable__label-arrow:before {content: \"▾\";}#sk-container-id-19 div.sk-estimator input.sk-toggleable__control:checked~label.sk-toggleable__label {background-color: #d4ebff;}#sk-container-id-19 div.sk-label input.sk-toggleable__control:checked~label.sk-toggleable__label {background-color: #d4ebff;}#sk-container-id-19 input.sk-hidden--visually {border: 0;clip: rect(1px 1px 1px 1px);clip: rect(1px, 1px, 1px, 1px);height: 1px;margin: -1px;overflow: hidden;padding: 0;position: absolute;width: 1px;}#sk-container-id-19 div.sk-estimator {font-family: monospace;background-color: #f0f8ff;border: 1px dotted black;border-radius: 0.25em;box-sizing: border-box;margin-bottom: 0.5em;}#sk-container-id-19 div.sk-estimator:hover {background-color: #d4ebff;}#sk-container-id-19 div.sk-parallel-item::after {content: \"\";width: 100%;border-bottom: 1px solid gray;flex-grow: 1;}#sk-container-id-19 div.sk-label:hover label.sk-toggleable__label {background-color: #d4ebff;}#sk-container-id-19 div.sk-serial::before {content: \"\";position: absolute;border-left: 1px solid gray;box-sizing: border-box;top: 0;bottom: 0;left: 50%;z-index: 0;}#sk-container-id-19 div.sk-serial {display: flex;flex-direction: column;align-items: center;background-color: white;padding-right: 0.2em;padding-left: 0.2em;position: relative;}#sk-container-id-19 div.sk-item {position: relative;z-index: 1;}#sk-container-id-19 div.sk-parallel {display: flex;align-items: stretch;justify-content: center;background-color: white;position: relative;}#sk-container-id-19 div.sk-item::before, #sk-container-id-19 div.sk-parallel-item::before {content: \"\";position: absolute;border-left: 1px solid gray;box-sizing: border-box;top: 0;bottom: 0;left: 50%;z-index: -1;}#sk-container-id-19 div.sk-parallel-item {display: flex;flex-direction: column;z-index: 1;position: relative;background-color: white;}#sk-container-id-19 div.sk-parallel-item:first-child::after {align-self: flex-end;width: 50%;}#sk-container-id-19 div.sk-parallel-item:last-child::after {align-self: flex-start;width: 50%;}#sk-container-id-19 div.sk-parallel-item:only-child::after {width: 0;}#sk-container-id-19 div.sk-dashed-wrapped {border: 1px dashed gray;margin: 0 0.4em 0.5em 0.4em;box-sizing: border-box;padding-bottom: 0.4em;background-color: white;}#sk-container-id-19 div.sk-label label {font-family: monospace;font-weight: bold;display: inline-block;line-height: 1.2em;}#sk-container-id-19 div.sk-label-container {text-align: center;}#sk-container-id-19 div.sk-container {/* jupyter's `normalize.less` sets `[hidden] { display: none; }` but bootstrap.min.css set `[hidden] { display: none !important; }` so we also need the `!important` here to be able to override the default hidden behavior on the sphinx rendered scikit-learn.org. See: https://github.com/scikit-learn/scikit-learn/issues/21755 */display: inline-block !important;position: relative;}#sk-container-id-19 div.sk-text-repr-fallback {display: none;}</style><div id=\"sk-container-id-19\" class=\"sk-top-container\"><div class=\"sk-text-repr-fallback\"><pre>Ridge(alpha=0.01)</pre><b>In a Jupyter environment, please rerun this cell to show the HTML representation or trust the notebook. <br />On GitHub, the HTML representation is unable to render, please try loading this page with nbviewer.org.</b></div><div class=\"sk-container\" hidden><div class=\"sk-item\"><div class=\"sk-estimator sk-toggleable\"><input class=\"sk-toggleable__control sk-hidden--visually\" id=\"sk-estimator-id-19\" type=\"checkbox\" checked><label for=\"sk-estimator-id-19\" class=\"sk-toggleable__label sk-toggleable__label-arrow\">Ridge</label><div class=\"sk-toggleable__content\"><pre>Ridge(alpha=0.01)</pre></div></div></div></div></div>"
      ],
      "text/plain": [
       "Ridge(alpha=0.01)"
      ]
     },
     "execution_count": 159,
     "metadata": {},
     "output_type": "execute_result"
    }
   ],
   "source": [
    "ridge_loaded_model = loaded_model.fit(X=x_train, y=y_train)\n",
    "ridge_loaded_model"
   ]
  },
  {
   "cell_type": "code",
   "execution_count": 160,
   "metadata": {},
   "outputs": [
    {
     "data": {
      "text/plain": [
       "0.8718573580416444"
      ]
     },
     "execution_count": 160,
     "metadata": {},
     "output_type": "execute_result"
    }
   ],
   "source": [
    "# 훈련 정확도\n",
    "ridge_loaded_model.score(x_train, y_train)"
   ]
  },
  {
   "cell_type": "code",
   "execution_count": 161,
   "metadata": {},
   "outputs": [
    {
     "data": {
      "text/plain": [
       "0.740677825568131"
      ]
     },
     "execution_count": 161,
     "metadata": {},
     "output_type": "execute_result"
    }
   ],
   "source": [
    "ridge_loaded_model.score(x_test, y_test)"
   ]
  },
  {
   "cell_type": "code",
   "execution_count": 149,
   "metadata": {},
   "outputs": [],
   "source": [
    "from sklearn.linear_model import Ridge"
   ]
  },
  {
   "cell_type": "code",
   "execution_count": 162,
   "metadata": {},
   "outputs": [],
   "source": [
    "train_score = []\n",
    "test_score = []"
   ]
  },
  {
   "cell_type": "code",
   "execution_count": 163,
   "metadata": {},
   "outputs": [],
   "source": [
    "alpha_list = [0.001, 0.01, 0.1, 1, 10, 100]\n",
    "\n",
    "for alpha in alpha_list:  #여섯번 계산\n",
    "    ridge = Ridge(alpha=alpha) #알파값 변경하면서 생성(6번)\n",
    "    ridge.fit(X=x_train, y=y_train)\n",
    "\n",
    "    train_score.append(ridge.score(X=x_train, y=y_train))\n",
    "    test_score.append(ridge.score(X=x_test, y=y_test))"
   ]
  },
  {
   "cell_type": "markdown",
   "metadata": {},
   "source": [
    "#### 정확도 확인"
   ]
  },
  {
   "cell_type": "code",
   "execution_count": 164,
   "metadata": {},
   "outputs": [
    {
     "name": "stdout",
     "output_type": "stream",
     "text": [
      "[0.8718573580416444, 0.8718573580416444, 0.871857358041644, 0.8718573580416005, 0.8718573580372441, 0.8718573576017502]\n",
      "[0.7406778254960087, 0.740677825568131, 0.7406778262893515, 0.7406778335015199, 0.7406779056194824, 0.7406786264271467]\n"
     ]
    }
   ],
   "source": [
    "# 기본\n",
    "print(train_score)\n",
    "print(test_score)"
   ]
  },
  {
   "cell_type": "code",
   "execution_count": 133,
   "metadata": {},
   "outputs": [
    {
     "name": "stdout",
     "output_type": "stream",
     "text": [
      "[0.8718573579055254, 0.8718573444336524, 0.8718560011455743, 0.8717254733406153, 0.8616835026319466, 0.6399717862376499]\n",
      "[0.740682765553446, 0.7407272026724101, 0.7411692567215686, 0.745364322153813, 0.7697653632940452, 0.6313035238998883]\n"
     ]
    }
   ],
   "source": [
    "# 표준화 \n",
    "print(train_score)\n",
    "print(test_score)"
   ]
  },
  {
   "cell_type": "code",
   "execution_count": 152,
   "metadata": {},
   "outputs": [
    {
     "name": "stdout",
     "output_type": "stream",
     "text": [
      "[0.8718571400115493, 0.8718358022773353, 0.8699261285807431, 0.7868371190678424, 0.3222296135913496, 0.045660058300532325]\n",
      "[0.7408749224039636, 0.7426112583853687, 0.7566320992893549, 0.7482140884902981, 0.3039746606692558, -0.0021142056421612487]\n"
     ]
    }
   ],
   "source": [
    "# 정규화 \n",
    "print(train_score)\n",
    "print(test_score)"
   ]
  },
  {
   "cell_type": "markdown",
   "metadata": {},
   "source": [
    "### 예측"
   ]
  },
  {
   "cell_type": "code",
   "execution_count": 66,
   "metadata": {},
   "outputs": [
    {
     "name": "stderr",
     "output_type": "stream",
     "text": [
      "c:\\Users\\admin\\AppData\\Local\\Programs\\Python\\Python310\\lib\\site-packages\\sklearn\\base.py:493: FutureWarning: The feature names should match those that were passed during fit. Starting version 1.2, an error will be raised.\n",
      "Feature names unseen at fit time:\n",
      "- 1인 가구수(세대)\n",
      "- 상가 면적\n",
      "- 일평균승하차(명)\n",
      "Feature names seen at fit time, yet now missing:\n",
      "- 인구수(가중치)\n",
      "- 일평균승하차\n",
      "- 전체 상가 면적\n",
      "\n",
      "  warnings.warn(message, FutureWarning)\n"
     ]
    },
    {
     "data": {
      "text/plain": [
       "array([[0.26701819],\n",
       "       [0.3239788 ],\n",
       "       [0.27736258],\n",
       "       [0.25002763],\n",
       "       [0.11324446],\n",
       "       [0.3966503 ],\n",
       "       [0.17875112],\n",
       "       [0.12392268],\n",
       "       [0.27579045],\n",
       "       [0.02138507],\n",
       "       [0.22788233],\n",
       "       [0.19125016],\n",
       "       [0.36632162],\n",
       "       [0.11832646],\n",
       "       [0.37283806],\n",
       "       [0.15111547],\n",
       "       [0.1561395 ],\n",
       "       [0.31235573],\n",
       "       [0.39390534],\n",
       "       [0.13867444],\n",
       "       [0.37849948],\n",
       "       [0.23020343],\n",
       "       [0.15495148],\n",
       "       [0.15047384],\n",
       "       [0.37832699],\n",
       "       [0.44892484],\n",
       "       [0.25862043],\n",
       "       [0.44714004],\n",
       "       [0.34427149],\n",
       "       [0.18506779],\n",
       "       [0.46213126],\n",
       "       [0.42619643],\n",
       "       [0.22868603],\n",
       "       [0.17197599],\n",
       "       [0.42605029],\n",
       "       [0.76877933],\n",
       "       [0.33200348],\n",
       "       [0.2161335 ],\n",
       "       [0.52304008],\n",
       "       [0.47595538],\n",
       "       [0.22945215],\n",
       "       [0.29632473],\n",
       "       [0.40619697],\n",
       "       [0.23017969],\n",
       "       [0.41414839],\n",
       "       [0.44066192],\n",
       "       [0.41386896],\n",
       "       [0.26438552],\n",
       "       [0.18336955],\n",
       "       [0.2930972 ],\n",
       "       [0.27075895],\n",
       "       [0.33712357],\n",
       "       [0.0797825 ],\n",
       "       [0.24200894],\n",
       "       [0.31196209],\n",
       "       [0.24404951],\n",
       "       [0.1971406 ],\n",
       "       [0.25407082],\n",
       "       [0.44442433],\n",
       "       [0.16393268],\n",
       "       [0.30010686],\n",
       "       [0.44897075],\n",
       "       [0.27783792],\n",
       "       [0.43737871],\n",
       "       [0.33572893],\n",
       "       [0.23768238],\n",
       "       [0.40047456],\n",
       "       [0.15300995],\n",
       "       [0.16240499],\n",
       "       [0.24978934]])"
      ]
     },
     "execution_count": 66,
     "metadata": {},
     "output_type": "execute_result"
    }
   ],
   "source": [
    "# 바로 예측 시작\n",
    "my_predict = loaded_model.predict(x_train)\n",
    "my_predict"
   ]
  },
  {
   "cell_type": "code",
   "execution_count": 67,
   "metadata": {},
   "outputs": [
    {
     "name": "stderr",
     "output_type": "stream",
     "text": [
      "c:\\Users\\admin\\AppData\\Local\\Programs\\Python\\Python310\\lib\\site-packages\\sklearn\\base.py:493: FutureWarning: The feature names should match those that were passed during fit. Starting version 1.2, an error will be raised.\n",
      "Feature names unseen at fit time:\n",
      "- 1인 가구수(세대)\n",
      "- 상가 면적\n",
      "- 일평균승하차(명)\n",
      "Feature names seen at fit time, yet now missing:\n",
      "- 인구수(가중치)\n",
      "- 일평균승하차\n",
      "- 전체 상가 면적\n",
      "\n",
      "  warnings.warn(message, FutureWarning)\n"
     ]
    },
    {
     "data": {
      "text/plain": [
       "-3.2046314971261154"
      ]
     },
     "execution_count": 67,
     "metadata": {},
     "output_type": "execute_result"
    }
   ],
   "source": [
    "loaded_model.score(x_test, y_test)"
   ]
  },
  {
   "cell_type": "markdown",
   "metadata": {},
   "source": [
    "### 예측 시각화"
   ]
  },
  {
   "cell_type": "code",
   "execution_count": 68,
   "metadata": {},
   "outputs": [
    {
     "ename": "ValueError",
     "evalue": "x and y must be the same size",
     "output_type": "error",
     "traceback": [
      "\u001b[1;31m---------------------------------------------------------------------------\u001b[0m",
      "\u001b[1;31mValueError\u001b[0m                                Traceback (most recent call last)",
      "\u001b[1;32mc:\\localRepository\\Project-distribution\\analysis\\ridge_model_사용.ipynb 셀 45\u001b[0m in \u001b[0;36m<cell line: 2>\u001b[1;34m()\u001b[0m\n\u001b[0;32m      <a href='vscode-notebook-cell:/c%3A/localRepository/Project-distribution/analysis/ridge_model_%EC%82%AC%EC%9A%A9.ipynb#X61sZmlsZQ%3D%3D?line=0'>1</a>\u001b[0m plt\u001b[39m.\u001b[39mfigure(figsize\u001b[39m=\u001b[39m(\u001b[39m20\u001b[39m,\u001b[39m15\u001b[39m))\n\u001b[1;32m----> <a href='vscode-notebook-cell:/c%3A/localRepository/Project-distribution/analysis/ridge_model_%EC%82%AC%EC%9A%A9.ipynb#X61sZmlsZQ%3D%3D?line=1'>2</a>\u001b[0m plt\u001b[39m.\u001b[39;49mscatter(y_test, my_predict, alpha\u001b[39m=\u001b[39;49m\u001b[39m0.8\u001b[39;49m)\n\u001b[0;32m      <a href='vscode-notebook-cell:/c%3A/localRepository/Project-distribution/analysis/ridge_model_%EC%82%AC%EC%9A%A9.ipynb#X61sZmlsZQ%3D%3D?line=2'>3</a>\u001b[0m plt\u001b[39m.\u001b[39mxlabel(\u001b[39m\"\u001b[39m\u001b[39mActual Revenue\u001b[39m\u001b[39m\"\u001b[39m)\n\u001b[0;32m      <a href='vscode-notebook-cell:/c%3A/localRepository/Project-distribution/analysis/ridge_model_%EC%82%AC%EC%9A%A9.ipynb#X61sZmlsZQ%3D%3D?line=3'>4</a>\u001b[0m plt\u001b[39m.\u001b[39mylabel(\u001b[39m\"\u001b[39m\u001b[39mPredicted Revenue\u001b[39m\u001b[39m\"\u001b[39m)\n",
      "File \u001b[1;32mc:\\Users\\admin\\AppData\\Local\\Programs\\Python\\Python310\\lib\\site-packages\\matplotlib\\pyplot.py:2819\u001b[0m, in \u001b[0;36mscatter\u001b[1;34m(x, y, s, c, marker, cmap, norm, vmin, vmax, alpha, linewidths, edgecolors, plotnonfinite, data, **kwargs)\u001b[0m\n\u001b[0;32m   2814\u001b[0m \u001b[39m@_copy_docstring_and_deprecators\u001b[39m(Axes\u001b[39m.\u001b[39mscatter)\n\u001b[0;32m   2815\u001b[0m \u001b[39mdef\u001b[39;00m \u001b[39mscatter\u001b[39m(\n\u001b[0;32m   2816\u001b[0m         x, y, s\u001b[39m=\u001b[39m\u001b[39mNone\u001b[39;00m, c\u001b[39m=\u001b[39m\u001b[39mNone\u001b[39;00m, marker\u001b[39m=\u001b[39m\u001b[39mNone\u001b[39;00m, cmap\u001b[39m=\u001b[39m\u001b[39mNone\u001b[39;00m, norm\u001b[39m=\u001b[39m\u001b[39mNone\u001b[39;00m,\n\u001b[0;32m   2817\u001b[0m         vmin\u001b[39m=\u001b[39m\u001b[39mNone\u001b[39;00m, vmax\u001b[39m=\u001b[39m\u001b[39mNone\u001b[39;00m, alpha\u001b[39m=\u001b[39m\u001b[39mNone\u001b[39;00m, linewidths\u001b[39m=\u001b[39m\u001b[39mNone\u001b[39;00m, \u001b[39m*\u001b[39m,\n\u001b[0;32m   2818\u001b[0m         edgecolors\u001b[39m=\u001b[39m\u001b[39mNone\u001b[39;00m, plotnonfinite\u001b[39m=\u001b[39m\u001b[39mFalse\u001b[39;00m, data\u001b[39m=\u001b[39m\u001b[39mNone\u001b[39;00m, \u001b[39m*\u001b[39m\u001b[39m*\u001b[39mkwargs):\n\u001b[1;32m-> 2819\u001b[0m     __ret \u001b[39m=\u001b[39m gca()\u001b[39m.\u001b[39mscatter(\n\u001b[0;32m   2820\u001b[0m         x, y, s\u001b[39m=\u001b[39ms, c\u001b[39m=\u001b[39mc, marker\u001b[39m=\u001b[39mmarker, cmap\u001b[39m=\u001b[39mcmap, norm\u001b[39m=\u001b[39mnorm,\n\u001b[0;32m   2821\u001b[0m         vmin\u001b[39m=\u001b[39mvmin, vmax\u001b[39m=\u001b[39mvmax, alpha\u001b[39m=\u001b[39malpha, linewidths\u001b[39m=\u001b[39mlinewidths,\n\u001b[0;32m   2822\u001b[0m         edgecolors\u001b[39m=\u001b[39medgecolors, plotnonfinite\u001b[39m=\u001b[39mplotnonfinite,\n\u001b[0;32m   2823\u001b[0m         \u001b[39m*\u001b[39m\u001b[39m*\u001b[39m({\u001b[39m\"\u001b[39m\u001b[39mdata\u001b[39m\u001b[39m\"\u001b[39m: data} \u001b[39mif\u001b[39;00m data \u001b[39mis\u001b[39;00m \u001b[39mnot\u001b[39;00m \u001b[39mNone\u001b[39;00m \u001b[39melse\u001b[39;00m {}), \u001b[39m*\u001b[39m\u001b[39m*\u001b[39mkwargs)\n\u001b[0;32m   2824\u001b[0m     sci(__ret)\n\u001b[0;32m   2825\u001b[0m     \u001b[39mreturn\u001b[39;00m __ret\n",
      "File \u001b[1;32mc:\\Users\\admin\\AppData\\Local\\Programs\\Python\\Python310\\lib\\site-packages\\matplotlib\\__init__.py:1412\u001b[0m, in \u001b[0;36m_preprocess_data.<locals>.inner\u001b[1;34m(ax, data, *args, **kwargs)\u001b[0m\n\u001b[0;32m   1409\u001b[0m \u001b[39m@functools\u001b[39m\u001b[39m.\u001b[39mwraps(func)\n\u001b[0;32m   1410\u001b[0m \u001b[39mdef\u001b[39;00m \u001b[39minner\u001b[39m(ax, \u001b[39m*\u001b[39margs, data\u001b[39m=\u001b[39m\u001b[39mNone\u001b[39;00m, \u001b[39m*\u001b[39m\u001b[39m*\u001b[39mkwargs):\n\u001b[0;32m   1411\u001b[0m     \u001b[39mif\u001b[39;00m data \u001b[39mis\u001b[39;00m \u001b[39mNone\u001b[39;00m:\n\u001b[1;32m-> 1412\u001b[0m         \u001b[39mreturn\u001b[39;00m func(ax, \u001b[39m*\u001b[39m\u001b[39mmap\u001b[39m(sanitize_sequence, args), \u001b[39m*\u001b[39m\u001b[39m*\u001b[39mkwargs)\n\u001b[0;32m   1414\u001b[0m     bound \u001b[39m=\u001b[39m new_sig\u001b[39m.\u001b[39mbind(ax, \u001b[39m*\u001b[39margs, \u001b[39m*\u001b[39m\u001b[39m*\u001b[39mkwargs)\n\u001b[0;32m   1415\u001b[0m     auto_label \u001b[39m=\u001b[39m (bound\u001b[39m.\u001b[39marguments\u001b[39m.\u001b[39mget(label_namer)\n\u001b[0;32m   1416\u001b[0m                   \u001b[39mor\u001b[39;00m bound\u001b[39m.\u001b[39mkwargs\u001b[39m.\u001b[39mget(label_namer))\n",
      "File \u001b[1;32mc:\\Users\\admin\\AppData\\Local\\Programs\\Python\\Python310\\lib\\site-packages\\matplotlib\\axes\\_axes.py:4362\u001b[0m, in \u001b[0;36mAxes.scatter\u001b[1;34m(self, x, y, s, c, marker, cmap, norm, vmin, vmax, alpha, linewidths, edgecolors, plotnonfinite, **kwargs)\u001b[0m\n\u001b[0;32m   4360\u001b[0m y \u001b[39m=\u001b[39m np\u001b[39m.\u001b[39mma\u001b[39m.\u001b[39mravel(y)\n\u001b[0;32m   4361\u001b[0m \u001b[39mif\u001b[39;00m x\u001b[39m.\u001b[39msize \u001b[39m!=\u001b[39m y\u001b[39m.\u001b[39msize:\n\u001b[1;32m-> 4362\u001b[0m     \u001b[39mraise\u001b[39;00m \u001b[39mValueError\u001b[39;00m(\u001b[39m\"\u001b[39m\u001b[39mx and y must be the same size\u001b[39m\u001b[39m\"\u001b[39m)\n\u001b[0;32m   4364\u001b[0m \u001b[39mif\u001b[39;00m s \u001b[39mis\u001b[39;00m \u001b[39mNone\u001b[39;00m:\n\u001b[0;32m   4365\u001b[0m     s \u001b[39m=\u001b[39m (\u001b[39m20\u001b[39m \u001b[39mif\u001b[39;00m rcParams[\u001b[39m'\u001b[39m\u001b[39m_internal.classic_mode\u001b[39m\u001b[39m'\u001b[39m] \u001b[39melse\u001b[39;00m\n\u001b[0;32m   4366\u001b[0m          rcParams[\u001b[39m'\u001b[39m\u001b[39mlines.markersize\u001b[39m\u001b[39m'\u001b[39m] \u001b[39m*\u001b[39m\u001b[39m*\u001b[39m \u001b[39m2.0\u001b[39m)\n",
      "\u001b[1;31mValueError\u001b[0m: x and y must be the same size"
     ]
    },
    {
     "data": {
      "image/png": "[encoded data removed]",
      "text/plain": [
       "<Figure size 1440x1080 with 1 Axes>"
      ]
     },
     "metadata": {
      "needs_background": "light"
     },
     "output_type": "display_data"
    }
   ],
   "source": [
    "plt.figure(figsize=(20,15))\n",
    "plt.scatter(y_test, my_predict, alpha=0.8)\n",
    "plt.xlabel(\"Actual Revenue\")\n",
    "plt.ylabel(\"Predicted Revenue\")\n",
    "plt.title(\"MULTIPLE LINEAR REGRESSION\")\n",
    "plt.show()"
   ]
  },
  {
   "cell_type": "markdown",
   "metadata": {},
   "source": [
    "### 상관계수 확인"
   ]
  },
  {
   "cell_type": "code",
   "execution_count": 74,
   "metadata": {},
   "outputs": [
    {
     "name": "stdout",
     "output_type": "stream",
     "text": [
      "[[ 493.03546933    8.37913701 7013.3945221  -470.74240252]]\n"
     ]
    }
   ],
   "source": [
    "print(ridge_loaded_model.coef_)"
   ]
  },
  {
   "cell_type": "code",
   "execution_count": null,
   "metadata": {},
   "outputs": [],
   "source": []
  }
 ],
 "metadata": {
  "kernelspec": {
   "display_name": "Python 3.10.5 64-bit",
   "language": "python",
   "name": "python3"
  },
  "language_info": {
   "codemirror_mode": {
    "name": "ipython",
    "version": 3
   },
   "file_extension": ".py",
   "mimetype": "text/x-python",
   "name": "python",
   "nbconvert_exporter": "python",
   "pygments_lexer": "ipython3",
   "version": "3.10.5"
  },
  "orig_nbformat": 4,
  "vscode": {
   "interpreter": {
    "hash": "beedbe2faf2f7048d727558d0bc3221e7eba2a0b921cac4d4771b2feb8f74b30"
   }
  }
 },
 "nbformat": 4,
 "nbformat_minor": 2
}
