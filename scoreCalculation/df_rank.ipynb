{
 "cells": [
  {
   "cell_type": "code",
   "execution_count": 2,
   "metadata": {},
   "outputs": [],
   "source": [
    "import pandas as pd\n",
    "import os"
   ]
  },
  {
   "cell_type": "markdown",
   "metadata": {},
   "source": [
    "### 사용할 피일을 선택하기 위한 구문"
   ]
  },
  {
   "cell_type": "code",
   "execution_count": 6,
   "metadata": {},
   "outputs": [
    {
     "name": "stdout",
     "output_type": "stream",
     "text": [
      "['동별 데이터.xlsx', '부산상권정보.csv', '시간대별 승하차 인원 통합(2021_2022_08).csv', '역별 데이터.xlsx', '지하철 역사 내 상가 임대 정보.csv', '출퇴근시간 유동인구_2021.xlsx']\n"
     ]
    }
   ],
   "source": [
    "use_file = os.listdir('../data/total_data/')\n",
    "print(use_file)"
   ]
  },
  {
   "cell_type": "code",
   "execution_count": 29,
   "metadata": {},
   "outputs": [
    {
     "data": {
      "text/html": [
       "<div>\n",
       "<style scoped>\n",
       "    .dataframe tbody tr th:only-of-type {\n",
       "        vertical-align: middle;\n",
       "    }\n",
       "\n",
       "    .dataframe tbody tr th {\n",
       "        vertical-align: top;\n",
       "    }\n",
       "\n",
       "    .dataframe thead th {\n",
       "        text-align: right;\n",
       "    }\n",
       "</style>\n",
       "<table border=\"1\" class=\"dataframe\">\n",
       "  <thead>\n",
       "    <tr style=\"text-align: right;\">\n",
       "      <th></th>\n",
       "      <th>호선</th>\n",
       "      <th>역사명</th>\n",
       "      <th>환승</th>\n",
       "      <th>역위도</th>\n",
       "      <th>역경도</th>\n",
       "      <th>일평균승차</th>\n",
       "      <th>일평균하차</th>\n",
       "      <th>일평균승하차</th>\n",
       "      <th>순위</th>\n",
       "      <th>하행 대기시간</th>\n",
       "      <th>상행 대기시간</th>\n",
       "    </tr>\n",
       "  </thead>\n",
       "  <tbody>\n",
       "    <tr>\n",
       "      <th>0</th>\n",
       "      <td>1</td>\n",
       "      <td>다대포해수욕장역</td>\n",
       "      <td>NaN</td>\n",
       "      <td>35.048670</td>\n",
       "      <td>128.964100</td>\n",
       "      <td>4264.0</td>\n",
       "      <td>3497.0</td>\n",
       "      <td>7761.0</td>\n",
       "      <td>69.0</td>\n",
       "      <td>20.0</td>\n",
       "      <td>0.0</td>\n",
       "    </tr>\n",
       "    <tr>\n",
       "      <th>1</th>\n",
       "      <td>1</td>\n",
       "      <td>다대포항역</td>\n",
       "      <td>NaN</td>\n",
       "      <td>35.057820</td>\n",
       "      <td>128.971300</td>\n",
       "      <td>2900.0</td>\n",
       "      <td>3321.0</td>\n",
       "      <td>6221.0</td>\n",
       "      <td>80.0</td>\n",
       "      <td>20.0</td>\n",
       "      <td>20.0</td>\n",
       "    </tr>\n",
       "    <tr>\n",
       "      <th>2</th>\n",
       "      <td>1</td>\n",
       "      <td>낫개역</td>\n",
       "      <td>NaN</td>\n",
       "      <td>35.065265</td>\n",
       "      <td>128.979873</td>\n",
       "      <td>4104.0</td>\n",
       "      <td>4223.0</td>\n",
       "      <td>8327.0</td>\n",
       "      <td>64.0</td>\n",
       "      <td>20.0</td>\n",
       "      <td>20.0</td>\n",
       "    </tr>\n",
       "    <tr>\n",
       "      <th>3</th>\n",
       "      <td>1</td>\n",
       "      <td>신장림역</td>\n",
       "      <td>NaN</td>\n",
       "      <td>35.074433</td>\n",
       "      <td>128.977041</td>\n",
       "      <td>2777.0</td>\n",
       "      <td>2583.0</td>\n",
       "      <td>5360.0</td>\n",
       "      <td>91.0</td>\n",
       "      <td>20.0</td>\n",
       "      <td>20.0</td>\n",
       "    </tr>\n",
       "    <tr>\n",
       "      <th>4</th>\n",
       "      <td>1</td>\n",
       "      <td>장림역</td>\n",
       "      <td>NaN</td>\n",
       "      <td>35.081090</td>\n",
       "      <td>128.977500</td>\n",
       "      <td>2854.0</td>\n",
       "      <td>2636.0</td>\n",
       "      <td>5490.0</td>\n",
       "      <td>89.0</td>\n",
       "      <td>20.0</td>\n",
       "      <td>20.0</td>\n",
       "    </tr>\n",
       "  </tbody>\n",
       "</table>\n",
       "</div>"
      ],
      "text/plain": [
       "   호선       역사명  환승        역위도         역경도   일평균승차   일평균하차  일평균승하차    순위  \\\n",
       "0   1  다대포해수욕장역 NaN  35.048670  128.964100  4264.0  3497.0  7761.0  69.0   \n",
       "1   1     다대포항역 NaN  35.057820  128.971300  2900.0  3321.0  6221.0  80.0   \n",
       "2   1       낫개역 NaN  35.065265  128.979873  4104.0  4223.0  8327.0  64.0   \n",
       "3   1      신장림역 NaN  35.074433  128.977041  2777.0  2583.0  5360.0  91.0   \n",
       "4   1       장림역 NaN  35.081090  128.977500  2854.0  2636.0  5490.0  89.0   \n",
       "\n",
       "   하행 대기시간  상행 대기시간  \n",
       "0     20.0      0.0  \n",
       "1     20.0     20.0  \n",
       "2     20.0     20.0  \n",
       "3     20.0     20.0  \n",
       "4     20.0     20.0  "
      ]
     },
     "execution_count": 29,
     "metadata": {},
     "output_type": "execute_result"
    }
   ],
   "source": [
    "df = pd.read_excel(f'../data/total_data/{use_file[3]}')\n",
    "df.head()"
   ]
  },
  {
   "cell_type": "code",
   "execution_count": 30,
   "metadata": {},
   "outputs": [],
   "source": [
    "df['일평균승하차 stanine'] = round(round(df['일평균승하차'].rank(pct=True), 2) * 10, 0)"
   ]
  },
  {
   "cell_type": "code",
   "execution_count": 31,
   "metadata": {},
   "outputs": [
    {
     "data": {
      "text/html": [
       "<div>\n",
       "<style scoped>\n",
       "    .dataframe tbody tr th:only-of-type {\n",
       "        vertical-align: middle;\n",
       "    }\n",
       "\n",
       "    .dataframe tbody tr th {\n",
       "        vertical-align: top;\n",
       "    }\n",
       "\n",
       "    .dataframe thead th {\n",
       "        text-align: right;\n",
       "    }\n",
       "</style>\n",
       "<table border=\"1\" class=\"dataframe\">\n",
       "  <thead>\n",
       "    <tr style=\"text-align: right;\">\n",
       "      <th></th>\n",
       "      <th>호선</th>\n",
       "      <th>역사명</th>\n",
       "      <th>환승</th>\n",
       "      <th>역위도</th>\n",
       "      <th>역경도</th>\n",
       "      <th>일평균승차</th>\n",
       "      <th>일평균하차</th>\n",
       "      <th>일평균승하차</th>\n",
       "      <th>순위</th>\n",
       "      <th>하행 대기시간</th>\n",
       "      <th>상행 대기시간</th>\n",
       "      <th>일평균승하차 stanine</th>\n",
       "    </tr>\n",
       "  </thead>\n",
       "  <tbody>\n",
       "    <tr>\n",
       "      <th>0</th>\n",
       "      <td>1</td>\n",
       "      <td>다대포해수욕장역</td>\n",
       "      <td>NaN</td>\n",
       "      <td>35.048670</td>\n",
       "      <td>128.964100</td>\n",
       "      <td>4264.0</td>\n",
       "      <td>3497.0</td>\n",
       "      <td>7761.0</td>\n",
       "      <td>69.0</td>\n",
       "      <td>20.0</td>\n",
       "      <td>0.0</td>\n",
       "      <td>4.0</td>\n",
       "    </tr>\n",
       "    <tr>\n",
       "      <th>1</th>\n",
       "      <td>1</td>\n",
       "      <td>다대포항역</td>\n",
       "      <td>NaN</td>\n",
       "      <td>35.057820</td>\n",
       "      <td>128.971300</td>\n",
       "      <td>2900.0</td>\n",
       "      <td>3321.0</td>\n",
       "      <td>6221.0</td>\n",
       "      <td>80.0</td>\n",
       "      <td>20.0</td>\n",
       "      <td>20.0</td>\n",
       "      <td>3.0</td>\n",
       "    </tr>\n",
       "    <tr>\n",
       "      <th>2</th>\n",
       "      <td>1</td>\n",
       "      <td>낫개역</td>\n",
       "      <td>NaN</td>\n",
       "      <td>35.065265</td>\n",
       "      <td>128.979873</td>\n",
       "      <td>4104.0</td>\n",
       "      <td>4223.0</td>\n",
       "      <td>8327.0</td>\n",
       "      <td>64.0</td>\n",
       "      <td>20.0</td>\n",
       "      <td>20.0</td>\n",
       "      <td>4.0</td>\n",
       "    </tr>\n",
       "    <tr>\n",
       "      <th>3</th>\n",
       "      <td>1</td>\n",
       "      <td>신장림역</td>\n",
       "      <td>NaN</td>\n",
       "      <td>35.074433</td>\n",
       "      <td>128.977041</td>\n",
       "      <td>2777.0</td>\n",
       "      <td>2583.0</td>\n",
       "      <td>5360.0</td>\n",
       "      <td>91.0</td>\n",
       "      <td>20.0</td>\n",
       "      <td>20.0</td>\n",
       "      <td>2.0</td>\n",
       "    </tr>\n",
       "    <tr>\n",
       "      <th>4</th>\n",
       "      <td>1</td>\n",
       "      <td>장림역</td>\n",
       "      <td>NaN</td>\n",
       "      <td>35.081090</td>\n",
       "      <td>128.977500</td>\n",
       "      <td>2854.0</td>\n",
       "      <td>2636.0</td>\n",
       "      <td>5490.0</td>\n",
       "      <td>89.0</td>\n",
       "      <td>20.0</td>\n",
       "      <td>20.0</td>\n",
       "      <td>2.0</td>\n",
       "    </tr>\n",
       "  </tbody>\n",
       "</table>\n",
       "</div>"
      ],
      "text/plain": [
       "   호선       역사명  환승        역위도         역경도   일평균승차   일평균하차  일평균승하차    순위  \\\n",
       "0   1  다대포해수욕장역 NaN  35.048670  128.964100  4264.0  3497.0  7761.0  69.0   \n",
       "1   1     다대포항역 NaN  35.057820  128.971300  2900.0  3321.0  6221.0  80.0   \n",
       "2   1       낫개역 NaN  35.065265  128.979873  4104.0  4223.0  8327.0  64.0   \n",
       "3   1      신장림역 NaN  35.074433  128.977041  2777.0  2583.0  5360.0  91.0   \n",
       "4   1       장림역 NaN  35.081090  128.977500  2854.0  2636.0  5490.0  89.0   \n",
       "\n",
       "   하행 대기시간  상행 대기시간  일평균승하차 stanine  \n",
       "0     20.0      0.0             4.0  \n",
       "1     20.0     20.0             3.0  \n",
       "2     20.0     20.0             4.0  \n",
       "3     20.0     20.0             2.0  \n",
       "4     20.0     20.0             2.0  "
      ]
     },
     "execution_count": 31,
     "metadata": {},
     "output_type": "execute_result"
    }
   ],
   "source": [
    "df.head()"
   ]
  },
  {
   "cell_type": "code",
   "execution_count": 32,
   "metadata": {},
   "outputs": [
    {
     "data": {
      "text/plain": [
       "array([ 4.,  3.,  2.,  6., 10.,  7.,  9.,  8.,  5.,  1.,  0., nan])"
      ]
     },
     "execution_count": 32,
     "metadata": {},
     "output_type": "execute_result"
    }
   ],
   "source": [
    "df['일평균승하차 stanine'].unique()"
   ]
  },
  {
   "cell_type": "code",
   "execution_count": 39,
   "metadata": {},
   "outputs": [
    {
     "data": {
      "text/plain": [
       "array([ 4.,  3.,  2.,  6., 10.,  7.,  9.,  8.,  5.,  1.,  0.])"
      ]
     },
     "execution_count": 39,
     "metadata": {},
     "output_type": "execute_result"
    }
   ],
   "source": [
    "df['일평균승하차 stanine'] = df['일평균승하차 stanine'].fillna(0)\n",
    "df['일평균승하차 stanine'].unique()"
   ]
  },
  {
   "cell_type": "code",
   "execution_count": 40,
   "metadata": {},
   "outputs": [
    {
     "name": "stdout",
     "output_type": "stream",
     "text": [
      "<class 'pandas.core.frame.DataFrame'>\n",
      "RangeIndex: 114 entries, 0 to 113\n",
      "Data columns (total 12 columns):\n",
      " #   Column          Non-Null Count  Dtype  \n",
      "---  ------          --------------  -----  \n",
      " 0   호선              114 non-null    int64  \n",
      " 1   역사명             114 non-null    object \n",
      " 2   환승              12 non-null     float64\n",
      " 3   역위도             114 non-null    float64\n",
      " 4   역경도             114 non-null    float64\n",
      " 5   일평균승차           112 non-null    float64\n",
      " 6   일평균하차           112 non-null    float64\n",
      " 7   일평균승하차          112 non-null    float64\n",
      " 8   순위              112 non-null    float64\n",
      " 9   하행 대기시간         112 non-null    float64\n",
      " 10  상행 대기시간         112 non-null    float64\n",
      " 11  일평균승하차 stanine  114 non-null    float64\n",
      "dtypes: float64(10), int64(1), object(1)\n",
      "memory usage: 10.8+ KB\n"
     ]
    }
   ],
   "source": [
    "df.info()"
   ]
  },
  {
   "cell_type": "code",
   "execution_count": 41,
   "metadata": {},
   "outputs": [
    {
     "data": {
      "text/plain": [
       "count      112.000000\n",
       "mean     12404.830357\n",
       "std       9325.171507\n",
       "min        346.000000\n",
       "25%       5859.000000\n",
       "50%       9711.500000\n",
       "75%      15917.000000\n",
       "max      57826.000000\n",
       "Name: 일평균승하차, dtype: float64"
      ]
     },
     "execution_count": 41,
     "metadata": {},
     "output_type": "execute_result"
    }
   ],
   "source": [
    "df.일평균승하차.describe()"
   ]
  },
  {
   "cell_type": "code",
   "execution_count": 44,
   "metadata": {},
   "outputs": [
    {
     "data": {
      "text/plain": [
       "31.282169028337897"
      ]
     },
     "execution_count": 44,
     "metadata": {},
     "output_type": "execute_result"
    }
   ],
   "source": [
    "df.일평균승하차[0]/df.일평균승하차.mean()*0.5*100"
   ]
  },
  {
   "cell_type": "code",
   "execution_count": 47,
   "metadata": {},
   "outputs": [
    {
     "data": {
      "text/plain": [
       "4.661571205341238"
      ]
     },
     "execution_count": 47,
     "metadata": {},
     "output_type": "execute_result"
    }
   ],
   "source": [
    "df.일평균승하차.max()/df.일평균승하차.mean()"
   ]
  },
  {
   "cell_type": "code",
   "execution_count": 5,
   "metadata": {},
   "outputs": [
    {
     "data": {
      "text/html": [
       "<div>\n",
       "<style scoped>\n",
       "    .dataframe tbody tr th:only-of-type {\n",
       "        vertical-align: middle;\n",
       "    }\n",
       "\n",
       "    .dataframe tbody tr th {\n",
       "        vertical-align: top;\n",
       "    }\n",
       "\n",
       "    .dataframe thead th {\n",
       "        text-align: right;\n",
       "    }\n",
       "</style>\n",
       "<table border=\"1\" class=\"dataframe\">\n",
       "  <thead>\n",
       "    <tr style=\"text-align: right;\">\n",
       "      <th></th>\n",
       "      <th>구군</th>\n",
       "      <th>평균</th>\n",
       "      <th>1월</th>\n",
       "      <th>2월</th>\n",
       "      <th>3월</th>\n",
       "      <th>4월</th>\n",
       "      <th>5월</th>\n",
       "      <th>6월</th>\n",
       "      <th>7월</th>\n",
       "      <th>8월</th>\n",
       "      <th>9월</th>\n",
       "      <th>10월</th>\n",
       "      <th>11월</th>\n",
       "      <th>12월</th>\n",
       "    </tr>\n",
       "  </thead>\n",
       "  <tbody>\n",
       "    <tr>\n",
       "      <th>0</th>\n",
       "      <td>강서구</td>\n",
       "      <td>월</td>\n",
       "      <td>325284.3900</td>\n",
       "      <td>323049.8700</td>\n",
       "      <td>335120.0600</td>\n",
       "      <td>340570.520</td>\n",
       "      <td>332289.7700</td>\n",
       "      <td>340678.4500</td>\n",
       "      <td>337488.640</td>\n",
       "      <td>328374.7400</td>\n",
       "      <td>328764.380</td>\n",
       "      <td>333414.260</td>\n",
       "      <td>340405.1000</td>\n",
       "      <td>337753.1500</td>\n",
       "    </tr>\n",
       "    <tr>\n",
       "      <th>1</th>\n",
       "      <td>강서구</td>\n",
       "      <td>일</td>\n",
       "      <td>16264.2195</td>\n",
       "      <td>16152.4935</td>\n",
       "      <td>16756.0030</td>\n",
       "      <td>17028.526</td>\n",
       "      <td>16614.4885</td>\n",
       "      <td>17033.9225</td>\n",
       "      <td>16874.432</td>\n",
       "      <td>16418.7370</td>\n",
       "      <td>16438.219</td>\n",
       "      <td>16670.713</td>\n",
       "      <td>17020.2550</td>\n",
       "      <td>16887.6575</td>\n",
       "    </tr>\n",
       "    <tr>\n",
       "      <th>2</th>\n",
       "      <td>금정구</td>\n",
       "      <td>월</td>\n",
       "      <td>482598.8900</td>\n",
       "      <td>477047.1100</td>\n",
       "      <td>484669.5900</td>\n",
       "      <td>490864.460</td>\n",
       "      <td>487435.4500</td>\n",
       "      <td>484936.0000</td>\n",
       "      <td>483898.580</td>\n",
       "      <td>482964.2300</td>\n",
       "      <td>487082.060</td>\n",
       "      <td>484633.900</td>\n",
       "      <td>485502.5900</td>\n",
       "      <td>488392.9900</td>\n",
       "    </tr>\n",
       "    <tr>\n",
       "      <th>3</th>\n",
       "      <td>금정구</td>\n",
       "      <td>일</td>\n",
       "      <td>24129.9445</td>\n",
       "      <td>23852.3555</td>\n",
       "      <td>24233.4795</td>\n",
       "      <td>24543.223</td>\n",
       "      <td>24371.7725</td>\n",
       "      <td>24246.8000</td>\n",
       "      <td>24194.929</td>\n",
       "      <td>24148.2115</td>\n",
       "      <td>24354.103</td>\n",
       "      <td>24231.695</td>\n",
       "      <td>24275.1295</td>\n",
       "      <td>24419.6495</td>\n",
       "    </tr>\n",
       "    <tr>\n",
       "      <th>4</th>\n",
       "      <td>기장군</td>\n",
       "      <td>월</td>\n",
       "      <td>341181.1700</td>\n",
       "      <td>343398.7900</td>\n",
       "      <td>345588.9500</td>\n",
       "      <td>358682.040</td>\n",
       "      <td>356153.2800</td>\n",
       "      <td>348500.3200</td>\n",
       "      <td>350763.400</td>\n",
       "      <td>349328.5900</td>\n",
       "      <td>348077.970</td>\n",
       "      <td>348449.770</td>\n",
       "      <td>345905.8900</td>\n",
       "      <td>345960.3100</td>\n",
       "    </tr>\n",
       "  </tbody>\n",
       "</table>\n",
       "</div>"
      ],
      "text/plain": [
       "    구군 평균           1월           2월           3월          4월           5월  \\\n",
       "0  강서구  월  325284.3900  323049.8700  335120.0600  340570.520  332289.7700   \n",
       "1  강서구  일   16264.2195   16152.4935   16756.0030   17028.526   16614.4885   \n",
       "2  금정구  월  482598.8900  477047.1100  484669.5900  490864.460  487435.4500   \n",
       "3  금정구  일   24129.9445   23852.3555   24233.4795   24543.223   24371.7725   \n",
       "4  기장군  월  341181.1700  343398.7900  345588.9500  358682.040  356153.2800   \n",
       "\n",
       "            6월          7월           8월          9월         10월          11월  \\\n",
       "0  340678.4500  337488.640  328374.7400  328764.380  333414.260  340405.1000   \n",
       "1   17033.9225   16874.432   16418.7370   16438.219   16670.713   17020.2550   \n",
       "2  484936.0000  483898.580  482964.2300  487082.060  484633.900  485502.5900   \n",
       "3   24246.8000   24194.929   24148.2115   24354.103   24231.695   24275.1295   \n",
       "4  348500.3200  350763.400  349328.5900  348077.970  348449.770  345905.8900   \n",
       "\n",
       "           12월  \n",
       "0  337753.1500  \n",
       "1   16887.6575  \n",
       "2  488392.9900  \n",
       "3   24419.6495  \n",
       "4  345960.3100  "
      ]
     },
     "execution_count": 5,
     "metadata": {},
     "output_type": "execute_result"
    }
   ],
   "source": [
    "df = pd.read_excel('../data/total_data/출퇴근시간 유동인구_2021.xlsx')\n",
    "df.head()"
   ]
  },
  {
   "cell_type": "code",
   "execution_count": 10,
   "metadata": {},
   "outputs": [],
   "source": [
    "df[df['평균']=='월'].to_excel('../data/total_data/출퇴근시간 유동인구_2021_월.xlsx')"
   ]
  },
  {
   "cell_type": "code",
   "execution_count": 11,
   "metadata": {},
   "outputs": [],
   "source": [
    "df[df['평균']=='일'].to_excel('../data/total_data/출퇴근시간 유동인구_2021_일.xlsx')"
   ]
  }
 ],
 "metadata": {
  "kernelspec": {
   "display_name": "Python 3.10.8 64-bit (microsoft store)",
   "language": "python",
   "name": "python3"
  },
  "language_info": {
   "codemirror_mode": {
    "name": "ipython",
    "version": 3
   },
   "file_extension": ".py",
   "mimetype": "text/x-python",
   "name": "python",
   "nbconvert_exporter": "python",
   "pygments_lexer": "ipython3",
   "version": "3.10.8"
  },
  "orig_nbformat": 4,
  "vscode": {
   "interpreter": {
    "hash": "614ab989cdc66a649d1bb5ae325f2f1314093ceadee94b2deaa33c97b811aaf8"
   }
  }
 },
 "nbformat": 4,
 "nbformat_minor": 2
}
