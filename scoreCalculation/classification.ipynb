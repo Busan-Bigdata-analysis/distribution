{
 "cells": [
  {
   "cell_type": "code",
   "execution_count": 22,
   "metadata": {},
   "outputs": [],
   "source": [
    "from random import *\n",
    "import pandas as pd"
   ]
  },
  {
   "cell_type": "code",
   "execution_count": 4,
   "metadata": {},
   "outputs": [
    {
     "data": {
      "text/plain": [
       "100"
      ]
     },
     "execution_count": 4,
     "metadata": {},
     "output_type": "execute_result"
    }
   ],
   "source": [
    "numbers = []\n",
    "for i in range(100):\n",
    "    numbers.append(randint(1,100))"
   ]
  },
  {
   "cell_type": "code",
   "execution_count": 5,
   "metadata": {},
   "outputs": [
    {
     "data": {
      "text/plain": [
       "[44,\n",
       " 57,\n",
       " 60,\n",
       " 47,\n",
       " 52,\n",
       " 97,\n",
       " 42,\n",
       " 7,\n",
       " 19,\n",
       " 95,\n",
       " 78,\n",
       " 72,\n",
       " 66,\n",
       " 49,\n",
       " 49,\n",
       " 82,\n",
       " 43,\n",
       " 48,\n",
       " 100,\n",
       " 63,\n",
       " 4,\n",
       " 3,\n",
       " 56,\n",
       " 96,\n",
       " 88,\n",
       " 42,\n",
       " 83,\n",
       " 33,\n",
       " 93,\n",
       " 23,\n",
       " 5,\n",
       " 92,\n",
       " 24,\n",
       " 99,\n",
       " 88,\n",
       " 13,\n",
       " 69,\n",
       " 59,\n",
       " 71,\n",
       " 82,\n",
       " 11,\n",
       " 2,\n",
       " 47,\n",
       " 35,\n",
       " 21,\n",
       " 40,\n",
       " 57,\n",
       " 38,\n",
       " 87,\n",
       " 11,\n",
       " 8,\n",
       " 35,\n",
       " 62,\n",
       " 15,\n",
       " 33,\n",
       " 95,\n",
       " 4,\n",
       " 97,\n",
       " 40,\n",
       " 76,\n",
       " 69,\n",
       " 58,\n",
       " 29,\n",
       " 21,\n",
       " 40,\n",
       " 50,\n",
       " 17,\n",
       " 40,\n",
       " 65,\n",
       " 53,\n",
       " 11,\n",
       " 14,\n",
       " 67,\n",
       " 78,\n",
       " 64,\n",
       " 40,\n",
       " 22,\n",
       " 36,\n",
       " 20,\n",
       " 91,\n",
       " 89,\n",
       " 30,\n",
       " 31,\n",
       " 100,\n",
       " 5,\n",
       " 44,\n",
       " 87,\n",
       " 34,\n",
       " 31,\n",
       " 95,\n",
       " 2,\n",
       " 83,\n",
       " 24,\n",
       " 70,\n",
       " 56,\n",
       " 40,\n",
       " 71,\n",
       " 36,\n",
       " 21,\n",
       " 90]"
      ]
     },
     "execution_count": 5,
     "metadata": {},
     "output_type": "execute_result"
    }
   ],
   "source": [
    "numbers"
   ]
  },
  {
   "cell_type": "code",
   "execution_count": 14,
   "metadata": {},
   "outputs": [
    {
     "data": {
      "text/plain": [
       "50.31"
      ]
     },
     "execution_count": 14,
     "metadata": {},
     "output_type": "execute_result"
    }
   ],
   "source": [
    "total = 0\n",
    "\n",
    "for number in numbers:\n",
    "    total += number\n",
    "\n",
    "total/100"
   ]
  },
  {
   "cell_type": "code",
   "execution_count": 15,
   "metadata": {},
   "outputs": [],
   "source": [
    "avg = total/100"
   ]
  },
  {
   "cell_type": "code",
   "execution_count": 18,
   "metadata": {},
   "outputs": [
    {
     "data": {
      "text/plain": [
       "43.72888093818326"
      ]
     },
     "execution_count": 18,
     "metadata": {},
     "output_type": "execute_result"
    }
   ],
   "source": [
    "test = numbers[0]/avg*100*0.5\n",
    "test"
   ]
  },
  {
   "cell_type": "code",
   "execution_count": 19,
   "metadata": {},
   "outputs": [],
   "source": [
    "def getGrade(per):\n",
    "    if 0 < per < 4:\n",
    "        return 1\n",
    "    elif per < 11:\n",
    "        return 2\n",
    "    elif per < 23:\n",
    "        return 3\n",
    "    elif per < 40:\n",
    "        return 4\n",
    "    elif per < 60:\n",
    "        return 5\n",
    "    elif per < 77:\n",
    "        return 6\n",
    "    elif per < 89:\n",
    "        return 7\n",
    "    elif per < 96:\n",
    "        return 8\n",
    "    elif 100 > per > 96:\n",
    "        return 9\n",
    "    else:\n",
    "        print('out of grade')"
   ]
  },
  {
   "cell_type": "code",
   "execution_count": 20,
   "metadata": {},
   "outputs": [],
   "source": [
    "numNgrade = []\n",
    "\n",
    "for num in numbers:\n",
    "    per = num/avg*100*0.5\n",
    "    numNgrade.append([num,getGrade(per)])"
   ]
  },
  {
   "cell_type": "code",
   "execution_count": 21,
   "metadata": {},
   "outputs": [
    {
     "data": {
      "text/plain": [
       "[[44, 5],\n",
       " [57, 5],\n",
       " [60, 5],\n",
       " [47, 5],\n",
       " [52, 5],\n",
       " [97, 9],\n",
       " [42, 5],\n",
       " [7, 2],\n",
       " [19, 3],\n",
       " [95, 8],\n",
       " [78, 7],\n",
       " [72, 6],\n",
       " [66, 6],\n",
       " [49, 5],\n",
       " [49, 5],\n",
       " [82, 7],\n",
       " [43, 5],\n",
       " [48, 5],\n",
       " [100, 9],\n",
       " [63, 6],\n",
       " [4, 1],\n",
       " [3, 1],\n",
       " [56, 5],\n",
       " [96, 8],\n",
       " [88, 7],\n",
       " [42, 5],\n",
       " [83, 7],\n",
       " [33, 4],\n",
       " [93, 8],\n",
       " [23, 3],\n",
       " [5, 2],\n",
       " [92, 8],\n",
       " [24, 4],\n",
       " [99, 9],\n",
       " [88, 7],\n",
       " [13, 3],\n",
       " [69, 6],\n",
       " [59, 5],\n",
       " [71, 6],\n",
       " [82, 7],\n",
       " [11, 2],\n",
       " [2, 1],\n",
       " [47, 5],\n",
       " [35, 4],\n",
       " [21, 3],\n",
       " [40, 4],\n",
       " [57, 5],\n",
       " [38, 4],\n",
       " [87, 7],\n",
       " [11, 2],\n",
       " [8, 2],\n",
       " [35, 4],\n",
       " [62, 6],\n",
       " [15, 3],\n",
       " [33, 4],\n",
       " [95, 8],\n",
       " [4, 1],\n",
       " [97, 9],\n",
       " [40, 4],\n",
       " [76, 6],\n",
       " [69, 6],\n",
       " [58, 5],\n",
       " [29, 4],\n",
       " [21, 3],\n",
       " [40, 4],\n",
       " [50, 5],\n",
       " [17, 3],\n",
       " [40, 4],\n",
       " [65, 6],\n",
       " [53, 5],\n",
       " [11, 2],\n",
       " [14, 3],\n",
       " [67, 6],\n",
       " [78, 7],\n",
       " [64, 6],\n",
       " [40, 4],\n",
       " [22, 3],\n",
       " [36, 4],\n",
       " [20, 3],\n",
       " [91, 8],\n",
       " [89, 7],\n",
       " [30, 4],\n",
       " [31, 4],\n",
       " [100, 9],\n",
       " [5, 2],\n",
       " [44, 5],\n",
       " [87, 7],\n",
       " [34, 4],\n",
       " [31, 4],\n",
       " [95, 8],\n",
       " [2, 1],\n",
       " [83, 7],\n",
       " [24, 4],\n",
       " [70, 6],\n",
       " [56, 5],\n",
       " [40, 4],\n",
       " [71, 6],\n",
       " [36, 4],\n",
       " [21, 3],\n",
       " [90, 8]]"
      ]
     },
     "execution_count": 21,
     "metadata": {},
     "output_type": "execute_result"
    }
   ],
   "source": [
    "numNgrade"
   ]
  },
  {
   "cell_type": "code",
   "execution_count": 24,
   "metadata": {},
   "outputs": [
    {
     "data": {
      "text/html": [
       "<div>\n",
       "<style scoped>\n",
       "    .dataframe tbody tr th:only-of-type {\n",
       "        vertical-align: middle;\n",
       "    }\n",
       "\n",
       "    .dataframe tbody tr th {\n",
       "        vertical-align: top;\n",
       "    }\n",
       "\n",
       "    .dataframe thead th {\n",
       "        text-align: right;\n",
       "    }\n",
       "</style>\n",
       "<table border=\"1\" class=\"dataframe\">\n",
       "  <thead>\n",
       "    <tr style=\"text-align: right;\">\n",
       "      <th></th>\n",
       "      <th>숫자</th>\n",
       "      <th>등급</th>\n",
       "    </tr>\n",
       "  </thead>\n",
       "  <tbody>\n",
       "    <tr>\n",
       "      <th>0</th>\n",
       "      <td>44</td>\n",
       "      <td>5</td>\n",
       "    </tr>\n",
       "    <tr>\n",
       "      <th>1</th>\n",
       "      <td>57</td>\n",
       "      <td>5</td>\n",
       "    </tr>\n",
       "    <tr>\n",
       "      <th>2</th>\n",
       "      <td>60</td>\n",
       "      <td>5</td>\n",
       "    </tr>\n",
       "    <tr>\n",
       "      <th>3</th>\n",
       "      <td>47</td>\n",
       "      <td>5</td>\n",
       "    </tr>\n",
       "    <tr>\n",
       "      <th>4</th>\n",
       "      <td>52</td>\n",
       "      <td>5</td>\n",
       "    </tr>\n",
       "    <tr>\n",
       "      <th>...</th>\n",
       "      <td>...</td>\n",
       "      <td>...</td>\n",
       "    </tr>\n",
       "    <tr>\n",
       "      <th>95</th>\n",
       "      <td>40</td>\n",
       "      <td>4</td>\n",
       "    </tr>\n",
       "    <tr>\n",
       "      <th>96</th>\n",
       "      <td>71</td>\n",
       "      <td>6</td>\n",
       "    </tr>\n",
       "    <tr>\n",
       "      <th>97</th>\n",
       "      <td>36</td>\n",
       "      <td>4</td>\n",
       "    </tr>\n",
       "    <tr>\n",
       "      <th>98</th>\n",
       "      <td>21</td>\n",
       "      <td>3</td>\n",
       "    </tr>\n",
       "    <tr>\n",
       "      <th>99</th>\n",
       "      <td>90</td>\n",
       "      <td>8</td>\n",
       "    </tr>\n",
       "  </tbody>\n",
       "</table>\n",
       "<p>100 rows × 2 columns</p>\n",
       "</div>"
      ],
      "text/plain": [
       "    숫자  등급\n",
       "0   44   5\n",
       "1   57   5\n",
       "2   60   5\n",
       "3   47   5\n",
       "4   52   5\n",
       "..  ..  ..\n",
       "95  40   4\n",
       "96  71   6\n",
       "97  36   4\n",
       "98  21   3\n",
       "99  90   8\n",
       "\n",
       "[100 rows x 2 columns]"
      ]
     },
     "execution_count": 24,
     "metadata": {},
     "output_type": "execute_result"
    }
   ],
   "source": [
    "df = pd.DataFrame(numNgrade,columns=['숫자','등급'])\n",
    "df"
   ]
  },
  {
   "cell_type": "code",
   "execution_count": 34,
   "metadata": {},
   "outputs": [
    {
     "data": {
      "text/plain": [
       "array([5, 9, 2, 3, 8, 7, 6, 1, 4], dtype=int64)"
      ]
     },
     "execution_count": 34,
     "metadata": {},
     "output_type": "execute_result"
    }
   ],
   "source": [
    "df.등급.unique()"
   ]
  }
 ],
 "metadata": {
  "kernelspec": {
   "display_name": "Python 3.10.8 64-bit (microsoft store)",
   "language": "python",
   "name": "python3"
  },
  "language_info": {
   "codemirror_mode": {
    "name": "ipython",
    "version": 3
   },
   "file_extension": ".py",
   "mimetype": "text/x-python",
   "name": "python",
   "nbconvert_exporter": "python",
   "pygments_lexer": "ipython3",
   "version": "3.10.8"
  },
  "orig_nbformat": 4,
  "vscode": {
   "interpreter": {
    "hash": "614ab989cdc66a649d1bb5ae325f2f1314093ceadee94b2deaa33c97b811aaf8"
   }
  }
 },
 "nbformat": 4,
 "nbformat_minor": 2
}
